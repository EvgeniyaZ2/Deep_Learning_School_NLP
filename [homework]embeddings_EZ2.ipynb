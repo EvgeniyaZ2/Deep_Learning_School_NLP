{
  "nbformat": 4,
  "nbformat_minor": 0,
  "metadata": {
    "colab": {
      "name": "[homework]embeddings_10.08.ipynb",
      "provenance": [],
      "collapsed_sections": []
    },
    "kernelspec": {
      "display_name": "Python 3",
      "language": "python",
      "name": "python3"
    },
    "language_info": {
      "codemirror_mode": {
        "name": "ipython",
        "version": 3
      },
      "file_extension": ".py",
      "mimetype": "text/x-python",
      "name": "python",
      "nbconvert_exporter": "python",
      "pygments_lexer": "ipython3",
      "version": "3.8.5"
    },
    "widgets": {
      "application/vnd.jupyter.widget-state+json": {
        "bb7c1a120b524376b161b2f9714f5113": {
          "model_module": "@jupyter-widgets/controls",
          "model_name": "HBoxModel",
          "model_module_version": "1.5.0",
          "state": {
            "_dom_classes": [],
            "_model_module": "@jupyter-widgets/controls",
            "_model_module_version": "1.5.0",
            "_model_name": "HBoxModel",
            "_view_count": null,
            "_view_module": "@jupyter-widgets/controls",
            "_view_module_version": "1.5.0",
            "_view_name": "HBoxView",
            "box_style": "",
            "children": [
              "IPY_MODEL_7fa3fb0c4bb3490eac7c5b55bb0c8f99",
              "IPY_MODEL_71002d18610349b9aa0ff8f029b75b76"
            ],
            "layout": "IPY_MODEL_62e4e2e87e0a4de3a1d783821f73615d"
          }
        },
        "62e4e2e87e0a4de3a1d783821f73615d": {
          "model_module": "@jupyter-widgets/base",
          "model_name": "LayoutModel",
          "model_module_version": "1.2.0",
          "state": {
            "_model_module": "@jupyter-widgets/base",
            "_model_module_version": "1.2.0",
            "_model_name": "LayoutModel",
            "_view_count": null,
            "_view_module": "@jupyter-widgets/base",
            "_view_module_version": "1.2.0",
            "_view_name": "LayoutView",
            "align_content": null,
            "align_items": null,
            "align_self": null,
            "border": null,
            "bottom": null,
            "display": null,
            "flex": null,
            "flex_flow": null,
            "grid_area": null,
            "grid_auto_columns": null,
            "grid_auto_flow": null,
            "grid_auto_rows": null,
            "grid_column": null,
            "grid_gap": null,
            "grid_row": null,
            "grid_template_areas": null,
            "grid_template_columns": null,
            "grid_template_rows": null,
            "height": null,
            "justify_content": null,
            "justify_items": null,
            "left": null,
            "margin": null,
            "max_height": null,
            "max_width": null,
            "min_height": null,
            "min_width": null,
            "object_fit": null,
            "object_position": null,
            "order": null,
            "overflow": null,
            "overflow_x": null,
            "overflow_y": null,
            "padding": null,
            "right": null,
            "top": null,
            "visibility": null,
            "width": null
          }
        },
        "7fa3fb0c4bb3490eac7c5b55bb0c8f99": {
          "model_module": "@jupyter-widgets/controls",
          "model_name": "FloatProgressModel",
          "model_module_version": "1.5.0",
          "state": {
            "_dom_classes": [],
            "_model_module": "@jupyter-widgets/controls",
            "_model_module_version": "1.5.0",
            "_model_name": "FloatProgressModel",
            "_view_count": null,
            "_view_module": "@jupyter-widgets/controls",
            "_view_module_version": "1.5.0",
            "_view_name": "ProgressView",
            "bar_style": "success",
            "description": "Epoch 1. Train Loss: 0.4911: 100%",
            "description_tooltip": null,
            "layout": "IPY_MODEL_de871aba294144548e53732c4386c194",
            "max": 1000,
            "min": 0,
            "orientation": "horizontal",
            "style": "IPY_MODEL_a53a961b318a40d5aa76a28d5b9d0597",
            "value": 1000
          }
        },
        "71002d18610349b9aa0ff8f029b75b76": {
          "model_module": "@jupyter-widgets/controls",
          "model_name": "HTMLModel",
          "model_module_version": "1.5.0",
          "state": {
            "_dom_classes": [],
            "_model_module": "@jupyter-widgets/controls",
            "_model_module_version": "1.5.0",
            "_model_name": "HTMLModel",
            "_view_count": null,
            "_view_module": "@jupyter-widgets/controls",
            "_view_module_version": "1.5.0",
            "_view_name": "HTMLView",
            "description": "",
            "description_tooltip": null,
            "layout": "IPY_MODEL_1c9d069f44fa4e31a462d4ebe617d876",
            "placeholder": "​",
            "style": "IPY_MODEL_a257c4c00ac04d12994117cbd5ae38d5",
            "value": " 1000/1000 [11:05&lt;00:00,  1.50it/s]"
          }
        },
        "a53a961b318a40d5aa76a28d5b9d0597": {
          "model_module": "@jupyter-widgets/controls",
          "model_name": "ProgressStyleModel",
          "model_module_version": "1.5.0",
          "state": {
            "_model_module": "@jupyter-widgets/controls",
            "_model_module_version": "1.5.0",
            "_model_name": "ProgressStyleModel",
            "_view_count": null,
            "_view_module": "@jupyter-widgets/base",
            "_view_module_version": "1.2.0",
            "_view_name": "StyleView",
            "bar_color": null,
            "description_width": "initial"
          }
        },
        "de871aba294144548e53732c4386c194": {
          "model_module": "@jupyter-widgets/base",
          "model_name": "LayoutModel",
          "model_module_version": "1.2.0",
          "state": {
            "_model_module": "@jupyter-widgets/base",
            "_model_module_version": "1.2.0",
            "_model_name": "LayoutModel",
            "_view_count": null,
            "_view_module": "@jupyter-widgets/base",
            "_view_module_version": "1.2.0",
            "_view_name": "LayoutView",
            "align_content": null,
            "align_items": null,
            "align_self": null,
            "border": null,
            "bottom": null,
            "display": null,
            "flex": null,
            "flex_flow": null,
            "grid_area": null,
            "grid_auto_columns": null,
            "grid_auto_flow": null,
            "grid_auto_rows": null,
            "grid_column": null,
            "grid_gap": null,
            "grid_row": null,
            "grid_template_areas": null,
            "grid_template_columns": null,
            "grid_template_rows": null,
            "height": null,
            "justify_content": null,
            "justify_items": null,
            "left": null,
            "margin": null,
            "max_height": null,
            "max_width": null,
            "min_height": null,
            "min_width": null,
            "object_fit": null,
            "object_position": null,
            "order": null,
            "overflow": null,
            "overflow_x": null,
            "overflow_y": null,
            "padding": null,
            "right": null,
            "top": null,
            "visibility": null,
            "width": null
          }
        },
        "a257c4c00ac04d12994117cbd5ae38d5": {
          "model_module": "@jupyter-widgets/controls",
          "model_name": "DescriptionStyleModel",
          "model_module_version": "1.5.0",
          "state": {
            "_model_module": "@jupyter-widgets/controls",
            "_model_module_version": "1.5.0",
            "_model_name": "DescriptionStyleModel",
            "_view_count": null,
            "_view_module": "@jupyter-widgets/base",
            "_view_module_version": "1.2.0",
            "_view_name": "StyleView",
            "description_width": ""
          }
        },
        "1c9d069f44fa4e31a462d4ebe617d876": {
          "model_module": "@jupyter-widgets/base",
          "model_name": "LayoutModel",
          "model_module_version": "1.2.0",
          "state": {
            "_model_module": "@jupyter-widgets/base",
            "_model_module_version": "1.2.0",
            "_model_name": "LayoutModel",
            "_view_count": null,
            "_view_module": "@jupyter-widgets/base",
            "_view_module_version": "1.2.0",
            "_view_name": "LayoutView",
            "align_content": null,
            "align_items": null,
            "align_self": null,
            "border": null,
            "bottom": null,
            "display": null,
            "flex": null,
            "flex_flow": null,
            "grid_area": null,
            "grid_auto_columns": null,
            "grid_auto_flow": null,
            "grid_auto_rows": null,
            "grid_column": null,
            "grid_gap": null,
            "grid_row": null,
            "grid_template_areas": null,
            "grid_template_columns": null,
            "grid_template_rows": null,
            "height": null,
            "justify_content": null,
            "justify_items": null,
            "left": null,
            "margin": null,
            "max_height": null,
            "max_width": null,
            "min_height": null,
            "min_width": null,
            "object_fit": null,
            "object_position": null,
            "order": null,
            "overflow": null,
            "overflow_x": null,
            "overflow_y": null,
            "padding": null,
            "right": null,
            "top": null,
            "visibility": null,
            "width": null
          }
        },
        "d8e70c9631f04dcda072448975d2d4ff": {
          "model_module": "@jupyter-widgets/controls",
          "model_name": "HBoxModel",
          "model_module_version": "1.5.0",
          "state": {
            "_dom_classes": [],
            "_model_module": "@jupyter-widgets/controls",
            "_model_module_version": "1.5.0",
            "_model_name": "HBoxModel",
            "_view_count": null,
            "_view_module": "@jupyter-widgets/controls",
            "_view_module_version": "1.5.0",
            "_view_name": "HBoxView",
            "box_style": "",
            "children": [
              "IPY_MODEL_c6a8033d30f14becad6096f491cfdcd4",
              "IPY_MODEL_b82f8bd5c1124da086684d6d9ab1ebbd"
            ],
            "layout": "IPY_MODEL_a0492d670ab342b3ad9f7a81aa43edcb"
          }
        },
        "a0492d670ab342b3ad9f7a81aa43edcb": {
          "model_module": "@jupyter-widgets/base",
          "model_name": "LayoutModel",
          "model_module_version": "1.2.0",
          "state": {
            "_model_module": "@jupyter-widgets/base",
            "_model_module_version": "1.2.0",
            "_model_name": "LayoutModel",
            "_view_count": null,
            "_view_module": "@jupyter-widgets/base",
            "_view_module_version": "1.2.0",
            "_view_name": "LayoutView",
            "align_content": null,
            "align_items": null,
            "align_self": null,
            "border": null,
            "bottom": null,
            "display": null,
            "flex": null,
            "flex_flow": null,
            "grid_area": null,
            "grid_auto_columns": null,
            "grid_auto_flow": null,
            "grid_auto_rows": null,
            "grid_column": null,
            "grid_gap": null,
            "grid_row": null,
            "grid_template_areas": null,
            "grid_template_columns": null,
            "grid_template_rows": null,
            "height": null,
            "justify_content": null,
            "justify_items": null,
            "left": null,
            "margin": null,
            "max_height": null,
            "max_width": null,
            "min_height": null,
            "min_width": null,
            "object_fit": null,
            "object_position": null,
            "order": null,
            "overflow": null,
            "overflow_x": null,
            "overflow_y": null,
            "padding": null,
            "right": null,
            "top": null,
            "visibility": null,
            "width": null
          }
        },
        "c6a8033d30f14becad6096f491cfdcd4": {
          "model_module": "@jupyter-widgets/controls",
          "model_name": "FloatProgressModel",
          "model_module_version": "1.5.0",
          "state": {
            "_dom_classes": [],
            "_model_module": "@jupyter-widgets/controls",
            "_model_module_version": "1.5.0",
            "_model_name": "FloatProgressModel",
            "_view_count": null,
            "_view_module": "@jupyter-widgets/controls",
            "_view_module_version": "1.5.0",
            "_view_name": "ProgressView",
            "bar_style": "success",
            "description": "Test Loss: 0.4842, Test Acc: 0.7653: 100%",
            "description_tooltip": null,
            "layout": "IPY_MODEL_ed1a3a841f474c878392b4ef1fee1a3f",
            "max": 250,
            "min": 0,
            "orientation": "horizontal",
            "style": "IPY_MODEL_bfc62b9482f7476babd6364e807dafb7",
            "value": 250
          }
        },
        "b82f8bd5c1124da086684d6d9ab1ebbd": {
          "model_module": "@jupyter-widgets/controls",
          "model_name": "HTMLModel",
          "model_module_version": "1.5.0",
          "state": {
            "_dom_classes": [],
            "_model_module": "@jupyter-widgets/controls",
            "_model_module_version": "1.5.0",
            "_model_name": "HTMLModel",
            "_view_count": null,
            "_view_module": "@jupyter-widgets/controls",
            "_view_module_version": "1.5.0",
            "_view_name": "HTMLView",
            "description": "",
            "description_tooltip": null,
            "layout": "IPY_MODEL_995da1edae314ac18be9e3658444ac0d",
            "placeholder": "​",
            "style": "IPY_MODEL_1377e79b563f4107b829cc171a579d53",
            "value": " 250/250 [00:42&lt;00:00,  5.82it/s]"
          }
        },
        "bfc62b9482f7476babd6364e807dafb7": {
          "model_module": "@jupyter-widgets/controls",
          "model_name": "ProgressStyleModel",
          "model_module_version": "1.5.0",
          "state": {
            "_model_module": "@jupyter-widgets/controls",
            "_model_module_version": "1.5.0",
            "_model_name": "ProgressStyleModel",
            "_view_count": null,
            "_view_module": "@jupyter-widgets/base",
            "_view_module_version": "1.2.0",
            "_view_name": "StyleView",
            "bar_color": null,
            "description_width": "initial"
          }
        },
        "ed1a3a841f474c878392b4ef1fee1a3f": {
          "model_module": "@jupyter-widgets/base",
          "model_name": "LayoutModel",
          "model_module_version": "1.2.0",
          "state": {
            "_model_module": "@jupyter-widgets/base",
            "_model_module_version": "1.2.0",
            "_model_name": "LayoutModel",
            "_view_count": null,
            "_view_module": "@jupyter-widgets/base",
            "_view_module_version": "1.2.0",
            "_view_name": "LayoutView",
            "align_content": null,
            "align_items": null,
            "align_self": null,
            "border": null,
            "bottom": null,
            "display": null,
            "flex": null,
            "flex_flow": null,
            "grid_area": null,
            "grid_auto_columns": null,
            "grid_auto_flow": null,
            "grid_auto_rows": null,
            "grid_column": null,
            "grid_gap": null,
            "grid_row": null,
            "grid_template_areas": null,
            "grid_template_columns": null,
            "grid_template_rows": null,
            "height": null,
            "justify_content": null,
            "justify_items": null,
            "left": null,
            "margin": null,
            "max_height": null,
            "max_width": null,
            "min_height": null,
            "min_width": null,
            "object_fit": null,
            "object_position": null,
            "order": null,
            "overflow": null,
            "overflow_x": null,
            "overflow_y": null,
            "padding": null,
            "right": null,
            "top": null,
            "visibility": null,
            "width": null
          }
        },
        "1377e79b563f4107b829cc171a579d53": {
          "model_module": "@jupyter-widgets/controls",
          "model_name": "DescriptionStyleModel",
          "model_module_version": "1.5.0",
          "state": {
            "_model_module": "@jupyter-widgets/controls",
            "_model_module_version": "1.5.0",
            "_model_name": "DescriptionStyleModel",
            "_view_count": null,
            "_view_module": "@jupyter-widgets/base",
            "_view_module_version": "1.2.0",
            "_view_name": "StyleView",
            "description_width": ""
          }
        },
        "995da1edae314ac18be9e3658444ac0d": {
          "model_module": "@jupyter-widgets/base",
          "model_name": "LayoutModel",
          "model_module_version": "1.2.0",
          "state": {
            "_model_module": "@jupyter-widgets/base",
            "_model_module_version": "1.2.0",
            "_model_name": "LayoutModel",
            "_view_count": null,
            "_view_module": "@jupyter-widgets/base",
            "_view_module_version": "1.2.0",
            "_view_name": "LayoutView",
            "align_content": null,
            "align_items": null,
            "align_self": null,
            "border": null,
            "bottom": null,
            "display": null,
            "flex": null,
            "flex_flow": null,
            "grid_area": null,
            "grid_auto_columns": null,
            "grid_auto_flow": null,
            "grid_auto_rows": null,
            "grid_column": null,
            "grid_gap": null,
            "grid_row": null,
            "grid_template_areas": null,
            "grid_template_columns": null,
            "grid_template_rows": null,
            "height": null,
            "justify_content": null,
            "justify_items": null,
            "left": null,
            "margin": null,
            "max_height": null,
            "max_width": null,
            "min_height": null,
            "min_width": null,
            "object_fit": null,
            "object_position": null,
            "order": null,
            "overflow": null,
            "overflow_x": null,
            "overflow_y": null,
            "padding": null,
            "right": null,
            "top": null,
            "visibility": null,
            "width": null
          }
        },
        "bafb808f2f2b419a856184214e4fc238": {
          "model_module": "@jupyter-widgets/controls",
          "model_name": "HBoxModel",
          "model_module_version": "1.5.0",
          "state": {
            "_dom_classes": [],
            "_model_module": "@jupyter-widgets/controls",
            "_model_module_version": "1.5.0",
            "_model_name": "HBoxModel",
            "_view_count": null,
            "_view_module": "@jupyter-widgets/controls",
            "_view_module_version": "1.5.0",
            "_view_name": "HBoxView",
            "box_style": "",
            "children": [
              "IPY_MODEL_5ae052d0bd3e4604a19041a1e51c4f41",
              "IPY_MODEL_4f7821581e984c37b49c64309febef06"
            ],
            "layout": "IPY_MODEL_d852ae39567a40cebf88c5f4ee63d9c7"
          }
        },
        "d852ae39567a40cebf88c5f4ee63d9c7": {
          "model_module": "@jupyter-widgets/base",
          "model_name": "LayoutModel",
          "model_module_version": "1.2.0",
          "state": {
            "_model_module": "@jupyter-widgets/base",
            "_model_module_version": "1.2.0",
            "_model_name": "LayoutModel",
            "_view_count": null,
            "_view_module": "@jupyter-widgets/base",
            "_view_module_version": "1.2.0",
            "_view_name": "LayoutView",
            "align_content": null,
            "align_items": null,
            "align_self": null,
            "border": null,
            "bottom": null,
            "display": null,
            "flex": null,
            "flex_flow": null,
            "grid_area": null,
            "grid_auto_columns": null,
            "grid_auto_flow": null,
            "grid_auto_rows": null,
            "grid_column": null,
            "grid_gap": null,
            "grid_row": null,
            "grid_template_areas": null,
            "grid_template_columns": null,
            "grid_template_rows": null,
            "height": null,
            "justify_content": null,
            "justify_items": null,
            "left": null,
            "margin": null,
            "max_height": null,
            "max_width": null,
            "min_height": null,
            "min_width": null,
            "object_fit": null,
            "object_position": null,
            "order": null,
            "overflow": null,
            "overflow_x": null,
            "overflow_y": null,
            "padding": null,
            "right": null,
            "top": null,
            "visibility": null,
            "width": null
          }
        },
        "5ae052d0bd3e4604a19041a1e51c4f41": {
          "model_module": "@jupyter-widgets/controls",
          "model_name": "FloatProgressModel",
          "model_module_version": "1.5.0",
          "state": {
            "_dom_classes": [],
            "_model_module": "@jupyter-widgets/controls",
            "_model_module_version": "1.5.0",
            "_model_name": "FloatProgressModel",
            "_view_count": null,
            "_view_module": "@jupyter-widgets/controls",
            "_view_module_version": "1.5.0",
            "_view_name": "ProgressView",
            "bar_style": "success",
            "description": "Test Loss: 0.4828, Test Acc: 0.7667: 100%",
            "description_tooltip": null,
            "layout": "IPY_MODEL_811af07bc2884dbf8bd4072b975e58e8",
            "max": 313,
            "min": 0,
            "orientation": "horizontal",
            "style": "IPY_MODEL_bc40f48892cc41f1a618d7410318c27a",
            "value": 313
          }
        },
        "4f7821581e984c37b49c64309febef06": {
          "model_module": "@jupyter-widgets/controls",
          "model_name": "HTMLModel",
          "model_module_version": "1.5.0",
          "state": {
            "_dom_classes": [],
            "_model_module": "@jupyter-widgets/controls",
            "_model_module_version": "1.5.0",
            "_model_name": "HTMLModel",
            "_view_count": null,
            "_view_module": "@jupyter-widgets/controls",
            "_view_module_version": "1.5.0",
            "_view_name": "HTMLView",
            "description": "",
            "description_tooltip": null,
            "layout": "IPY_MODEL_48f2711974a54f7383a8d1309e427a87",
            "placeholder": "​",
            "style": "IPY_MODEL_b799b58309c94f4190792e06c9867b56",
            "value": " 313/313 [07:46&lt;00:00,  1.49s/it]"
          }
        },
        "bc40f48892cc41f1a618d7410318c27a": {
          "model_module": "@jupyter-widgets/controls",
          "model_name": "ProgressStyleModel",
          "model_module_version": "1.5.0",
          "state": {
            "_model_module": "@jupyter-widgets/controls",
            "_model_module_version": "1.5.0",
            "_model_name": "ProgressStyleModel",
            "_view_count": null,
            "_view_module": "@jupyter-widgets/base",
            "_view_module_version": "1.2.0",
            "_view_name": "StyleView",
            "bar_color": null,
            "description_width": "initial"
          }
        },
        "811af07bc2884dbf8bd4072b975e58e8": {
          "model_module": "@jupyter-widgets/base",
          "model_name": "LayoutModel",
          "model_module_version": "1.2.0",
          "state": {
            "_model_module": "@jupyter-widgets/base",
            "_model_module_version": "1.2.0",
            "_model_name": "LayoutModel",
            "_view_count": null,
            "_view_module": "@jupyter-widgets/base",
            "_view_module_version": "1.2.0",
            "_view_name": "LayoutView",
            "align_content": null,
            "align_items": null,
            "align_self": null,
            "border": null,
            "bottom": null,
            "display": null,
            "flex": null,
            "flex_flow": null,
            "grid_area": null,
            "grid_auto_columns": null,
            "grid_auto_flow": null,
            "grid_auto_rows": null,
            "grid_column": null,
            "grid_gap": null,
            "grid_row": null,
            "grid_template_areas": null,
            "grid_template_columns": null,
            "grid_template_rows": null,
            "height": null,
            "justify_content": null,
            "justify_items": null,
            "left": null,
            "margin": null,
            "max_height": null,
            "max_width": null,
            "min_height": null,
            "min_width": null,
            "object_fit": null,
            "object_position": null,
            "order": null,
            "overflow": null,
            "overflow_x": null,
            "overflow_y": null,
            "padding": null,
            "right": null,
            "top": null,
            "visibility": null,
            "width": null
          }
        },
        "b799b58309c94f4190792e06c9867b56": {
          "model_module": "@jupyter-widgets/controls",
          "model_name": "DescriptionStyleModel",
          "model_module_version": "1.5.0",
          "state": {
            "_model_module": "@jupyter-widgets/controls",
            "_model_module_version": "1.5.0",
            "_model_name": "DescriptionStyleModel",
            "_view_count": null,
            "_view_module": "@jupyter-widgets/base",
            "_view_module_version": "1.2.0",
            "_view_name": "StyleView",
            "description_width": ""
          }
        },
        "48f2711974a54f7383a8d1309e427a87": {
          "model_module": "@jupyter-widgets/base",
          "model_name": "LayoutModel",
          "model_module_version": "1.2.0",
          "state": {
            "_model_module": "@jupyter-widgets/base",
            "_model_module_version": "1.2.0",
            "_model_name": "LayoutModel",
            "_view_count": null,
            "_view_module": "@jupyter-widgets/base",
            "_view_module_version": "1.2.0",
            "_view_name": "LayoutView",
            "align_content": null,
            "align_items": null,
            "align_self": null,
            "border": null,
            "bottom": null,
            "display": null,
            "flex": null,
            "flex_flow": null,
            "grid_area": null,
            "grid_auto_columns": null,
            "grid_auto_flow": null,
            "grid_auto_rows": null,
            "grid_column": null,
            "grid_gap": null,
            "grid_row": null,
            "grid_template_areas": null,
            "grid_template_columns": null,
            "grid_template_rows": null,
            "height": null,
            "justify_content": null,
            "justify_items": null,
            "left": null,
            "margin": null,
            "max_height": null,
            "max_width": null,
            "min_height": null,
            "min_width": null,
            "object_fit": null,
            "object_position": null,
            "order": null,
            "overflow": null,
            "overflow_x": null,
            "overflow_y": null,
            "padding": null,
            "right": null,
            "top": null,
            "visibility": null,
            "width": null
          }
        },
        "167d9b36376e4135903034db249b1e0a": {
          "model_module": "@jupyter-widgets/controls",
          "model_name": "HBoxModel",
          "model_module_version": "1.5.0",
          "state": {
            "_dom_classes": [],
            "_model_module": "@jupyter-widgets/controls",
            "_model_module_version": "1.5.0",
            "_model_name": "HBoxModel",
            "_view_count": null,
            "_view_module": "@jupyter-widgets/controls",
            "_view_module_version": "1.5.0",
            "_view_name": "HBoxView",
            "box_style": "",
            "children": [
              "IPY_MODEL_3bddf4c606d444da8919602336a0f18c",
              "IPY_MODEL_6f10295237f34ab88467382cf98ddc51"
            ],
            "layout": "IPY_MODEL_87ced1e07f59404f9d8dcd9e3262bfff"
          }
        },
        "87ced1e07f59404f9d8dcd9e3262bfff": {
          "model_module": "@jupyter-widgets/base",
          "model_name": "LayoutModel",
          "model_module_version": "1.2.0",
          "state": {
            "_model_module": "@jupyter-widgets/base",
            "_model_module_version": "1.2.0",
            "_model_name": "LayoutModel",
            "_view_count": null,
            "_view_module": "@jupyter-widgets/base",
            "_view_module_version": "1.2.0",
            "_view_name": "LayoutView",
            "align_content": null,
            "align_items": null,
            "align_self": null,
            "border": null,
            "bottom": null,
            "display": null,
            "flex": null,
            "flex_flow": null,
            "grid_area": null,
            "grid_auto_columns": null,
            "grid_auto_flow": null,
            "grid_auto_rows": null,
            "grid_column": null,
            "grid_gap": null,
            "grid_row": null,
            "grid_template_areas": null,
            "grid_template_columns": null,
            "grid_template_rows": null,
            "height": null,
            "justify_content": null,
            "justify_items": null,
            "left": null,
            "margin": null,
            "max_height": null,
            "max_width": null,
            "min_height": null,
            "min_width": null,
            "object_fit": null,
            "object_position": null,
            "order": null,
            "overflow": null,
            "overflow_x": null,
            "overflow_y": null,
            "padding": null,
            "right": null,
            "top": null,
            "visibility": null,
            "width": null
          }
        },
        "3bddf4c606d444da8919602336a0f18c": {
          "model_module": "@jupyter-widgets/controls",
          "model_name": "FloatProgressModel",
          "model_module_version": "1.5.0",
          "state": {
            "_dom_classes": [],
            "_model_module": "@jupyter-widgets/controls",
            "_model_module_version": "1.5.0",
            "_model_name": "FloatProgressModel",
            "_view_count": null,
            "_view_module": "@jupyter-widgets/controls",
            "_view_module_version": "1.5.0",
            "_view_name": "ProgressView",
            "bar_style": "success",
            "description": "Epoch 1. Train Loss: 0.4694: 100%",
            "description_tooltip": null,
            "layout": "IPY_MODEL_afee02a1b4bf4fd0a5da891626f17e1a",
            "max": 1000,
            "min": 0,
            "orientation": "horizontal",
            "style": "IPY_MODEL_6ff4bea9c1554b21a8338ae537cfb5b4",
            "value": 1000
          }
        },
        "6f10295237f34ab88467382cf98ddc51": {
          "model_module": "@jupyter-widgets/controls",
          "model_name": "HTMLModel",
          "model_module_version": "1.5.0",
          "state": {
            "_dom_classes": [],
            "_model_module": "@jupyter-widgets/controls",
            "_model_module_version": "1.5.0",
            "_model_name": "HTMLModel",
            "_view_count": null,
            "_view_module": "@jupyter-widgets/controls",
            "_view_module_version": "1.5.0",
            "_view_name": "HTMLView",
            "description": "",
            "description_tooltip": null,
            "layout": "IPY_MODEL_e880a6fdde7f4b7da5d8ac2b5400d026",
            "placeholder": "​",
            "style": "IPY_MODEL_89858d775e004fed9a2c941f7c60e859",
            "value": " 1000/1000 [03:13&lt;00:00,  5.18it/s]"
          }
        },
        "6ff4bea9c1554b21a8338ae537cfb5b4": {
          "model_module": "@jupyter-widgets/controls",
          "model_name": "ProgressStyleModel",
          "model_module_version": "1.5.0",
          "state": {
            "_model_module": "@jupyter-widgets/controls",
            "_model_module_version": "1.5.0",
            "_model_name": "ProgressStyleModel",
            "_view_count": null,
            "_view_module": "@jupyter-widgets/base",
            "_view_module_version": "1.2.0",
            "_view_name": "StyleView",
            "bar_color": null,
            "description_width": "initial"
          }
        },
        "afee02a1b4bf4fd0a5da891626f17e1a": {
          "model_module": "@jupyter-widgets/base",
          "model_name": "LayoutModel",
          "model_module_version": "1.2.0",
          "state": {
            "_model_module": "@jupyter-widgets/base",
            "_model_module_version": "1.2.0",
            "_model_name": "LayoutModel",
            "_view_count": null,
            "_view_module": "@jupyter-widgets/base",
            "_view_module_version": "1.2.0",
            "_view_name": "LayoutView",
            "align_content": null,
            "align_items": null,
            "align_self": null,
            "border": null,
            "bottom": null,
            "display": null,
            "flex": null,
            "flex_flow": null,
            "grid_area": null,
            "grid_auto_columns": null,
            "grid_auto_flow": null,
            "grid_auto_rows": null,
            "grid_column": null,
            "grid_gap": null,
            "grid_row": null,
            "grid_template_areas": null,
            "grid_template_columns": null,
            "grid_template_rows": null,
            "height": null,
            "justify_content": null,
            "justify_items": null,
            "left": null,
            "margin": null,
            "max_height": null,
            "max_width": null,
            "min_height": null,
            "min_width": null,
            "object_fit": null,
            "object_position": null,
            "order": null,
            "overflow": null,
            "overflow_x": null,
            "overflow_y": null,
            "padding": null,
            "right": null,
            "top": null,
            "visibility": null,
            "width": null
          }
        },
        "89858d775e004fed9a2c941f7c60e859": {
          "model_module": "@jupyter-widgets/controls",
          "model_name": "DescriptionStyleModel",
          "model_module_version": "1.5.0",
          "state": {
            "_model_module": "@jupyter-widgets/controls",
            "_model_module_version": "1.5.0",
            "_model_name": "DescriptionStyleModel",
            "_view_count": null,
            "_view_module": "@jupyter-widgets/base",
            "_view_module_version": "1.2.0",
            "_view_name": "StyleView",
            "description_width": ""
          }
        },
        "e880a6fdde7f4b7da5d8ac2b5400d026": {
          "model_module": "@jupyter-widgets/base",
          "model_name": "LayoutModel",
          "model_module_version": "1.2.0",
          "state": {
            "_model_module": "@jupyter-widgets/base",
            "_model_module_version": "1.2.0",
            "_model_name": "LayoutModel",
            "_view_count": null,
            "_view_module": "@jupyter-widgets/base",
            "_view_module_version": "1.2.0",
            "_view_name": "LayoutView",
            "align_content": null,
            "align_items": null,
            "align_self": null,
            "border": null,
            "bottom": null,
            "display": null,
            "flex": null,
            "flex_flow": null,
            "grid_area": null,
            "grid_auto_columns": null,
            "grid_auto_flow": null,
            "grid_auto_rows": null,
            "grid_column": null,
            "grid_gap": null,
            "grid_row": null,
            "grid_template_areas": null,
            "grid_template_columns": null,
            "grid_template_rows": null,
            "height": null,
            "justify_content": null,
            "justify_items": null,
            "left": null,
            "margin": null,
            "max_height": null,
            "max_width": null,
            "min_height": null,
            "min_width": null,
            "object_fit": null,
            "object_position": null,
            "order": null,
            "overflow": null,
            "overflow_x": null,
            "overflow_y": null,
            "padding": null,
            "right": null,
            "top": null,
            "visibility": null,
            "width": null
          }
        },
        "04c820a7163a4cb5874ea45fc4860ee4": {
          "model_module": "@jupyter-widgets/controls",
          "model_name": "HBoxModel",
          "model_module_version": "1.5.0",
          "state": {
            "_dom_classes": [],
            "_model_module": "@jupyter-widgets/controls",
            "_model_module_version": "1.5.0",
            "_model_name": "HBoxModel",
            "_view_count": null,
            "_view_module": "@jupyter-widgets/controls",
            "_view_module_version": "1.5.0",
            "_view_name": "HBoxView",
            "box_style": "",
            "children": [
              "IPY_MODEL_5108ce1bbbb24647944a766608afea90",
              "IPY_MODEL_47267274dd1e4ad28481cca43ae2d627"
            ],
            "layout": "IPY_MODEL_d44b1950c6ca4dab8c90952aa89d38ba"
          }
        },
        "d44b1950c6ca4dab8c90952aa89d38ba": {
          "model_module": "@jupyter-widgets/base",
          "model_name": "LayoutModel",
          "model_module_version": "1.2.0",
          "state": {
            "_model_module": "@jupyter-widgets/base",
            "_model_module_version": "1.2.0",
            "_model_name": "LayoutModel",
            "_view_count": null,
            "_view_module": "@jupyter-widgets/base",
            "_view_module_version": "1.2.0",
            "_view_name": "LayoutView",
            "align_content": null,
            "align_items": null,
            "align_self": null,
            "border": null,
            "bottom": null,
            "display": null,
            "flex": null,
            "flex_flow": null,
            "grid_area": null,
            "grid_auto_columns": null,
            "grid_auto_flow": null,
            "grid_auto_rows": null,
            "grid_column": null,
            "grid_gap": null,
            "grid_row": null,
            "grid_template_areas": null,
            "grid_template_columns": null,
            "grid_template_rows": null,
            "height": null,
            "justify_content": null,
            "justify_items": null,
            "left": null,
            "margin": null,
            "max_height": null,
            "max_width": null,
            "min_height": null,
            "min_width": null,
            "object_fit": null,
            "object_position": null,
            "order": null,
            "overflow": null,
            "overflow_x": null,
            "overflow_y": null,
            "padding": null,
            "right": null,
            "top": null,
            "visibility": null,
            "width": null
          }
        },
        "5108ce1bbbb24647944a766608afea90": {
          "model_module": "@jupyter-widgets/controls",
          "model_name": "FloatProgressModel",
          "model_module_version": "1.5.0",
          "state": {
            "_dom_classes": [],
            "_model_module": "@jupyter-widgets/controls",
            "_model_module_version": "1.5.0",
            "_model_name": "FloatProgressModel",
            "_view_count": null,
            "_view_module": "@jupyter-widgets/controls",
            "_view_module_version": "1.5.0",
            "_view_name": "ProgressView",
            "bar_style": "success",
            "description": "Test Loss: 0.4785,                            Test Acc: 0.7692: 100%",
            "description_tooltip": null,
            "layout": "IPY_MODEL_9e92b48b393a4fe9bc1aafdb263301fb",
            "max": 250,
            "min": 0,
            "orientation": "horizontal",
            "style": "IPY_MODEL_9018ec54b483446f8e5d62cd34e38d1b",
            "value": 250
          }
        },
        "47267274dd1e4ad28481cca43ae2d627": {
          "model_module": "@jupyter-widgets/controls",
          "model_name": "HTMLModel",
          "model_module_version": "1.5.0",
          "state": {
            "_dom_classes": [],
            "_model_module": "@jupyter-widgets/controls",
            "_model_module_version": "1.5.0",
            "_model_name": "HTMLModel",
            "_view_count": null,
            "_view_module": "@jupyter-widgets/controls",
            "_view_module_version": "1.5.0",
            "_view_name": "HTMLView",
            "description": "",
            "description_tooltip": null,
            "layout": "IPY_MODEL_b8a1cfec94f44be49d93bc2d2e5bcfb7",
            "placeholder": "​",
            "style": "IPY_MODEL_e119fad0f30546ac84614c7c05504c8c",
            "value": " 250/250 [00:57&lt;00:00,  4.32it/s]"
          }
        },
        "9018ec54b483446f8e5d62cd34e38d1b": {
          "model_module": "@jupyter-widgets/controls",
          "model_name": "ProgressStyleModel",
          "model_module_version": "1.5.0",
          "state": {
            "_model_module": "@jupyter-widgets/controls",
            "_model_module_version": "1.5.0",
            "_model_name": "ProgressStyleModel",
            "_view_count": null,
            "_view_module": "@jupyter-widgets/base",
            "_view_module_version": "1.2.0",
            "_view_name": "StyleView",
            "bar_color": null,
            "description_width": "initial"
          }
        },
        "9e92b48b393a4fe9bc1aafdb263301fb": {
          "model_module": "@jupyter-widgets/base",
          "model_name": "LayoutModel",
          "model_module_version": "1.2.0",
          "state": {
            "_model_module": "@jupyter-widgets/base",
            "_model_module_version": "1.2.0",
            "_model_name": "LayoutModel",
            "_view_count": null,
            "_view_module": "@jupyter-widgets/base",
            "_view_module_version": "1.2.0",
            "_view_name": "LayoutView",
            "align_content": null,
            "align_items": null,
            "align_self": null,
            "border": null,
            "bottom": null,
            "display": null,
            "flex": null,
            "flex_flow": null,
            "grid_area": null,
            "grid_auto_columns": null,
            "grid_auto_flow": null,
            "grid_auto_rows": null,
            "grid_column": null,
            "grid_gap": null,
            "grid_row": null,
            "grid_template_areas": null,
            "grid_template_columns": null,
            "grid_template_rows": null,
            "height": null,
            "justify_content": null,
            "justify_items": null,
            "left": null,
            "margin": null,
            "max_height": null,
            "max_width": null,
            "min_height": null,
            "min_width": null,
            "object_fit": null,
            "object_position": null,
            "order": null,
            "overflow": null,
            "overflow_x": null,
            "overflow_y": null,
            "padding": null,
            "right": null,
            "top": null,
            "visibility": null,
            "width": null
          }
        },
        "e119fad0f30546ac84614c7c05504c8c": {
          "model_module": "@jupyter-widgets/controls",
          "model_name": "DescriptionStyleModel",
          "model_module_version": "1.5.0",
          "state": {
            "_model_module": "@jupyter-widgets/controls",
            "_model_module_version": "1.5.0",
            "_model_name": "DescriptionStyleModel",
            "_view_count": null,
            "_view_module": "@jupyter-widgets/base",
            "_view_module_version": "1.2.0",
            "_view_name": "StyleView",
            "description_width": ""
          }
        },
        "b8a1cfec94f44be49d93bc2d2e5bcfb7": {
          "model_module": "@jupyter-widgets/base",
          "model_name": "LayoutModel",
          "model_module_version": "1.2.0",
          "state": {
            "_model_module": "@jupyter-widgets/base",
            "_model_module_version": "1.2.0",
            "_model_name": "LayoutModel",
            "_view_count": null,
            "_view_module": "@jupyter-widgets/base",
            "_view_module_version": "1.2.0",
            "_view_name": "LayoutView",
            "align_content": null,
            "align_items": null,
            "align_self": null,
            "border": null,
            "bottom": null,
            "display": null,
            "flex": null,
            "flex_flow": null,
            "grid_area": null,
            "grid_auto_columns": null,
            "grid_auto_flow": null,
            "grid_auto_rows": null,
            "grid_column": null,
            "grid_gap": null,
            "grid_row": null,
            "grid_template_areas": null,
            "grid_template_columns": null,
            "grid_template_rows": null,
            "height": null,
            "justify_content": null,
            "justify_items": null,
            "left": null,
            "margin": null,
            "max_height": null,
            "max_width": null,
            "min_height": null,
            "min_width": null,
            "object_fit": null,
            "object_position": null,
            "order": null,
            "overflow": null,
            "overflow_x": null,
            "overflow_y": null,
            "padding": null,
            "right": null,
            "top": null,
            "visibility": null,
            "width": null
          }
        },
        "5650cf8492434e4da36f3caaf8d7126e": {
          "model_module": "@jupyter-widgets/controls",
          "model_name": "HBoxModel",
          "model_module_version": "1.5.0",
          "state": {
            "_dom_classes": [],
            "_model_module": "@jupyter-widgets/controls",
            "_model_module_version": "1.5.0",
            "_model_name": "HBoxModel",
            "_view_count": null,
            "_view_module": "@jupyter-widgets/controls",
            "_view_module_version": "1.5.0",
            "_view_name": "HBoxView",
            "box_style": "",
            "children": [
              "IPY_MODEL_a093d9cf82a2427aba5908377cf8b1c0",
              "IPY_MODEL_b881624be37647c0b3a964d8ba05c6f1"
            ],
            "layout": "IPY_MODEL_331350765d474b7bb957a54ec7cd537a"
          }
        },
        "331350765d474b7bb957a54ec7cd537a": {
          "model_module": "@jupyter-widgets/base",
          "model_name": "LayoutModel",
          "model_module_version": "1.2.0",
          "state": {
            "_model_module": "@jupyter-widgets/base",
            "_model_module_version": "1.2.0",
            "_model_name": "LayoutModel",
            "_view_count": null,
            "_view_module": "@jupyter-widgets/base",
            "_view_module_version": "1.2.0",
            "_view_name": "LayoutView",
            "align_content": null,
            "align_items": null,
            "align_self": null,
            "border": null,
            "bottom": null,
            "display": null,
            "flex": null,
            "flex_flow": null,
            "grid_area": null,
            "grid_auto_columns": null,
            "grid_auto_flow": null,
            "grid_auto_rows": null,
            "grid_column": null,
            "grid_gap": null,
            "grid_row": null,
            "grid_template_areas": null,
            "grid_template_columns": null,
            "grid_template_rows": null,
            "height": null,
            "justify_content": null,
            "justify_items": null,
            "left": null,
            "margin": null,
            "max_height": null,
            "max_width": null,
            "min_height": null,
            "min_width": null,
            "object_fit": null,
            "object_position": null,
            "order": null,
            "overflow": null,
            "overflow_x": null,
            "overflow_y": null,
            "padding": null,
            "right": null,
            "top": null,
            "visibility": null,
            "width": null
          }
        },
        "a093d9cf82a2427aba5908377cf8b1c0": {
          "model_module": "@jupyter-widgets/controls",
          "model_name": "FloatProgressModel",
          "model_module_version": "1.5.0",
          "state": {
            "_dom_classes": [],
            "_model_module": "@jupyter-widgets/controls",
            "_model_module_version": "1.5.0",
            "_model_name": "FloatProgressModel",
            "_view_count": null,
            "_view_module": "@jupyter-widgets/controls",
            "_view_module_version": "1.5.0",
            "_view_name": "ProgressView",
            "bar_style": "success",
            "description": "Test Loss: 0.4408, Test Acc: 0.7715: 100%",
            "description_tooltip": null,
            "layout": "IPY_MODEL_5f15037f554840aa84c7f3b3b7dda0d9",
            "max": 313,
            "min": 0,
            "orientation": "horizontal",
            "style": "IPY_MODEL_ecd854e2e70b49aaa051a17c2df640d4",
            "value": 313
          }
        },
        "b881624be37647c0b3a964d8ba05c6f1": {
          "model_module": "@jupyter-widgets/controls",
          "model_name": "HTMLModel",
          "model_module_version": "1.5.0",
          "state": {
            "_dom_classes": [],
            "_model_module": "@jupyter-widgets/controls",
            "_model_module_version": "1.5.0",
            "_model_name": "HTMLModel",
            "_view_count": null,
            "_view_module": "@jupyter-widgets/controls",
            "_view_module_version": "1.5.0",
            "_view_name": "HTMLView",
            "description": "",
            "description_tooltip": null,
            "layout": "IPY_MODEL_e9beca09d0f84476b61cc6a3d25a0220",
            "placeholder": "​",
            "style": "IPY_MODEL_aac6b73caf304406a3077027d83bde84",
            "value": " 313/313 [01:00&lt;00:00,  5.16it/s]"
          }
        },
        "ecd854e2e70b49aaa051a17c2df640d4": {
          "model_module": "@jupyter-widgets/controls",
          "model_name": "ProgressStyleModel",
          "model_module_version": "1.5.0",
          "state": {
            "_model_module": "@jupyter-widgets/controls",
            "_model_module_version": "1.5.0",
            "_model_name": "ProgressStyleModel",
            "_view_count": null,
            "_view_module": "@jupyter-widgets/base",
            "_view_module_version": "1.2.0",
            "_view_name": "StyleView",
            "bar_color": null,
            "description_width": "initial"
          }
        },
        "5f15037f554840aa84c7f3b3b7dda0d9": {
          "model_module": "@jupyter-widgets/base",
          "model_name": "LayoutModel",
          "model_module_version": "1.2.0",
          "state": {
            "_model_module": "@jupyter-widgets/base",
            "_model_module_version": "1.2.0",
            "_model_name": "LayoutModel",
            "_view_count": null,
            "_view_module": "@jupyter-widgets/base",
            "_view_module_version": "1.2.0",
            "_view_name": "LayoutView",
            "align_content": null,
            "align_items": null,
            "align_self": null,
            "border": null,
            "bottom": null,
            "display": null,
            "flex": null,
            "flex_flow": null,
            "grid_area": null,
            "grid_auto_columns": null,
            "grid_auto_flow": null,
            "grid_auto_rows": null,
            "grid_column": null,
            "grid_gap": null,
            "grid_row": null,
            "grid_template_areas": null,
            "grid_template_columns": null,
            "grid_template_rows": null,
            "height": null,
            "justify_content": null,
            "justify_items": null,
            "left": null,
            "margin": null,
            "max_height": null,
            "max_width": null,
            "min_height": null,
            "min_width": null,
            "object_fit": null,
            "object_position": null,
            "order": null,
            "overflow": null,
            "overflow_x": null,
            "overflow_y": null,
            "padding": null,
            "right": null,
            "top": null,
            "visibility": null,
            "width": null
          }
        },
        "aac6b73caf304406a3077027d83bde84": {
          "model_module": "@jupyter-widgets/controls",
          "model_name": "DescriptionStyleModel",
          "model_module_version": "1.5.0",
          "state": {
            "_model_module": "@jupyter-widgets/controls",
            "_model_module_version": "1.5.0",
            "_model_name": "DescriptionStyleModel",
            "_view_count": null,
            "_view_module": "@jupyter-widgets/base",
            "_view_module_version": "1.2.0",
            "_view_name": "StyleView",
            "description_width": ""
          }
        },
        "e9beca09d0f84476b61cc6a3d25a0220": {
          "model_module": "@jupyter-widgets/base",
          "model_name": "LayoutModel",
          "model_module_version": "1.2.0",
          "state": {
            "_model_module": "@jupyter-widgets/base",
            "_model_module_version": "1.2.0",
            "_model_name": "LayoutModel",
            "_view_count": null,
            "_view_module": "@jupyter-widgets/base",
            "_view_module_version": "1.2.0",
            "_view_name": "LayoutView",
            "align_content": null,
            "align_items": null,
            "align_self": null,
            "border": null,
            "bottom": null,
            "display": null,
            "flex": null,
            "flex_flow": null,
            "grid_area": null,
            "grid_auto_columns": null,
            "grid_auto_flow": null,
            "grid_auto_rows": null,
            "grid_column": null,
            "grid_gap": null,
            "grid_row": null,
            "grid_template_areas": null,
            "grid_template_columns": null,
            "grid_template_rows": null,
            "height": null,
            "justify_content": null,
            "justify_items": null,
            "left": null,
            "margin": null,
            "max_height": null,
            "max_width": null,
            "min_height": null,
            "min_width": null,
            "object_fit": null,
            "object_position": null,
            "order": null,
            "overflow": null,
            "overflow_x": null,
            "overflow_y": null,
            "padding": null,
            "right": null,
            "top": null,
            "visibility": null,
            "width": null
          }
        },
        "d5ac953a24854462a770d259d7d08106": {
          "model_module": "@jupyter-widgets/controls",
          "model_name": "HBoxModel",
          "model_module_version": "1.5.0",
          "state": {
            "_dom_classes": [],
            "_model_module": "@jupyter-widgets/controls",
            "_model_module_version": "1.5.0",
            "_model_name": "HBoxModel",
            "_view_count": null,
            "_view_module": "@jupyter-widgets/controls",
            "_view_module_version": "1.5.0",
            "_view_name": "HBoxView",
            "box_style": "",
            "children": [
              "IPY_MODEL_5397b810fc17490fb79ec600b685e894",
              "IPY_MODEL_24a62f15028545b99fd2b658f5d1e8cb"
            ],
            "layout": "IPY_MODEL_d069231077ba43bea2dbbcdffaf14729"
          }
        },
        "d069231077ba43bea2dbbcdffaf14729": {
          "model_module": "@jupyter-widgets/base",
          "model_name": "LayoutModel",
          "model_module_version": "1.2.0",
          "state": {
            "_model_module": "@jupyter-widgets/base",
            "_model_module_version": "1.2.0",
            "_model_name": "LayoutModel",
            "_view_count": null,
            "_view_module": "@jupyter-widgets/base",
            "_view_module_version": "1.2.0",
            "_view_name": "LayoutView",
            "align_content": null,
            "align_items": null,
            "align_self": null,
            "border": null,
            "bottom": null,
            "display": null,
            "flex": null,
            "flex_flow": null,
            "grid_area": null,
            "grid_auto_columns": null,
            "grid_auto_flow": null,
            "grid_auto_rows": null,
            "grid_column": null,
            "grid_gap": null,
            "grid_row": null,
            "grid_template_areas": null,
            "grid_template_columns": null,
            "grid_template_rows": null,
            "height": null,
            "justify_content": null,
            "justify_items": null,
            "left": null,
            "margin": null,
            "max_height": null,
            "max_width": null,
            "min_height": null,
            "min_width": null,
            "object_fit": null,
            "object_position": null,
            "order": null,
            "overflow": null,
            "overflow_x": null,
            "overflow_y": null,
            "padding": null,
            "right": null,
            "top": null,
            "visibility": null,
            "width": null
          }
        },
        "5397b810fc17490fb79ec600b685e894": {
          "model_module": "@jupyter-widgets/controls",
          "model_name": "FloatProgressModel",
          "model_module_version": "1.5.0",
          "state": {
            "_dom_classes": [],
            "_model_module": "@jupyter-widgets/controls",
            "_model_module_version": "1.5.0",
            "_model_name": "FloatProgressModel",
            "_view_count": null,
            "_view_module": "@jupyter-widgets/controls",
            "_view_module_version": "1.5.0",
            "_view_name": "ProgressView",
            "bar_style": "success",
            "description": "Epoch 1. Train Loss: 0.481: 100%",
            "description_tooltip": null,
            "layout": "IPY_MODEL_2ce76a0149e34d4d94ff42095b06a0c4",
            "max": 1000,
            "min": 0,
            "orientation": "horizontal",
            "style": "IPY_MODEL_64e0a9ea5d5d42cf9be61ecf80f4fef9",
            "value": 1000
          }
        },
        "24a62f15028545b99fd2b658f5d1e8cb": {
          "model_module": "@jupyter-widgets/controls",
          "model_name": "HTMLModel",
          "model_module_version": "1.5.0",
          "state": {
            "_dom_classes": [],
            "_model_module": "@jupyter-widgets/controls",
            "_model_module_version": "1.5.0",
            "_model_name": "HTMLModel",
            "_view_count": null,
            "_view_module": "@jupyter-widgets/controls",
            "_view_module_version": "1.5.0",
            "_view_name": "HTMLView",
            "description": "",
            "description_tooltip": null,
            "layout": "IPY_MODEL_6a05e0a8376b48e584960dd6beac1fde",
            "placeholder": "​",
            "style": "IPY_MODEL_ce1f4c46cd944f08a7613694298373dc",
            "value": " 1000/1000 [04:35&lt;00:00,  3.63it/s]"
          }
        },
        "64e0a9ea5d5d42cf9be61ecf80f4fef9": {
          "model_module": "@jupyter-widgets/controls",
          "model_name": "ProgressStyleModel",
          "model_module_version": "1.5.0",
          "state": {
            "_model_module": "@jupyter-widgets/controls",
            "_model_module_version": "1.5.0",
            "_model_name": "ProgressStyleModel",
            "_view_count": null,
            "_view_module": "@jupyter-widgets/base",
            "_view_module_version": "1.2.0",
            "_view_name": "StyleView",
            "bar_color": null,
            "description_width": "initial"
          }
        },
        "2ce76a0149e34d4d94ff42095b06a0c4": {
          "model_module": "@jupyter-widgets/base",
          "model_name": "LayoutModel",
          "model_module_version": "1.2.0",
          "state": {
            "_model_module": "@jupyter-widgets/base",
            "_model_module_version": "1.2.0",
            "_model_name": "LayoutModel",
            "_view_count": null,
            "_view_module": "@jupyter-widgets/base",
            "_view_module_version": "1.2.0",
            "_view_name": "LayoutView",
            "align_content": null,
            "align_items": null,
            "align_self": null,
            "border": null,
            "bottom": null,
            "display": null,
            "flex": null,
            "flex_flow": null,
            "grid_area": null,
            "grid_auto_columns": null,
            "grid_auto_flow": null,
            "grid_auto_rows": null,
            "grid_column": null,
            "grid_gap": null,
            "grid_row": null,
            "grid_template_areas": null,
            "grid_template_columns": null,
            "grid_template_rows": null,
            "height": null,
            "justify_content": null,
            "justify_items": null,
            "left": null,
            "margin": null,
            "max_height": null,
            "max_width": null,
            "min_height": null,
            "min_width": null,
            "object_fit": null,
            "object_position": null,
            "order": null,
            "overflow": null,
            "overflow_x": null,
            "overflow_y": null,
            "padding": null,
            "right": null,
            "top": null,
            "visibility": null,
            "width": null
          }
        },
        "ce1f4c46cd944f08a7613694298373dc": {
          "model_module": "@jupyter-widgets/controls",
          "model_name": "DescriptionStyleModel",
          "model_module_version": "1.5.0",
          "state": {
            "_model_module": "@jupyter-widgets/controls",
            "_model_module_version": "1.5.0",
            "_model_name": "DescriptionStyleModel",
            "_view_count": null,
            "_view_module": "@jupyter-widgets/base",
            "_view_module_version": "1.2.0",
            "_view_name": "StyleView",
            "description_width": ""
          }
        },
        "6a05e0a8376b48e584960dd6beac1fde": {
          "model_module": "@jupyter-widgets/base",
          "model_name": "LayoutModel",
          "model_module_version": "1.2.0",
          "state": {
            "_model_module": "@jupyter-widgets/base",
            "_model_module_version": "1.2.0",
            "_model_name": "LayoutModel",
            "_view_count": null,
            "_view_module": "@jupyter-widgets/base",
            "_view_module_version": "1.2.0",
            "_view_name": "LayoutView",
            "align_content": null,
            "align_items": null,
            "align_self": null,
            "border": null,
            "bottom": null,
            "display": null,
            "flex": null,
            "flex_flow": null,
            "grid_area": null,
            "grid_auto_columns": null,
            "grid_auto_flow": null,
            "grid_auto_rows": null,
            "grid_column": null,
            "grid_gap": null,
            "grid_row": null,
            "grid_template_areas": null,
            "grid_template_columns": null,
            "grid_template_rows": null,
            "height": null,
            "justify_content": null,
            "justify_items": null,
            "left": null,
            "margin": null,
            "max_height": null,
            "max_width": null,
            "min_height": null,
            "min_width": null,
            "object_fit": null,
            "object_position": null,
            "order": null,
            "overflow": null,
            "overflow_x": null,
            "overflow_y": null,
            "padding": null,
            "right": null,
            "top": null,
            "visibility": null,
            "width": null
          }
        },
        "5be7e27b6e7f4b298721bec01ccb4c8c": {
          "model_module": "@jupyter-widgets/controls",
          "model_name": "HBoxModel",
          "model_module_version": "1.5.0",
          "state": {
            "_dom_classes": [],
            "_model_module": "@jupyter-widgets/controls",
            "_model_module_version": "1.5.0",
            "_model_name": "HBoxModel",
            "_view_count": null,
            "_view_module": "@jupyter-widgets/controls",
            "_view_module_version": "1.5.0",
            "_view_name": "HBoxView",
            "box_style": "",
            "children": [
              "IPY_MODEL_18f7841a10e043d0867cf8d00fd293dd",
              "IPY_MODEL_63a526a4d270434c804a51fe846fd968"
            ],
            "layout": "IPY_MODEL_e5fbf606759b46b3ab23a02952d77716"
          }
        },
        "e5fbf606759b46b3ab23a02952d77716": {
          "model_module": "@jupyter-widgets/base",
          "model_name": "LayoutModel",
          "model_module_version": "1.2.0",
          "state": {
            "_model_module": "@jupyter-widgets/base",
            "_model_module_version": "1.2.0",
            "_model_name": "LayoutModel",
            "_view_count": null,
            "_view_module": "@jupyter-widgets/base",
            "_view_module_version": "1.2.0",
            "_view_name": "LayoutView",
            "align_content": null,
            "align_items": null,
            "align_self": null,
            "border": null,
            "bottom": null,
            "display": null,
            "flex": null,
            "flex_flow": null,
            "grid_area": null,
            "grid_auto_columns": null,
            "grid_auto_flow": null,
            "grid_auto_rows": null,
            "grid_column": null,
            "grid_gap": null,
            "grid_row": null,
            "grid_template_areas": null,
            "grid_template_columns": null,
            "grid_template_rows": null,
            "height": null,
            "justify_content": null,
            "justify_items": null,
            "left": null,
            "margin": null,
            "max_height": null,
            "max_width": null,
            "min_height": null,
            "min_width": null,
            "object_fit": null,
            "object_position": null,
            "order": null,
            "overflow": null,
            "overflow_x": null,
            "overflow_y": null,
            "padding": null,
            "right": null,
            "top": null,
            "visibility": null,
            "width": null
          }
        },
        "18f7841a10e043d0867cf8d00fd293dd": {
          "model_module": "@jupyter-widgets/controls",
          "model_name": "FloatProgressModel",
          "model_module_version": "1.5.0",
          "state": {
            "_dom_classes": [],
            "_model_module": "@jupyter-widgets/controls",
            "_model_module_version": "1.5.0",
            "_model_name": "FloatProgressModel",
            "_view_count": null,
            "_view_module": "@jupyter-widgets/controls",
            "_view_module_version": "1.5.0",
            "_view_name": "ProgressView",
            "bar_style": "success",
            "description": "Test Loss: 0.4824,                            Test Acc: 0.7672: 100%",
            "description_tooltip": null,
            "layout": "IPY_MODEL_78303d95ccdb4055ba36de1272039564",
            "max": 250,
            "min": 0,
            "orientation": "horizontal",
            "style": "IPY_MODEL_cc76e86c14fb4a8681746380aea015d8",
            "value": 250
          }
        },
        "63a526a4d270434c804a51fe846fd968": {
          "model_module": "@jupyter-widgets/controls",
          "model_name": "HTMLModel",
          "model_module_version": "1.5.0",
          "state": {
            "_dom_classes": [],
            "_model_module": "@jupyter-widgets/controls",
            "_model_module_version": "1.5.0",
            "_model_name": "HTMLModel",
            "_view_count": null,
            "_view_module": "@jupyter-widgets/controls",
            "_view_module_version": "1.5.0",
            "_view_name": "HTMLView",
            "description": "",
            "description_tooltip": null,
            "layout": "IPY_MODEL_bcbcf8ab27dd4f2dbe5830b66d6aee8c",
            "placeholder": "​",
            "style": "IPY_MODEL_29bdbdc69ad64aef856ed5ac430693cc",
            "value": " 250/250 [01:03&lt;00:00,  3.92it/s]"
          }
        },
        "cc76e86c14fb4a8681746380aea015d8": {
          "model_module": "@jupyter-widgets/controls",
          "model_name": "ProgressStyleModel",
          "model_module_version": "1.5.0",
          "state": {
            "_model_module": "@jupyter-widgets/controls",
            "_model_module_version": "1.5.0",
            "_model_name": "ProgressStyleModel",
            "_view_count": null,
            "_view_module": "@jupyter-widgets/base",
            "_view_module_version": "1.2.0",
            "_view_name": "StyleView",
            "bar_color": null,
            "description_width": "initial"
          }
        },
        "78303d95ccdb4055ba36de1272039564": {
          "model_module": "@jupyter-widgets/base",
          "model_name": "LayoutModel",
          "model_module_version": "1.2.0",
          "state": {
            "_model_module": "@jupyter-widgets/base",
            "_model_module_version": "1.2.0",
            "_model_name": "LayoutModel",
            "_view_count": null,
            "_view_module": "@jupyter-widgets/base",
            "_view_module_version": "1.2.0",
            "_view_name": "LayoutView",
            "align_content": null,
            "align_items": null,
            "align_self": null,
            "border": null,
            "bottom": null,
            "display": null,
            "flex": null,
            "flex_flow": null,
            "grid_area": null,
            "grid_auto_columns": null,
            "grid_auto_flow": null,
            "grid_auto_rows": null,
            "grid_column": null,
            "grid_gap": null,
            "grid_row": null,
            "grid_template_areas": null,
            "grid_template_columns": null,
            "grid_template_rows": null,
            "height": null,
            "justify_content": null,
            "justify_items": null,
            "left": null,
            "margin": null,
            "max_height": null,
            "max_width": null,
            "min_height": null,
            "min_width": null,
            "object_fit": null,
            "object_position": null,
            "order": null,
            "overflow": null,
            "overflow_x": null,
            "overflow_y": null,
            "padding": null,
            "right": null,
            "top": null,
            "visibility": null,
            "width": null
          }
        },
        "29bdbdc69ad64aef856ed5ac430693cc": {
          "model_module": "@jupyter-widgets/controls",
          "model_name": "DescriptionStyleModel",
          "model_module_version": "1.5.0",
          "state": {
            "_model_module": "@jupyter-widgets/controls",
            "_model_module_version": "1.5.0",
            "_model_name": "DescriptionStyleModel",
            "_view_count": null,
            "_view_module": "@jupyter-widgets/base",
            "_view_module_version": "1.2.0",
            "_view_name": "StyleView",
            "description_width": ""
          }
        },
        "bcbcf8ab27dd4f2dbe5830b66d6aee8c": {
          "model_module": "@jupyter-widgets/base",
          "model_name": "LayoutModel",
          "model_module_version": "1.2.0",
          "state": {
            "_model_module": "@jupyter-widgets/base",
            "_model_module_version": "1.2.0",
            "_model_name": "LayoutModel",
            "_view_count": null,
            "_view_module": "@jupyter-widgets/base",
            "_view_module_version": "1.2.0",
            "_view_name": "LayoutView",
            "align_content": null,
            "align_items": null,
            "align_self": null,
            "border": null,
            "bottom": null,
            "display": null,
            "flex": null,
            "flex_flow": null,
            "grid_area": null,
            "grid_auto_columns": null,
            "grid_auto_flow": null,
            "grid_auto_rows": null,
            "grid_column": null,
            "grid_gap": null,
            "grid_row": null,
            "grid_template_areas": null,
            "grid_template_columns": null,
            "grid_template_rows": null,
            "height": null,
            "justify_content": null,
            "justify_items": null,
            "left": null,
            "margin": null,
            "max_height": null,
            "max_width": null,
            "min_height": null,
            "min_width": null,
            "object_fit": null,
            "object_position": null,
            "order": null,
            "overflow": null,
            "overflow_x": null,
            "overflow_y": null,
            "padding": null,
            "right": null,
            "top": null,
            "visibility": null,
            "width": null
          }
        },
        "5b12636e79ae43b389a8c53e012a5ed8": {
          "model_module": "@jupyter-widgets/controls",
          "model_name": "HBoxModel",
          "model_module_version": "1.5.0",
          "state": {
            "_dom_classes": [],
            "_model_module": "@jupyter-widgets/controls",
            "_model_module_version": "1.5.0",
            "_model_name": "HBoxModel",
            "_view_count": null,
            "_view_module": "@jupyter-widgets/controls",
            "_view_module_version": "1.5.0",
            "_view_name": "HBoxView",
            "box_style": "",
            "children": [
              "IPY_MODEL_1b2fd0127f6042de8e2f0341761fb109",
              "IPY_MODEL_79a6f14354bf436f8e3952f482479b3f"
            ],
            "layout": "IPY_MODEL_a86fc4e41daa46ae95b221e982eb8171"
          }
        },
        "a86fc4e41daa46ae95b221e982eb8171": {
          "model_module": "@jupyter-widgets/base",
          "model_name": "LayoutModel",
          "model_module_version": "1.2.0",
          "state": {
            "_model_module": "@jupyter-widgets/base",
            "_model_module_version": "1.2.0",
            "_model_name": "LayoutModel",
            "_view_count": null,
            "_view_module": "@jupyter-widgets/base",
            "_view_module_version": "1.2.0",
            "_view_name": "LayoutView",
            "align_content": null,
            "align_items": null,
            "align_self": null,
            "border": null,
            "bottom": null,
            "display": null,
            "flex": null,
            "flex_flow": null,
            "grid_area": null,
            "grid_auto_columns": null,
            "grid_auto_flow": null,
            "grid_auto_rows": null,
            "grid_column": null,
            "grid_gap": null,
            "grid_row": null,
            "grid_template_areas": null,
            "grid_template_columns": null,
            "grid_template_rows": null,
            "height": null,
            "justify_content": null,
            "justify_items": null,
            "left": null,
            "margin": null,
            "max_height": null,
            "max_width": null,
            "min_height": null,
            "min_width": null,
            "object_fit": null,
            "object_position": null,
            "order": null,
            "overflow": null,
            "overflow_x": null,
            "overflow_y": null,
            "padding": null,
            "right": null,
            "top": null,
            "visibility": null,
            "width": null
          }
        },
        "1b2fd0127f6042de8e2f0341761fb109": {
          "model_module": "@jupyter-widgets/controls",
          "model_name": "FloatProgressModel",
          "model_module_version": "1.5.0",
          "state": {
            "_dom_classes": [],
            "_model_module": "@jupyter-widgets/controls",
            "_model_module_version": "1.5.0",
            "_model_name": "FloatProgressModel",
            "_view_count": null,
            "_view_module": "@jupyter-widgets/controls",
            "_view_module_version": "1.5.0",
            "_view_name": "ProgressView",
            "bar_style": "success",
            "description": "Test Loss: 0.4428, Test Acc: 0.7832: 100%",
            "description_tooltip": null,
            "layout": "IPY_MODEL_ba6adba58a4d42e38966325d743db8d2",
            "max": 313,
            "min": 0,
            "orientation": "horizontal",
            "style": "IPY_MODEL_f2298551e93447fab80f71a19631405a",
            "value": 313
          }
        },
        "79a6f14354bf436f8e3952f482479b3f": {
          "model_module": "@jupyter-widgets/controls",
          "model_name": "HTMLModel",
          "model_module_version": "1.5.0",
          "state": {
            "_dom_classes": [],
            "_model_module": "@jupyter-widgets/controls",
            "_model_module_version": "1.5.0",
            "_model_name": "HTMLModel",
            "_view_count": null,
            "_view_module": "@jupyter-widgets/controls",
            "_view_module_version": "1.5.0",
            "_view_name": "HTMLView",
            "description": "",
            "description_tooltip": null,
            "layout": "IPY_MODEL_e91c7844f9884c40aa5ca7f7be1293d6",
            "placeholder": "​",
            "style": "IPY_MODEL_62d58ed047724692ba043a01568a0806",
            "value": " 313/313 [01:06&lt;00:00,  4.71it/s]"
          }
        },
        "f2298551e93447fab80f71a19631405a": {
          "model_module": "@jupyter-widgets/controls",
          "model_name": "ProgressStyleModel",
          "model_module_version": "1.5.0",
          "state": {
            "_model_module": "@jupyter-widgets/controls",
            "_model_module_version": "1.5.0",
            "_model_name": "ProgressStyleModel",
            "_view_count": null,
            "_view_module": "@jupyter-widgets/base",
            "_view_module_version": "1.2.0",
            "_view_name": "StyleView",
            "bar_color": null,
            "description_width": "initial"
          }
        },
        "ba6adba58a4d42e38966325d743db8d2": {
          "model_module": "@jupyter-widgets/base",
          "model_name": "LayoutModel",
          "model_module_version": "1.2.0",
          "state": {
            "_model_module": "@jupyter-widgets/base",
            "_model_module_version": "1.2.0",
            "_model_name": "LayoutModel",
            "_view_count": null,
            "_view_module": "@jupyter-widgets/base",
            "_view_module_version": "1.2.0",
            "_view_name": "LayoutView",
            "align_content": null,
            "align_items": null,
            "align_self": null,
            "border": null,
            "bottom": null,
            "display": null,
            "flex": null,
            "flex_flow": null,
            "grid_area": null,
            "grid_auto_columns": null,
            "grid_auto_flow": null,
            "grid_auto_rows": null,
            "grid_column": null,
            "grid_gap": null,
            "grid_row": null,
            "grid_template_areas": null,
            "grid_template_columns": null,
            "grid_template_rows": null,
            "height": null,
            "justify_content": null,
            "justify_items": null,
            "left": null,
            "margin": null,
            "max_height": null,
            "max_width": null,
            "min_height": null,
            "min_width": null,
            "object_fit": null,
            "object_position": null,
            "order": null,
            "overflow": null,
            "overflow_x": null,
            "overflow_y": null,
            "padding": null,
            "right": null,
            "top": null,
            "visibility": null,
            "width": null
          }
        },
        "62d58ed047724692ba043a01568a0806": {
          "model_module": "@jupyter-widgets/controls",
          "model_name": "DescriptionStyleModel",
          "model_module_version": "1.5.0",
          "state": {
            "_model_module": "@jupyter-widgets/controls",
            "_model_module_version": "1.5.0",
            "_model_name": "DescriptionStyleModel",
            "_view_count": null,
            "_view_module": "@jupyter-widgets/base",
            "_view_module_version": "1.2.0",
            "_view_name": "StyleView",
            "description_width": ""
          }
        },
        "e91c7844f9884c40aa5ca7f7be1293d6": {
          "model_module": "@jupyter-widgets/base",
          "model_name": "LayoutModel",
          "model_module_version": "1.2.0",
          "state": {
            "_model_module": "@jupyter-widgets/base",
            "_model_module_version": "1.2.0",
            "_model_name": "LayoutModel",
            "_view_count": null,
            "_view_module": "@jupyter-widgets/base",
            "_view_module_version": "1.2.0",
            "_view_name": "LayoutView",
            "align_content": null,
            "align_items": null,
            "align_self": null,
            "border": null,
            "bottom": null,
            "display": null,
            "flex": null,
            "flex_flow": null,
            "grid_area": null,
            "grid_auto_columns": null,
            "grid_auto_flow": null,
            "grid_auto_rows": null,
            "grid_column": null,
            "grid_gap": null,
            "grid_row": null,
            "grid_template_areas": null,
            "grid_template_columns": null,
            "grid_template_rows": null,
            "height": null,
            "justify_content": null,
            "justify_items": null,
            "left": null,
            "margin": null,
            "max_height": null,
            "max_width": null,
            "min_height": null,
            "min_width": null,
            "object_fit": null,
            "object_position": null,
            "order": null,
            "overflow": null,
            "overflow_x": null,
            "overflow_y": null,
            "padding": null,
            "right": null,
            "top": null,
            "visibility": null,
            "width": null
          }
        },
        "9354c2b6f6454ac4af5f0953a22f75d1": {
          "model_module": "@jupyter-widgets/controls",
          "model_name": "HBoxModel",
          "model_module_version": "1.5.0",
          "state": {
            "_view_name": "HBoxView",
            "_dom_classes": [],
            "_model_name": "HBoxModel",
            "_view_module": "@jupyter-widgets/controls",
            "_model_module_version": "1.5.0",
            "_view_count": null,
            "_view_module_version": "1.5.0",
            "box_style": "",
            "layout": "IPY_MODEL_4d1aa8c05a13421880a2d589e0b230f8",
            "_model_module": "@jupyter-widgets/controls",
            "children": [
              "IPY_MODEL_621ab4ec676b46ea8bff2249470f4f28",
              "IPY_MODEL_f2be1d2006f042f0b4f615baffb41c4c",
              "IPY_MODEL_e13a5175ad064fceb541e2cc2157c5b0"
            ]
          }
        },
        "4d1aa8c05a13421880a2d589e0b230f8": {
          "model_module": "@jupyter-widgets/base",
          "model_name": "LayoutModel",
          "model_module_version": "1.2.0",
          "state": {
            "_view_name": "LayoutView",
            "grid_template_rows": null,
            "right": null,
            "justify_content": null,
            "_view_module": "@jupyter-widgets/base",
            "overflow": null,
            "_model_module_version": "1.2.0",
            "_view_count": null,
            "flex_flow": null,
            "width": null,
            "min_width": null,
            "border": null,
            "align_items": null,
            "bottom": null,
            "_model_module": "@jupyter-widgets/base",
            "top": null,
            "grid_column": null,
            "overflow_y": null,
            "overflow_x": null,
            "grid_auto_flow": null,
            "grid_area": null,
            "grid_template_columns": null,
            "flex": null,
            "_model_name": "LayoutModel",
            "justify_items": null,
            "grid_row": null,
            "max_height": null,
            "align_content": null,
            "visibility": null,
            "align_self": null,
            "height": null,
            "min_height": null,
            "padding": null,
            "grid_auto_rows": null,
            "grid_gap": null,
            "max_width": null,
            "order": null,
            "_view_module_version": "1.2.0",
            "grid_template_areas": null,
            "object_position": null,
            "object_fit": null,
            "grid_auto_columns": null,
            "margin": null,
            "display": null,
            "left": null
          }
        },
        "621ab4ec676b46ea8bff2249470f4f28": {
          "model_module": "@jupyter-widgets/controls",
          "model_name": "HTMLModel",
          "model_module_version": "1.5.0",
          "state": {
            "_view_name": "HTMLView",
            "style": "IPY_MODEL_48a945439649483b94ff8a804c1c10f4",
            "_dom_classes": [],
            "description": "",
            "_model_name": "HTMLModel",
            "placeholder": "​",
            "_view_module": "@jupyter-widgets/controls",
            "_model_module_version": "1.5.0",
            "value": "Epoch 1. Train Loss: 0.4845: 100%",
            "_view_count": null,
            "_view_module_version": "1.5.0",
            "description_tooltip": null,
            "_model_module": "@jupyter-widgets/controls",
            "layout": "IPY_MODEL_87f456a736b744bd9d1ff0cddd9ebd17"
          }
        },
        "f2be1d2006f042f0b4f615baffb41c4c": {
          "model_module": "@jupyter-widgets/controls",
          "model_name": "FloatProgressModel",
          "model_module_version": "1.5.0",
          "state": {
            "_view_name": "ProgressView",
            "style": "IPY_MODEL_78f14ffd0605499aa2f7b8ab20ab1987",
            "_dom_classes": [],
            "description": "",
            "_model_name": "FloatProgressModel",
            "bar_style": "success",
            "max": 1000,
            "_view_module": "@jupyter-widgets/controls",
            "_model_module_version": "1.5.0",
            "value": 1000,
            "_view_count": null,
            "_view_module_version": "1.5.0",
            "orientation": "horizontal",
            "min": 0,
            "description_tooltip": null,
            "_model_module": "@jupyter-widgets/controls",
            "layout": "IPY_MODEL_e44cd287ea5e471a96fb7385b6936a27"
          }
        },
        "e13a5175ad064fceb541e2cc2157c5b0": {
          "model_module": "@jupyter-widgets/controls",
          "model_name": "HTMLModel",
          "model_module_version": "1.5.0",
          "state": {
            "_view_name": "HTMLView",
            "style": "IPY_MODEL_d808de3ee6334b68876d4dc745574506",
            "_dom_classes": [],
            "description": "",
            "_model_name": "HTMLModel",
            "placeholder": "​",
            "_view_module": "@jupyter-widgets/controls",
            "_model_module_version": "1.5.0",
            "value": " 1000/1000 [04:46&lt;00:00,  3.15it/s]",
            "_view_count": null,
            "_view_module_version": "1.5.0",
            "description_tooltip": null,
            "_model_module": "@jupyter-widgets/controls",
            "layout": "IPY_MODEL_bc4b08b0faba45e19e059e4390ec0bce"
          }
        },
        "48a945439649483b94ff8a804c1c10f4": {
          "model_module": "@jupyter-widgets/controls",
          "model_name": "DescriptionStyleModel",
          "model_module_version": "1.5.0",
          "state": {
            "_view_name": "StyleView",
            "_model_name": "DescriptionStyleModel",
            "description_width": "",
            "_view_module": "@jupyter-widgets/base",
            "_model_module_version": "1.5.0",
            "_view_count": null,
            "_view_module_version": "1.2.0",
            "_model_module": "@jupyter-widgets/controls"
          }
        },
        "87f456a736b744bd9d1ff0cddd9ebd17": {
          "model_module": "@jupyter-widgets/base",
          "model_name": "LayoutModel",
          "model_module_version": "1.2.0",
          "state": {
            "_view_name": "LayoutView",
            "grid_template_rows": null,
            "right": null,
            "justify_content": null,
            "_view_module": "@jupyter-widgets/base",
            "overflow": null,
            "_model_module_version": "1.2.0",
            "_view_count": null,
            "flex_flow": null,
            "width": null,
            "min_width": null,
            "border": null,
            "align_items": null,
            "bottom": null,
            "_model_module": "@jupyter-widgets/base",
            "top": null,
            "grid_column": null,
            "overflow_y": null,
            "overflow_x": null,
            "grid_auto_flow": null,
            "grid_area": null,
            "grid_template_columns": null,
            "flex": null,
            "_model_name": "LayoutModel",
            "justify_items": null,
            "grid_row": null,
            "max_height": null,
            "align_content": null,
            "visibility": null,
            "align_self": null,
            "height": null,
            "min_height": null,
            "padding": null,
            "grid_auto_rows": null,
            "grid_gap": null,
            "max_width": null,
            "order": null,
            "_view_module_version": "1.2.0",
            "grid_template_areas": null,
            "object_position": null,
            "object_fit": null,
            "grid_auto_columns": null,
            "margin": null,
            "display": null,
            "left": null
          }
        },
        "78f14ffd0605499aa2f7b8ab20ab1987": {
          "model_module": "@jupyter-widgets/controls",
          "model_name": "ProgressStyleModel",
          "model_module_version": "1.5.0",
          "state": {
            "_view_name": "StyleView",
            "_model_name": "ProgressStyleModel",
            "description_width": "",
            "_view_module": "@jupyter-widgets/base",
            "_model_module_version": "1.5.0",
            "_view_count": null,
            "_view_module_version": "1.2.0",
            "bar_color": null,
            "_model_module": "@jupyter-widgets/controls"
          }
        },
        "e44cd287ea5e471a96fb7385b6936a27": {
          "model_module": "@jupyter-widgets/base",
          "model_name": "LayoutModel",
          "model_module_version": "1.2.0",
          "state": {
            "_view_name": "LayoutView",
            "grid_template_rows": null,
            "right": null,
            "justify_content": null,
            "_view_module": "@jupyter-widgets/base",
            "overflow": null,
            "_model_module_version": "1.2.0",
            "_view_count": null,
            "flex_flow": null,
            "width": null,
            "min_width": null,
            "border": null,
            "align_items": null,
            "bottom": null,
            "_model_module": "@jupyter-widgets/base",
            "top": null,
            "grid_column": null,
            "overflow_y": null,
            "overflow_x": null,
            "grid_auto_flow": null,
            "grid_area": null,
            "grid_template_columns": null,
            "flex": null,
            "_model_name": "LayoutModel",
            "justify_items": null,
            "grid_row": null,
            "max_height": null,
            "align_content": null,
            "visibility": null,
            "align_self": null,
            "height": null,
            "min_height": null,
            "padding": null,
            "grid_auto_rows": null,
            "grid_gap": null,
            "max_width": null,
            "order": null,
            "_view_module_version": "1.2.0",
            "grid_template_areas": null,
            "object_position": null,
            "object_fit": null,
            "grid_auto_columns": null,
            "margin": null,
            "display": null,
            "left": null
          }
        },
        "d808de3ee6334b68876d4dc745574506": {
          "model_module": "@jupyter-widgets/controls",
          "model_name": "DescriptionStyleModel",
          "model_module_version": "1.5.0",
          "state": {
            "_view_name": "StyleView",
            "_model_name": "DescriptionStyleModel",
            "description_width": "",
            "_view_module": "@jupyter-widgets/base",
            "_model_module_version": "1.5.0",
            "_view_count": null,
            "_view_module_version": "1.2.0",
            "_model_module": "@jupyter-widgets/controls"
          }
        },
        "bc4b08b0faba45e19e059e4390ec0bce": {
          "model_module": "@jupyter-widgets/base",
          "model_name": "LayoutModel",
          "model_module_version": "1.2.0",
          "state": {
            "_view_name": "LayoutView",
            "grid_template_rows": null,
            "right": null,
            "justify_content": null,
            "_view_module": "@jupyter-widgets/base",
            "overflow": null,
            "_model_module_version": "1.2.0",
            "_view_count": null,
            "flex_flow": null,
            "width": null,
            "min_width": null,
            "border": null,
            "align_items": null,
            "bottom": null,
            "_model_module": "@jupyter-widgets/base",
            "top": null,
            "grid_column": null,
            "overflow_y": null,
            "overflow_x": null,
            "grid_auto_flow": null,
            "grid_area": null,
            "grid_template_columns": null,
            "flex": null,
            "_model_name": "LayoutModel",
            "justify_items": null,
            "grid_row": null,
            "max_height": null,
            "align_content": null,
            "visibility": null,
            "align_self": null,
            "height": null,
            "min_height": null,
            "padding": null,
            "grid_auto_rows": null,
            "grid_gap": null,
            "max_width": null,
            "order": null,
            "_view_module_version": "1.2.0",
            "grid_template_areas": null,
            "object_position": null,
            "object_fit": null,
            "grid_auto_columns": null,
            "margin": null,
            "display": null,
            "left": null
          }
        },
        "212784aa108a420591a139b7103e1cb1": {
          "model_module": "@jupyter-widgets/controls",
          "model_name": "HBoxModel",
          "model_module_version": "1.5.0",
          "state": {
            "_view_name": "HBoxView",
            "_dom_classes": [],
            "_model_name": "HBoxModel",
            "_view_module": "@jupyter-widgets/controls",
            "_model_module_version": "1.5.0",
            "_view_count": null,
            "_view_module_version": "1.5.0",
            "box_style": "",
            "layout": "IPY_MODEL_71e22f0ce4e2430ca653deb38c740801",
            "_model_module": "@jupyter-widgets/controls",
            "children": [
              "IPY_MODEL_f2a47e0b1d6643ed9752bebde15ea96e",
              "IPY_MODEL_16f024e749554035bc2677e77c32683e",
              "IPY_MODEL_8243915e292c464083ac7b2ab068071e"
            ]
          }
        },
        "71e22f0ce4e2430ca653deb38c740801": {
          "model_module": "@jupyter-widgets/base",
          "model_name": "LayoutModel",
          "model_module_version": "1.2.0",
          "state": {
            "_view_name": "LayoutView",
            "grid_template_rows": null,
            "right": null,
            "justify_content": null,
            "_view_module": "@jupyter-widgets/base",
            "overflow": null,
            "_model_module_version": "1.2.0",
            "_view_count": null,
            "flex_flow": null,
            "width": null,
            "min_width": null,
            "border": null,
            "align_items": null,
            "bottom": null,
            "_model_module": "@jupyter-widgets/base",
            "top": null,
            "grid_column": null,
            "overflow_y": null,
            "overflow_x": null,
            "grid_auto_flow": null,
            "grid_area": null,
            "grid_template_columns": null,
            "flex": null,
            "_model_name": "LayoutModel",
            "justify_items": null,
            "grid_row": null,
            "max_height": null,
            "align_content": null,
            "visibility": null,
            "align_self": null,
            "height": null,
            "min_height": null,
            "padding": null,
            "grid_auto_rows": null,
            "grid_gap": null,
            "max_width": null,
            "order": null,
            "_view_module_version": "1.2.0",
            "grid_template_areas": null,
            "object_position": null,
            "object_fit": null,
            "grid_auto_columns": null,
            "margin": null,
            "display": null,
            "left": null
          }
        },
        "f2a47e0b1d6643ed9752bebde15ea96e": {
          "model_module": "@jupyter-widgets/controls",
          "model_name": "HTMLModel",
          "model_module_version": "1.5.0",
          "state": {
            "_view_name": "HTMLView",
            "style": "IPY_MODEL_5efd951f94fe4b1fb3e36595520a06eb",
            "_dom_classes": [],
            "description": "",
            "_model_name": "HTMLModel",
            "placeholder": "​",
            "_view_module": "@jupyter-widgets/controls",
            "_model_module_version": "1.5.0",
            "value": "Test Loss: 0.4897, Test Acc: 0.7559: 100%",
            "_view_count": null,
            "_view_module_version": "1.5.0",
            "description_tooltip": null,
            "_model_module": "@jupyter-widgets/controls",
            "layout": "IPY_MODEL_14bdbb2b3e72455f8ecb07117ef1c9a0"
          }
        },
        "16f024e749554035bc2677e77c32683e": {
          "model_module": "@jupyter-widgets/controls",
          "model_name": "FloatProgressModel",
          "model_module_version": "1.5.0",
          "state": {
            "_view_name": "ProgressView",
            "style": "IPY_MODEL_bed902f9572f410daea696e52abe4b72",
            "_dom_classes": [],
            "description": "",
            "_model_name": "FloatProgressModel",
            "bar_style": "success",
            "max": 250,
            "_view_module": "@jupyter-widgets/controls",
            "_model_module_version": "1.5.0",
            "value": 250,
            "_view_count": null,
            "_view_module_version": "1.5.0",
            "orientation": "horizontal",
            "min": 0,
            "description_tooltip": null,
            "_model_module": "@jupyter-widgets/controls",
            "layout": "IPY_MODEL_cec8f514a461409c9ef593ed40ab4602"
          }
        },
        "8243915e292c464083ac7b2ab068071e": {
          "model_module": "@jupyter-widgets/controls",
          "model_name": "HTMLModel",
          "model_module_version": "1.5.0",
          "state": {
            "_view_name": "HTMLView",
            "style": "IPY_MODEL_b5452913522a49239ad02208dd65f714",
            "_dom_classes": [],
            "description": "",
            "_model_name": "HTMLModel",
            "placeholder": "​",
            "_view_module": "@jupyter-widgets/controls",
            "_model_module_version": "1.5.0",
            "value": " 250/250 [01:17&lt;00:00,  3.19it/s]",
            "_view_count": null,
            "_view_module_version": "1.5.0",
            "description_tooltip": null,
            "_model_module": "@jupyter-widgets/controls",
            "layout": "IPY_MODEL_2103fc4184af4ab5bc0fde09ac41bde6"
          }
        },
        "5efd951f94fe4b1fb3e36595520a06eb": {
          "model_module": "@jupyter-widgets/controls",
          "model_name": "DescriptionStyleModel",
          "model_module_version": "1.5.0",
          "state": {
            "_view_name": "StyleView",
            "_model_name": "DescriptionStyleModel",
            "description_width": "",
            "_view_module": "@jupyter-widgets/base",
            "_model_module_version": "1.5.0",
            "_view_count": null,
            "_view_module_version": "1.2.0",
            "_model_module": "@jupyter-widgets/controls"
          }
        },
        "14bdbb2b3e72455f8ecb07117ef1c9a0": {
          "model_module": "@jupyter-widgets/base",
          "model_name": "LayoutModel",
          "model_module_version": "1.2.0",
          "state": {
            "_view_name": "LayoutView",
            "grid_template_rows": null,
            "right": null,
            "justify_content": null,
            "_view_module": "@jupyter-widgets/base",
            "overflow": null,
            "_model_module_version": "1.2.0",
            "_view_count": null,
            "flex_flow": null,
            "width": null,
            "min_width": null,
            "border": null,
            "align_items": null,
            "bottom": null,
            "_model_module": "@jupyter-widgets/base",
            "top": null,
            "grid_column": null,
            "overflow_y": null,
            "overflow_x": null,
            "grid_auto_flow": null,
            "grid_area": null,
            "grid_template_columns": null,
            "flex": null,
            "_model_name": "LayoutModel",
            "justify_items": null,
            "grid_row": null,
            "max_height": null,
            "align_content": null,
            "visibility": null,
            "align_self": null,
            "height": null,
            "min_height": null,
            "padding": null,
            "grid_auto_rows": null,
            "grid_gap": null,
            "max_width": null,
            "order": null,
            "_view_module_version": "1.2.0",
            "grid_template_areas": null,
            "object_position": null,
            "object_fit": null,
            "grid_auto_columns": null,
            "margin": null,
            "display": null,
            "left": null
          }
        },
        "bed902f9572f410daea696e52abe4b72": {
          "model_module": "@jupyter-widgets/controls",
          "model_name": "ProgressStyleModel",
          "model_module_version": "1.5.0",
          "state": {
            "_view_name": "StyleView",
            "_model_name": "ProgressStyleModel",
            "description_width": "",
            "_view_module": "@jupyter-widgets/base",
            "_model_module_version": "1.5.0",
            "_view_count": null,
            "_view_module_version": "1.2.0",
            "bar_color": null,
            "_model_module": "@jupyter-widgets/controls"
          }
        },
        "cec8f514a461409c9ef593ed40ab4602": {
          "model_module": "@jupyter-widgets/base",
          "model_name": "LayoutModel",
          "model_module_version": "1.2.0",
          "state": {
            "_view_name": "LayoutView",
            "grid_template_rows": null,
            "right": null,
            "justify_content": null,
            "_view_module": "@jupyter-widgets/base",
            "overflow": null,
            "_model_module_version": "1.2.0",
            "_view_count": null,
            "flex_flow": null,
            "width": null,
            "min_width": null,
            "border": null,
            "align_items": null,
            "bottom": null,
            "_model_module": "@jupyter-widgets/base",
            "top": null,
            "grid_column": null,
            "overflow_y": null,
            "overflow_x": null,
            "grid_auto_flow": null,
            "grid_area": null,
            "grid_template_columns": null,
            "flex": null,
            "_model_name": "LayoutModel",
            "justify_items": null,
            "grid_row": null,
            "max_height": null,
            "align_content": null,
            "visibility": null,
            "align_self": null,
            "height": null,
            "min_height": null,
            "padding": null,
            "grid_auto_rows": null,
            "grid_gap": null,
            "max_width": null,
            "order": null,
            "_view_module_version": "1.2.0",
            "grid_template_areas": null,
            "object_position": null,
            "object_fit": null,
            "grid_auto_columns": null,
            "margin": null,
            "display": null,
            "left": null
          }
        },
        "b5452913522a49239ad02208dd65f714": {
          "model_module": "@jupyter-widgets/controls",
          "model_name": "DescriptionStyleModel",
          "model_module_version": "1.5.0",
          "state": {
            "_view_name": "StyleView",
            "_model_name": "DescriptionStyleModel",
            "description_width": "",
            "_view_module": "@jupyter-widgets/base",
            "_model_module_version": "1.5.0",
            "_view_count": null,
            "_view_module_version": "1.2.0",
            "_model_module": "@jupyter-widgets/controls"
          }
        },
        "2103fc4184af4ab5bc0fde09ac41bde6": {
          "model_module": "@jupyter-widgets/base",
          "model_name": "LayoutModel",
          "model_module_version": "1.2.0",
          "state": {
            "_view_name": "LayoutView",
            "grid_template_rows": null,
            "right": null,
            "justify_content": null,
            "_view_module": "@jupyter-widgets/base",
            "overflow": null,
            "_model_module_version": "1.2.0",
            "_view_count": null,
            "flex_flow": null,
            "width": null,
            "min_width": null,
            "border": null,
            "align_items": null,
            "bottom": null,
            "_model_module": "@jupyter-widgets/base",
            "top": null,
            "grid_column": null,
            "overflow_y": null,
            "overflow_x": null,
            "grid_auto_flow": null,
            "grid_area": null,
            "grid_template_columns": null,
            "flex": null,
            "_model_name": "LayoutModel",
            "justify_items": null,
            "grid_row": null,
            "max_height": null,
            "align_content": null,
            "visibility": null,
            "align_self": null,
            "height": null,
            "min_height": null,
            "padding": null,
            "grid_auto_rows": null,
            "grid_gap": null,
            "max_width": null,
            "order": null,
            "_view_module_version": "1.2.0",
            "grid_template_areas": null,
            "object_position": null,
            "object_fit": null,
            "grid_auto_columns": null,
            "margin": null,
            "display": null,
            "left": null
          }
        },
        "e73bc991e15b448a80c808379c63ea86": {
          "model_module": "@jupyter-widgets/controls",
          "model_name": "HBoxModel",
          "model_module_version": "1.5.0",
          "state": {
            "_view_name": "HBoxView",
            "_dom_classes": [],
            "_model_name": "HBoxModel",
            "_view_module": "@jupyter-widgets/controls",
            "_model_module_version": "1.5.0",
            "_view_count": null,
            "_view_module_version": "1.5.0",
            "box_style": "",
            "layout": "IPY_MODEL_8c64d2afb5294d009efd126dba2a80e3",
            "_model_module": "@jupyter-widgets/controls",
            "children": [
              "IPY_MODEL_e10f94468950453db1f7c1fcaa978217",
              "IPY_MODEL_db674b29930d48888b578c91525fa567",
              "IPY_MODEL_15e21e9e83934c4e8c5e962e83687133"
            ]
          }
        },
        "8c64d2afb5294d009efd126dba2a80e3": {
          "model_module": "@jupyter-widgets/base",
          "model_name": "LayoutModel",
          "model_module_version": "1.2.0",
          "state": {
            "_view_name": "LayoutView",
            "grid_template_rows": null,
            "right": null,
            "justify_content": null,
            "_view_module": "@jupyter-widgets/base",
            "overflow": null,
            "_model_module_version": "1.2.0",
            "_view_count": null,
            "flex_flow": null,
            "width": null,
            "min_width": null,
            "border": null,
            "align_items": null,
            "bottom": null,
            "_model_module": "@jupyter-widgets/base",
            "top": null,
            "grid_column": null,
            "overflow_y": null,
            "overflow_x": null,
            "grid_auto_flow": null,
            "grid_area": null,
            "grid_template_columns": null,
            "flex": null,
            "_model_name": "LayoutModel",
            "justify_items": null,
            "grid_row": null,
            "max_height": null,
            "align_content": null,
            "visibility": null,
            "align_self": null,
            "height": null,
            "min_height": null,
            "padding": null,
            "grid_auto_rows": null,
            "grid_gap": null,
            "max_width": null,
            "order": null,
            "_view_module_version": "1.2.0",
            "grid_template_areas": null,
            "object_position": null,
            "object_fit": null,
            "grid_auto_columns": null,
            "margin": null,
            "display": null,
            "left": null
          }
        },
        "e10f94468950453db1f7c1fcaa978217": {
          "model_module": "@jupyter-widgets/controls",
          "model_name": "HTMLModel",
          "model_module_version": "1.5.0",
          "state": {
            "_view_name": "HTMLView",
            "style": "IPY_MODEL_a73033d7c1c8461397e582fbe7cba7ab",
            "_dom_classes": [],
            "description": "",
            "_model_name": "HTMLModel",
            "placeholder": "​",
            "_view_module": "@jupyter-widgets/controls",
            "_model_module_version": "1.5.0",
            "value": "Test Loss: 0.7574, Test Acc: 0.625: 100%",
            "_view_count": null,
            "_view_module_version": "1.5.0",
            "description_tooltip": null,
            "_model_module": "@jupyter-widgets/controls",
            "layout": "IPY_MODEL_c3032dad429347c78e1c0e5001663887"
          }
        },
        "db674b29930d48888b578c91525fa567": {
          "model_module": "@jupyter-widgets/controls",
          "model_name": "FloatProgressModel",
          "model_module_version": "1.5.0",
          "state": {
            "_view_name": "ProgressView",
            "style": "IPY_MODEL_0bbd0ab64e694531a4b717845158a1ee",
            "_dom_classes": [],
            "description": "",
            "_model_name": "FloatProgressModel",
            "bar_style": "success",
            "max": 313,
            "_view_module": "@jupyter-widgets/controls",
            "_model_module_version": "1.5.0",
            "value": 313,
            "_view_count": null,
            "_view_module_version": "1.5.0",
            "orientation": "horizontal",
            "min": 0,
            "description_tooltip": null,
            "_model_module": "@jupyter-widgets/controls",
            "layout": "IPY_MODEL_945808f38cdf4438bb4928fcbc16711c"
          }
        },
        "15e21e9e83934c4e8c5e962e83687133": {
          "model_module": "@jupyter-widgets/controls",
          "model_name": "HTMLModel",
          "model_module_version": "1.5.0",
          "state": {
            "_view_name": "HTMLView",
            "style": "IPY_MODEL_2a2dbb960d854436bc70a7df0454cbfc",
            "_dom_classes": [],
            "description": "",
            "_model_name": "HTMLModel",
            "placeholder": "​",
            "_view_module": "@jupyter-widgets/controls",
            "_model_module_version": "1.5.0",
            "value": " 313/313 [01:33&lt;00:00,  4.95it/s]",
            "_view_count": null,
            "_view_module_version": "1.5.0",
            "description_tooltip": null,
            "_model_module": "@jupyter-widgets/controls",
            "layout": "IPY_MODEL_68a38e7492a344cab4894472e3663ef8"
          }
        },
        "a73033d7c1c8461397e582fbe7cba7ab": {
          "model_module": "@jupyter-widgets/controls",
          "model_name": "DescriptionStyleModel",
          "model_module_version": "1.5.0",
          "state": {
            "_view_name": "StyleView",
            "_model_name": "DescriptionStyleModel",
            "description_width": "",
            "_view_module": "@jupyter-widgets/base",
            "_model_module_version": "1.5.0",
            "_view_count": null,
            "_view_module_version": "1.2.0",
            "_model_module": "@jupyter-widgets/controls"
          }
        },
        "c3032dad429347c78e1c0e5001663887": {
          "model_module": "@jupyter-widgets/base",
          "model_name": "LayoutModel",
          "model_module_version": "1.2.0",
          "state": {
            "_view_name": "LayoutView",
            "grid_template_rows": null,
            "right": null,
            "justify_content": null,
            "_view_module": "@jupyter-widgets/base",
            "overflow": null,
            "_model_module_version": "1.2.0",
            "_view_count": null,
            "flex_flow": null,
            "width": null,
            "min_width": null,
            "border": null,
            "align_items": null,
            "bottom": null,
            "_model_module": "@jupyter-widgets/base",
            "top": null,
            "grid_column": null,
            "overflow_y": null,
            "overflow_x": null,
            "grid_auto_flow": null,
            "grid_area": null,
            "grid_template_columns": null,
            "flex": null,
            "_model_name": "LayoutModel",
            "justify_items": null,
            "grid_row": null,
            "max_height": null,
            "align_content": null,
            "visibility": null,
            "align_self": null,
            "height": null,
            "min_height": null,
            "padding": null,
            "grid_auto_rows": null,
            "grid_gap": null,
            "max_width": null,
            "order": null,
            "_view_module_version": "1.2.0",
            "grid_template_areas": null,
            "object_position": null,
            "object_fit": null,
            "grid_auto_columns": null,
            "margin": null,
            "display": null,
            "left": null
          }
        },
        "0bbd0ab64e694531a4b717845158a1ee": {
          "model_module": "@jupyter-widgets/controls",
          "model_name": "ProgressStyleModel",
          "model_module_version": "1.5.0",
          "state": {
            "_view_name": "StyleView",
            "_model_name": "ProgressStyleModel",
            "description_width": "",
            "_view_module": "@jupyter-widgets/base",
            "_model_module_version": "1.5.0",
            "_view_count": null,
            "_view_module_version": "1.2.0",
            "bar_color": null,
            "_model_module": "@jupyter-widgets/controls"
          }
        },
        "945808f38cdf4438bb4928fcbc16711c": {
          "model_module": "@jupyter-widgets/base",
          "model_name": "LayoutModel",
          "model_module_version": "1.2.0",
          "state": {
            "_view_name": "LayoutView",
            "grid_template_rows": null,
            "right": null,
            "justify_content": null,
            "_view_module": "@jupyter-widgets/base",
            "overflow": null,
            "_model_module_version": "1.2.0",
            "_view_count": null,
            "flex_flow": null,
            "width": null,
            "min_width": null,
            "border": null,
            "align_items": null,
            "bottom": null,
            "_model_module": "@jupyter-widgets/base",
            "top": null,
            "grid_column": null,
            "overflow_y": null,
            "overflow_x": null,
            "grid_auto_flow": null,
            "grid_area": null,
            "grid_template_columns": null,
            "flex": null,
            "_model_name": "LayoutModel",
            "justify_items": null,
            "grid_row": null,
            "max_height": null,
            "align_content": null,
            "visibility": null,
            "align_self": null,
            "height": null,
            "min_height": null,
            "padding": null,
            "grid_auto_rows": null,
            "grid_gap": null,
            "max_width": null,
            "order": null,
            "_view_module_version": "1.2.0",
            "grid_template_areas": null,
            "object_position": null,
            "object_fit": null,
            "grid_auto_columns": null,
            "margin": null,
            "display": null,
            "left": null
          }
        },
        "2a2dbb960d854436bc70a7df0454cbfc": {
          "model_module": "@jupyter-widgets/controls",
          "model_name": "DescriptionStyleModel",
          "model_module_version": "1.5.0",
          "state": {
            "_view_name": "StyleView",
            "_model_name": "DescriptionStyleModel",
            "description_width": "",
            "_view_module": "@jupyter-widgets/base",
            "_model_module_version": "1.5.0",
            "_view_count": null,
            "_view_module_version": "1.2.0",
            "_model_module": "@jupyter-widgets/controls"
          }
        },
        "68a38e7492a344cab4894472e3663ef8": {
          "model_module": "@jupyter-widgets/base",
          "model_name": "LayoutModel",
          "model_module_version": "1.2.0",
          "state": {
            "_view_name": "LayoutView",
            "grid_template_rows": null,
            "right": null,
            "justify_content": null,
            "_view_module": "@jupyter-widgets/base",
            "overflow": null,
            "_model_module_version": "1.2.0",
            "_view_count": null,
            "flex_flow": null,
            "width": null,
            "min_width": null,
            "border": null,
            "align_items": null,
            "bottom": null,
            "_model_module": "@jupyter-widgets/base",
            "top": null,
            "grid_column": null,
            "overflow_y": null,
            "overflow_x": null,
            "grid_auto_flow": null,
            "grid_area": null,
            "grid_template_columns": null,
            "flex": null,
            "_model_name": "LayoutModel",
            "justify_items": null,
            "grid_row": null,
            "max_height": null,
            "align_content": null,
            "visibility": null,
            "align_self": null,
            "height": null,
            "min_height": null,
            "padding": null,
            "grid_auto_rows": null,
            "grid_gap": null,
            "max_width": null,
            "order": null,
            "_view_module_version": "1.2.0",
            "grid_template_areas": null,
            "object_position": null,
            "object_fit": null,
            "grid_auto_columns": null,
            "margin": null,
            "display": null,
            "left": null
          }
        }
      }
    }
  },
  "cells": [
    {
      "cell_type": "markdown",
      "metadata": {
        "id": "Ot3c4fjZwC4T"
      },
      "source": [
        "<img src=\"https://s8.hostingkartinok.com/uploads/images/2018/08/308b49fcfbc619d629fe4604bceb67ac.jpg\" width=500, height=450>\n",
        "<h3 style=\"text-align: center;\"><b>Физтех-Школа Прикладной математики и информатики (ФПМИ) МФТИ</b></h3>"
      ]
    },
    {
      "cell_type": "markdown",
      "metadata": {
        "id": "P2JdzEXmwRU5"
      },
      "source": [
        "---"
      ]
    },
    {
      "cell_type": "markdown",
      "metadata": {
        "id": "eYtJxkhKpYK2"
      },
      "source": [
        "# Embeddings\n",
        "\n",
        "Привет! В этом домашнем задании мы с помощью эмбеддингов решим задачу семантической классификации твитов.\n",
        "\n",
        "Для этого мы воспользуемся предобученными эмбеддингами word2vec."
      ]
    },
    {
      "cell_type": "markdown",
      "metadata": {
        "id": "jBOdoFS8AdpP"
      },
      "source": [
        "Для начала скачаем датасет для семантической классификации твитов:"
      ]
    },
    {
      "cell_type": "code",
      "metadata": {
        "colab": {
          "base_uri": "https://localhost:8080/"
        },
        "id": "wXjhtsfF_gBK",
        "outputId": "f93b256d-6073-44b0-ae26-c185f6791edf"
      },
      "source": [
        "!gdown https://drive.google.com/uc?id=1eE1FiUkXkcbw0McId4i7qY-L8hH-_Qph&export=download\n",
        "!unzip archive.zip"
      ],
      "execution_count": 1,
      "outputs": [
        {
          "output_type": "stream",
          "name": "stdout",
          "text": [
            "Downloading...\n",
            "From: https://drive.google.com/uc?id=1eE1FiUkXkcbw0McId4i7qY-L8hH-_Qph\n",
            "To: /content/archive.zip\n",
            "84.9MB [00:00, 87.8MB/s]\n",
            "Archive:  archive.zip\n",
            "  inflating: training.1600000.processed.noemoticon.csv  \n"
          ]
        }
      ]
    },
    {
      "cell_type": "markdown",
      "metadata": {
        "id": "Sh6wW-K53Mle"
      },
      "source": [
        "Импортируем нужные библиотеки:"
      ]
    },
    {
      "cell_type": "code",
      "metadata": {
        "id": "A2Y5CHRm6NFe"
      },
      "source": [
        "import math\n",
        "import random\n",
        "import string\n",
        "\n",
        "import numpy as np\n",
        "import pandas as pd\n",
        "import seaborn as sns\n",
        "\n",
        "import torch\n",
        "import nltk\n",
        "import gensim\n",
        "import gensim.downloader as api"
      ],
      "execution_count": 2,
      "outputs": []
    },
    {
      "cell_type": "code",
      "metadata": {
        "id": "73Lb0wbESrgQ"
      },
      "source": [
        "random.seed(42)\n",
        "np.random.seed(42)\n",
        "torch.random.manual_seed(42)\n",
        "torch.cuda.random.manual_seed(42)\n",
        "torch.cuda.random.manual_seed_all(42)\n",
        "\n",
        "# device = \"cuda\" if torch.cuda.is_available() else \"cpu\"\n",
        "\n",
        "device = \"cpu\""
      ],
      "execution_count": 3,
      "outputs": []
    },
    {
      "cell_type": "code",
      "metadata": {
        "id": "L_Wv-4bu83Fl"
      },
      "source": [
        "data = pd.read_csv(\"training.1600000.processed.noemoticon.csv\", \n",
        "                   encoding=\"latin\", \n",
        "                   header=None, \n",
        "                   names=[\"emotion\", \"id\", \"date\", \"flag\", \"user\", \"text\"])"
      ],
      "execution_count": 4,
      "outputs": []
    },
    {
      "cell_type": "markdown",
      "metadata": {
        "id": "RY1pvYDS3Yuj"
      },
      "source": [
        "Посмотрим на данные:"
      ]
    },
    {
      "cell_type": "code",
      "metadata": {
        "colab": {
          "base_uri": "https://localhost:8080/",
          "height": 202
        },
        "id": "jST2tjgjCTWD",
        "outputId": "56a9e0a1-a298-492d-fd05-b89910bbaff7"
      },
      "source": [
        "data.head()"
      ],
      "execution_count": null,
      "outputs": [
        {
          "data": {
            "text/html": [
              "<div>\n",
              "<style scoped>\n",
              "    .dataframe tbody tr th:only-of-type {\n",
              "        vertical-align: middle;\n",
              "    }\n",
              "\n",
              "    .dataframe tbody tr th {\n",
              "        vertical-align: top;\n",
              "    }\n",
              "\n",
              "    .dataframe thead th {\n",
              "        text-align: right;\n",
              "    }\n",
              "</style>\n",
              "<table border=\"1\" class=\"dataframe\">\n",
              "  <thead>\n",
              "    <tr style=\"text-align: right;\">\n",
              "      <th></th>\n",
              "      <th>emotion</th>\n",
              "      <th>id</th>\n",
              "      <th>date</th>\n",
              "      <th>flag</th>\n",
              "      <th>user</th>\n",
              "      <th>text</th>\n",
              "    </tr>\n",
              "  </thead>\n",
              "  <tbody>\n",
              "    <tr>\n",
              "      <th>0</th>\n",
              "      <td>0</td>\n",
              "      <td>1467810369</td>\n",
              "      <td>Mon Apr 06 22:19:45 PDT 2009</td>\n",
              "      <td>NO_QUERY</td>\n",
              "      <td>_TheSpecialOne_</td>\n",
              "      <td>@switchfoot http://twitpic.com/2y1zl - Awww, t...</td>\n",
              "    </tr>\n",
              "    <tr>\n",
              "      <th>1</th>\n",
              "      <td>0</td>\n",
              "      <td>1467810672</td>\n",
              "      <td>Mon Apr 06 22:19:49 PDT 2009</td>\n",
              "      <td>NO_QUERY</td>\n",
              "      <td>scotthamilton</td>\n",
              "      <td>is upset that he can't update his Facebook by ...</td>\n",
              "    </tr>\n",
              "    <tr>\n",
              "      <th>2</th>\n",
              "      <td>0</td>\n",
              "      <td>1467810917</td>\n",
              "      <td>Mon Apr 06 22:19:53 PDT 2009</td>\n",
              "      <td>NO_QUERY</td>\n",
              "      <td>mattycus</td>\n",
              "      <td>@Kenichan I dived many times for the ball. Man...</td>\n",
              "    </tr>\n",
              "    <tr>\n",
              "      <th>3</th>\n",
              "      <td>0</td>\n",
              "      <td>1467811184</td>\n",
              "      <td>Mon Apr 06 22:19:57 PDT 2009</td>\n",
              "      <td>NO_QUERY</td>\n",
              "      <td>ElleCTF</td>\n",
              "      <td>my whole body feels itchy and like its on fire</td>\n",
              "    </tr>\n",
              "    <tr>\n",
              "      <th>4</th>\n",
              "      <td>0</td>\n",
              "      <td>1467811193</td>\n",
              "      <td>Mon Apr 06 22:19:57 PDT 2009</td>\n",
              "      <td>NO_QUERY</td>\n",
              "      <td>Karoli</td>\n",
              "      <td>@nationwideclass no, it's not behaving at all....</td>\n",
              "    </tr>\n",
              "  </tbody>\n",
              "</table>\n",
              "</div>"
            ],
            "text/plain": [
              "   emotion  ...                                               text\n",
              "0        0  ...  @switchfoot http://twitpic.com/2y1zl - Awww, t...\n",
              "1        0  ...  is upset that he can't update his Facebook by ...\n",
              "2        0  ...  @Kenichan I dived many times for the ball. Man...\n",
              "3        0  ...    my whole body feels itchy and like its on fire \n",
              "4        0  ...  @nationwideclass no, it's not behaving at all....\n",
              "\n",
              "[5 rows x 6 columns]"
            ]
          },
          "execution_count": 16,
          "metadata": {
            "tags": []
          },
          "output_type": "execute_result"
        }
      ]
    },
    {
      "cell_type": "code",
      "metadata": {
        "colab": {
          "base_uri": "https://localhost:8080/"
        },
        "id": "yjUcp2uQsQwl",
        "outputId": "1c27a2ba-7dcd-48c1-bbad-7bd7e081fac3"
      },
      "source": [
        "data.shape"
      ],
      "execution_count": null,
      "outputs": [
        {
          "data": {
            "text/plain": [
              "(1600000, 6)"
            ]
          },
          "execution_count": 6,
          "metadata": {
            "tags": []
          },
          "output_type": "execute_result"
        }
      ]
    },
    {
      "cell_type": "markdown",
      "metadata": {
        "id": "OhbR5JJyA2VW"
      },
      "source": [
        "Выведем несколько примеров твитов, чтобы понимать, с чем мы имеем дело:"
      ]
    },
    {
      "cell_type": "code",
      "metadata": {
        "colab": {
          "base_uri": "https://localhost:8080/"
        },
        "id": "kCBwe0wR83C2",
        "outputId": "4bb25738-20b0-47bc-bb2f-f7b9fd862704"
      },
      "source": [
        "examples = data[\"text\"].sample(10)\n",
        "print(\"\\n\".join(examples))"
      ],
      "execution_count": null,
      "outputs": [
        {
          "name": "stdout",
          "output_type": "stream",
          "text": [
            "@chrishasboobs AHHH I HOPE YOUR OK!!! \n",
            "@misstoriblack cool , i have no tweet apps  for my razr 2\n",
            "@TiannaChaos i know  just family drama. its lame.hey next time u hang out with kim n u guys like have a sleepover or whatever, ill call u\n",
            "School email won't open  and I have geography stuff on there to revise! *Stupid School* :'(\n",
            "upper airways problem \n",
            "Going to miss Pastor's sermon on Faith... \n",
            "on lunch....dj should come eat with me \n",
            "@piginthepoke oh why are you feeling like that? \n",
            "gahh noo!peyton needs to live!this is horrible \n",
            "@mrstessyman thank you glad you like it! There is a product review bit on the site  Enjoy knitting it!\n"
          ]
        }
      ]
    },
    {
      "cell_type": "markdown",
      "metadata": {
        "id": "GvcYW8aX3mKt"
      },
      "source": [
        "Как видим, тексты твитов очень \"грязные\". Нужно предобработать датасет, прежде чем строить для него модель классификации.\n",
        "\n",
        "Чтобы сравнивать различные методы обработки текста/модели/прочее, разделим датасет на dev(для обучения модели) и test(для получения качества модели)."
      ]
    },
    {
      "cell_type": "code",
      "metadata": {
        "id": "f8hUK-jnQg6O"
      },
      "source": [
        "indexes = np.arange(data.shape[0])\n",
        "np.random.shuffle(indexes)\n",
        "dev_size = math.ceil(data.shape[0] * 0.8) # округление вверх\n",
        "\n",
        "dev_indexes = indexes[:dev_size]\n",
        "test_indexes = indexes[dev_size:]\n",
        "\n",
        "dev_data = data.iloc[dev_indexes]\n",
        "test_data = data.iloc[test_indexes]\n",
        "\n",
        "dev_data.reset_index(drop=True, inplace=True)\n",
        "test_data.reset_index(drop=True, inplace=True)"
      ],
      "execution_count": 5,
      "outputs": []
    },
    {
      "cell_type": "markdown",
      "metadata": {
        "id": "6ivcpeFoCnZA"
      },
      "source": [
        "## Обработка текста"
      ]
    },
    {
      "cell_type": "markdown",
      "metadata": {
        "id": "Df4nca285Dar"
      },
      "source": [
        "Токенизируем текст, избавимся от знаков пунктуации и выкинем все слова, состоящие менее чем из 4 букв:"
      ]
    },
    {
      "cell_type": "code",
      "metadata": {
        "colab": {
          "base_uri": "https://localhost:8080/"
        },
        "id": "D6a4_HCbRxZN",
        "outputId": "5493bd4d-8c1d-4158-de39-81b5ff30a109"
      },
      "source": [
        "nltk.download('stopwords')\n",
        "from nltk.corpus import stopwords\n",
        "stopWords = set(stopwords.words('english'))\n",
        "\n",
        "import re\n",
        "\n",
        "nltk.download('wordnet')"
      ],
      "execution_count": 6,
      "outputs": [
        {
          "output_type": "stream",
          "name": "stdout",
          "text": [
            "[nltk_data] Downloading package stopwords to /root/nltk_data...\n",
            "[nltk_data]   Unzipping corpora/stopwords.zip.\n",
            "[nltk_data] Downloading package wordnet to /root/nltk_data...\n",
            "[nltk_data]   Unzipping corpora/wordnet.zip.\n"
          ]
        },
        {
          "output_type": "execute_result",
          "data": {
            "text/plain": [
              "True"
            ]
          },
          "metadata": {},
          "execution_count": 6
        }
      ]
    },
    {
      "cell_type": "code",
      "metadata": {
        "colab": {
          "base_uri": "https://localhost:8080/",
          "height": 35
        },
        "id": "cOfFaRPES5Rn",
        "outputId": "54f3b8f7-7000-4ab0-b0b6-70aa12506fae"
      },
      "source": [
        "dev_data[\"text\"][0]"
      ],
      "execution_count": null,
      "outputs": [
        {
          "data": {
            "application/vnd.google.colaboratory.intrinsic+json": {
              "type": "string"
            },
            "text/plain": [
              "'@chrishasboobs AHHH I HOPE YOUR OK!!! '"
            ]
          },
          "execution_count": 19,
          "metadata": {
            "tags": []
          },
          "output_type": "execute_result"
        }
      ]
    },
    {
      "cell_type": "markdown",
      "metadata": {
        "id": "C4JNKIrx9bTA"
      },
      "source": [
        "Токенизация с nltk.WordPunctTokenizer()"
      ]
    },
    {
      "cell_type": "code",
      "metadata": {
        "colab": {
          "base_uri": "https://localhost:8080/"
        },
        "id": "nsNHNDES9ZVF",
        "outputId": "86da1729-13ab-4b49-c875-ea71e506c9dd"
      },
      "source": [
        "tokenizer = nltk.WordPunctTokenizer()\n",
        "line = tokenizer.tokenize(dev_data[\"text\"][0].lower())\n",
        "print(\" \".join(line))"
      ],
      "execution_count": 7,
      "outputs": [
        {
          "output_type": "stream",
          "name": "stdout",
          "text": [
            "@ chrishasboobs ahhh i hope your ok !!!\n"
          ]
        }
      ]
    },
    {
      "cell_type": "code",
      "metadata": {
        "colab": {
          "base_uri": "https://localhost:8080/"
        },
        "id": "GcBS_u_hTuxp",
        "outputId": "0fd9d2bf-818b-4a00-9bcb-f6486b12f687"
      },
      "source": [
        "# string.punctuation = !\"#$%&'()*+, -./:;<=>?@[\\]^_`{|}~\n",
        "\n",
        "filtered_line = [w for w in line if all(c not in string.punctuation for c in w) and len(w) > 3]\n",
        "print(\" \".join(filtered_line))"
      ],
      "execution_count": 8,
      "outputs": [
        {
          "output_type": "stream",
          "name": "stdout",
          "text": [
            "chrishasboobs ahhh hope your\n"
          ]
        }
      ]
    },
    {
      "cell_type": "markdown",
      "metadata": {
        "id": "HQ5HIdOE9jQr"
      },
      "source": [
        "Токенизация через регулярные выражения"
      ]
    },
    {
      "cell_type": "code",
      "metadata": {
        "colab": {
          "base_uri": "https://localhost:8080/"
        },
        "id": "uJ0LRGqsSd7i",
        "outputId": "88ca20d7-edd9-401b-ddcf-9eb7dd665601"
      },
      "source": [
        "line = re.findall('[a-zA-Z]+', dev_data[\"text\"][0].lower())\n",
        "print(\" \".join(line))"
      ],
      "execution_count": 9,
      "outputs": [
        {
          "output_type": "stream",
          "name": "stdout",
          "text": [
            "chrishasboobs ahhh i hope your ok\n"
          ]
        }
      ]
    },
    {
      "cell_type": "code",
      "metadata": {
        "colab": {
          "base_uri": "https://localhost:8080/"
        },
        "id": "eCHpRlDITofa",
        "outputId": "77acf98f-8433-407e-df1d-bcaf590bfcd9"
      },
      "source": [
        "wnl = nltk.WordNetLemmatizer()\n",
        "\n",
        "filtered_line = [wnl.lemmatize(word) for word in line if word not in stopWords]\n",
        "filtered_line"
      ],
      "execution_count": 10,
      "outputs": [
        {
          "output_type": "execute_result",
          "data": {
            "text/plain": [
              "['chrishasboobs', 'ahhh', 'hope', 'ok']"
            ]
          },
          "metadata": {},
          "execution_count": 10
        }
      ]
    },
    {
      "cell_type": "markdown",
      "metadata": {
        "id": "cuFmlXkC6E7X"
      },
      "source": [
        "Загрузим предобученную модель эмбеддингов. \n",
        "\n",
        "Если хотите, можно попробовать другую. Полный список можно найти здесь: https://github.com/RaRe-Technologies/gensim-data.\n",
        "\n",
        "Данная модель выдает эмбеддинги для **слов**. Строить по эмбеддингам слов эмбеддинги предложений мы будем ниже."
      ]
    },
    {
      "cell_type": "code",
      "metadata": {
        "colab": {
          "base_uri": "https://localhost:8080/"
        },
        "id": "cACJpje2T5bc",
        "outputId": "cc30ec4f-593a-43c2-e3a3-ac0f56cf9249"
      },
      "source": [
        "word2vec = api.load(\"word2vec-google-news-300\")"
      ],
      "execution_count": 11,
      "outputs": [
        {
          "output_type": "stream",
          "name": "stdout",
          "text": [
            "[==================================================] 100.0% 1662.8/1662.8MB downloaded\n"
          ]
        }
      ]
    },
    {
      "cell_type": "code",
      "metadata": {
        "colab": {
          "base_uri": "https://localhost:8080/"
        },
        "id": "NafmYHrkT5YD",
        "outputId": "b35886ae-5444-4613-c511-7616becbcc47"
      },
      "source": [
        "emb_line = [word2vec.get_vector(w) for w in filtered_line if w in word2vec and len(w) > 3]\n",
        "print(sum(emb_line).shape)"
      ],
      "execution_count": null,
      "outputs": [
        {
          "name": "stdout",
          "output_type": "stream",
          "text": [
            "(300,)\n"
          ]
        }
      ]
    },
    {
      "cell_type": "markdown",
      "metadata": {
        "id": "LTS6LCkd6_E7"
      },
      "source": [
        "Нормализуем эмбеддинги, прежде чем обучать на них сеть. \n",
        "(наверное, вы помните, что нейронные сети гораздо лучше обучаются на нормализованных данных)"
      ]
    },
    {
      "cell_type": "code",
      "metadata": {
        "colab": {
          "base_uri": "https://localhost:8080/"
        },
        "id": "3PyLTZ6xf3Oq",
        "outputId": "776fa34b-bca7-4013-ecbc-607587eb18b8"
      },
      "source": [
        "mean = np.mean(word2vec.vectors, 0)\n",
        "std = np.std(word2vec.vectors, 0)\n",
        "norm_emb_line = [(word2vec.get_vector(w) - mean) / std for w in filtered_line \\\n",
        "                 if w in word2vec and len(w) > 3]\n",
        "print(sum(norm_emb_line).shape)\n",
        "print([all(norm_emb_line[i] == emb_line[i]) for i in range(len(emb_line))])"
      ],
      "execution_count": null,
      "outputs": [
        {
          "name": "stdout",
          "output_type": "stream",
          "text": [
            "(300,)\n",
            "[False, False]\n"
          ]
        }
      ]
    },
    {
      "cell_type": "markdown",
      "metadata": {
        "id": "q7vm6Ppd7Ubw"
      },
      "source": [
        "Сделаем датасет, который будет по запросу возвращать подготовленные данные."
      ]
    },
    {
      "cell_type": "code",
      "metadata": {
        "id": "b4eZajF7pZ1X"
      },
      "source": [
        "from torch.utils.data import Dataset, random_split\n",
        "\n",
        "class TwitterDataset(Dataset):\n",
        "    def __init__(self, data: pd.DataFrame, feature_column: str, \n",
        "                 target_column: str, word2vec: gensim.models.Word2Vec):\n",
        "        # self.tokenizer = re\n",
        "        self.tokenizer = nltk.WordPunctTokenizer()\n",
        "        # self.lemmatizer = nltk.WordNetLemmatizer()\n",
        "        # self.stopwords = set(stopwords.words('english'))\n",
        "        \n",
        "        self.data = data\n",
        "\n",
        "        self.feature_column = feature_column\n",
        "        self.target_column = target_column\n",
        "\n",
        "        self.word2vec = word2vec\n",
        "\n",
        "        self.label2num = lambda label: 0 if label == 0 else 1\n",
        "        self.mean = np.mean(word2vec.vectors, axis=0)\n",
        "        self.std = np.std(word2vec.vectors, axis=0)\n",
        "\n",
        "    def __getitem__(self, item):\n",
        "        text = self.data[self.feature_column][item]\n",
        "        label = self.label2num(self.data[self.target_column][item])\n",
        "\n",
        "        tokens = self.get_tokens_(text)\n",
        "        embeddings = self.get_embeddings_(tokens)\n",
        "\n",
        "        return {\"feature\": embeddings, \"target\": label}\n",
        "\n",
        "    def get_tokens_(self, text):\n",
        "\n",
        "        # Получи все токены из текста и профильтруй их\n",
        "        line = self.tokenizer.tokenize(text.lower())\n",
        "        # line = self.tokenizer.findall('[a-zA-Z]+', text.lower())\n",
        "\n",
        "        # оставила слова в 3 буквы, т.к. они распространены в английском\n",
        "        tokens = [w for w in line if all(c not in string.punctuation for c in w)]\n",
        "        tokens = [w for w in tokens if len(w) > 2] \n",
        "        # tokens = [w for w in tokens if w not in self.stopwords and len(w) > 2] \n",
        "        # tokens = [self.lemmatizer.lemmatize(w) for w in tokens] \n",
        " \n",
        "        return tokens\n",
        "\n",
        "    def get_embeddings_(self, tokens):\n",
        "        # Получи эмбеддинги слов и усредни их\n",
        "        embeddings = [(self.word2vec.get_vector(w) - self.mean) / self.std \\\n",
        "                      for w in tokens if w in self.word2vec]                                                                               \n",
        "                                                                                                        \n",
        "        if len(embeddings) == 0:\n",
        "            embeddings = np.zeros((1, self.word2vec.vector_size))\n",
        "        else:\n",
        "            embeddings = np.array(embeddings)\n",
        "            if len(embeddings.shape) == 1:\n",
        "                embeddings = embeddings.reshape(-1, 1)\n",
        "\n",
        "        return embeddings\n",
        "\n",
        "    def __len__(self):\n",
        "        return self.data.shape[0]"
      ],
      "execution_count": null,
      "outputs": []
    },
    {
      "cell_type": "code",
      "metadata": {
        "id": "IZJpttbXpZyz"
      },
      "source": [
        "dev = TwitterDataset(dev_data, \"text\", \"emotion\", word2vec)"
      ],
      "execution_count": null,
      "outputs": []
    },
    {
      "cell_type": "markdown",
      "metadata": {
        "id": "Sr-aetH0_LH1"
      },
      "source": [
        "Отлично, мы готовы с помощью эмбеддингов слов превращать твиты в векторы и обучать нейронную сеть.\n",
        "\n",
        "Превращать твиты в векторы, используя эмбеддинги слов, можно несколькими способами. А именно такими:"
      ]
    },
    {
      "cell_type": "markdown",
      "metadata": {
        "id": "4AhHrWa196Yc"
      },
      "source": [
        "## Average embedding (2 балла)\n",
        "---\n",
        "Это самый простой вариант, как получить вектор предложения, используя векторные представления слов в предложении. А именно: вектор предложения есть средний вектор всех слов в предложении (которые остались после токенизации и удаления коротких слов, конечно). "
      ]
    },
    {
      "cell_type": "code",
      "metadata": {
        "colab": {
          "base_uri": "https://localhost:8080/"
        },
        "id": "ScdokSW-994t",
        "outputId": "d7dbe57d-ffa1-4f1f-ebc2-6856563eeef7"
      },
      "source": [
        "indexes = np.arange(len(dev))\n",
        "np.random.shuffle(indexes)\n",
        "# Взяли все индексы (:) и поделили их число на 1000 (:1000), осталось 1280 вместо 1280000\n",
        "example_indexes = indexes[::1000] \n",
        "\n",
        "examples = {\"features\": [np.mean(dev[i][\"feature\"], axis=0) for i in example_indexes],     \n",
        "            \"targets\": [dev[i][\"target\"] for i in example_indexes]}\n",
        "print(len(examples[\"features\"]))"
      ],
      "execution_count": null,
      "outputs": [
        {
          "output_type": "stream",
          "name": "stdout",
          "text": [
            "1280\n"
          ]
        }
      ]
    },
    {
      "cell_type": "markdown",
      "metadata": {
        "id": "1yGQ_lOx_1NL"
      },
      "source": [
        "Давайте сделаем визуализацию полученных векторов твитов тренировочного (dev) датасета. Так мы увидим, насколько хорошо твиты с разными target значениями отделяются друг от друга, т.е. насколько хорошо усреднение эмбеддингов слов предложения передает информацию о предложении."
      ]
    },
    {
      "cell_type": "markdown",
      "metadata": {
        "id": "LZwFksd_8uYO"
      },
      "source": [
        "Для визуализации векторов надо получить их проекцию на плоскость. Сделаем это с помощью `PCA`. Если хотите, можете вместо PCA использовать TSNE: так у вас получится более точная проекция на плоскость (а значит, более информативная, т.е. отражающая реальное положение векторов твитов в пространстве). Но TSNE будет работать намного дольше."
      ]
    },
    {
      "cell_type": "code",
      "metadata": {
        "id": "aKFZRSHdtIac"
      },
      "source": [
        "from sklearn.decomposition import PCA\n",
        "\n",
        "pca = PCA(n_components=2)\n",
        "# Обучи PCA на эмбеддингах слов\n",
        "examples[\"transformed_features\"] = pca.fit_transform(examples[\"features\"]) "
      ],
      "execution_count": null,
      "outputs": []
    },
    {
      "cell_type": "code",
      "metadata": {
        "id": "szEOWdiNtIX8"
      },
      "source": [
        "import bokeh.models as bm, bokeh.plotting as pl\n",
        "from bokeh.io import output_notebook\n",
        "output_notebook()\n",
        "\n",
        "def draw_vectors(x, y, radius=10, alpha=0.25, color='blue',\n",
        "                 width=600, height=400, show=True, **kwargs):\n",
        "    \"\"\" draws an interactive plot for data points with auxilirary info on hover \"\"\"\n",
        "    data_source = bm.ColumnDataSource({ 'x' : x, 'y' : y, 'color': color, **kwargs })\n",
        "\n",
        "    fig = pl.figure(active_scroll='wheel_zoom', width=width, height=height)\n",
        "    fig.scatter('x', 'y', size=radius, color='color', alpha=alpha, source=data_source)\n",
        "\n",
        "    fig.add_tools(bm.HoverTool(tooltips=[(key, \"@\" + key) for key in kwargs.keys()]))\n",
        "    if show: pl.show(fig)\n",
        "    return fig"
      ],
      "execution_count": null,
      "outputs": []
    },
    {
      "cell_type": "code",
      "metadata": {
        "colab": {
          "base_uri": "https://localhost:8080/",
          "height": 433
        },
        "id": "7OONK8ldtIWe",
        "outputId": "a3ab3522-bfa2-4891-80c5-30d27b1dc86b"
      },
      "source": [
        "draw_vectors(\n",
        "    examples[\"transformed_features\"][:, 0], \n",
        "    examples[\"transformed_features\"][:, 1], \n",
        "    color=[[\"red\", \"blue\"][t] for t in examples[\"targets\"]]\n",
        "    )"
      ],
      "execution_count": null,
      "outputs": [
        {
          "data": {
            "application/javascript": [
              "\n",
              "(function(root) {\n",
              "  function now() {\n",
              "    return new Date();\n",
              "  }\n",
              "\n",
              "  var force = true;\n",
              "\n",
              "  if (typeof root._bokeh_onload_callbacks === \"undefined\" || force === true) {\n",
              "    root._bokeh_onload_callbacks = [];\n",
              "    root._bokeh_is_loading = undefined;\n",
              "  }\n",
              "\n",
              "  var JS_MIME_TYPE = 'application/javascript';\n",
              "  var HTML_MIME_TYPE = 'text/html';\n",
              "  var EXEC_MIME_TYPE = 'application/vnd.bokehjs_exec.v0+json';\n",
              "  var CLASS_NAME = 'output_bokeh rendered_html';\n",
              "\n",
              "  /**\n",
              "   * Render data to the DOM node\n",
              "   */\n",
              "  function render(props, node) {\n",
              "    var script = document.createElement(\"script\");\n",
              "    node.appendChild(script);\n",
              "  }\n",
              "\n",
              "  /**\n",
              "   * Handle when an output is cleared or removed\n",
              "   */\n",
              "  function handleClearOutput(event, handle) {\n",
              "    var cell = handle.cell;\n",
              "\n",
              "    var id = cell.output_area._bokeh_element_id;\n",
              "    var server_id = cell.output_area._bokeh_server_id;\n",
              "    // Clean up Bokeh references\n",
              "    if (id != null && id in Bokeh.index) {\n",
              "      Bokeh.index[id].model.document.clear();\n",
              "      delete Bokeh.index[id];\n",
              "    }\n",
              "\n",
              "    if (server_id !== undefined) {\n",
              "      // Clean up Bokeh references\n",
              "      var cmd = \"from bokeh.io.state import curstate; print(curstate().uuid_to_server['\" + server_id + \"'].get_sessions()[0].document.roots[0]._id)\";\n",
              "      cell.notebook.kernel.execute(cmd, {\n",
              "        iopub: {\n",
              "          output: function(msg) {\n",
              "            var id = msg.content.text.trim();\n",
              "            if (id in Bokeh.index) {\n",
              "              Bokeh.index[id].model.document.clear();\n",
              "              delete Bokeh.index[id];\n",
              "            }\n",
              "          }\n",
              "        }\n",
              "      });\n",
              "      // Destroy server and session\n",
              "      var cmd = \"import bokeh.io.notebook as ion; ion.destroy_server('\" + server_id + \"')\";\n",
              "      cell.notebook.kernel.execute(cmd);\n",
              "    }\n",
              "  }\n",
              "\n",
              "  /**\n",
              "   * Handle when a new output is added\n",
              "   */\n",
              "  function handleAddOutput(event, handle) {\n",
              "    var output_area = handle.output_area;\n",
              "    var output = handle.output;\n",
              "\n",
              "    // limit handleAddOutput to display_data with EXEC_MIME_TYPE content only\n",
              "    if ((output.output_type != \"display_data\") || (!Object.prototype.hasOwnProperty.call(output.data, EXEC_MIME_TYPE))) {\n",
              "      return\n",
              "    }\n",
              "\n",
              "    var toinsert = output_area.element.find(\".\" + CLASS_NAME.split(' ')[0]);\n",
              "\n",
              "    if (output.metadata[EXEC_MIME_TYPE][\"id\"] !== undefined) {\n",
              "      toinsert[toinsert.length - 1].firstChild.textContent = output.data[JS_MIME_TYPE];\n",
              "      // store reference to embed id on output_area\n",
              "      output_area._bokeh_element_id = output.metadata[EXEC_MIME_TYPE][\"id\"];\n",
              "    }\n",
              "    if (output.metadata[EXEC_MIME_TYPE][\"server_id\"] !== undefined) {\n",
              "      var bk_div = document.createElement(\"div\");\n",
              "      bk_div.innerHTML = output.data[HTML_MIME_TYPE];\n",
              "      var script_attrs = bk_div.children[0].attributes;\n",
              "      for (var i = 0; i < script_attrs.length; i++) {\n",
              "        toinsert[toinsert.length - 1].firstChild.setAttribute(script_attrs[i].name, script_attrs[i].value);\n",
              "        toinsert[toinsert.length - 1].firstChild.textContent = bk_div.children[0].textContent\n",
              "      }\n",
              "      // store reference to server id on output_area\n",
              "      output_area._bokeh_server_id = output.metadata[EXEC_MIME_TYPE][\"server_id\"];\n",
              "    }\n",
              "  }\n",
              "\n",
              "  function register_renderer(events, OutputArea) {\n",
              "\n",
              "    function append_mime(data, metadata, element) {\n",
              "      // create a DOM node to render to\n",
              "      var toinsert = this.create_output_subarea(\n",
              "        metadata,\n",
              "        CLASS_NAME,\n",
              "        EXEC_MIME_TYPE\n",
              "      );\n",
              "      this.keyboard_manager.register_events(toinsert);\n",
              "      // Render to node\n",
              "      var props = {data: data, metadata: metadata[EXEC_MIME_TYPE]};\n",
              "      render(props, toinsert[toinsert.length - 1]);\n",
              "      element.append(toinsert);\n",
              "      return toinsert\n",
              "    }\n",
              "\n",
              "    /* Handle when an output is cleared or removed */\n",
              "    events.on('clear_output.CodeCell', handleClearOutput);\n",
              "    events.on('delete.Cell', handleClearOutput);\n",
              "\n",
              "    /* Handle when a new output is added */\n",
              "    events.on('output_added.OutputArea', handleAddOutput);\n",
              "\n",
              "    /**\n",
              "     * Register the mime type and append_mime function with output_area\n",
              "     */\n",
              "    OutputArea.prototype.register_mime_type(EXEC_MIME_TYPE, append_mime, {\n",
              "      /* Is output safe? */\n",
              "      safe: true,\n",
              "      /* Index of renderer in `output_area.display_order` */\n",
              "      index: 0\n",
              "    });\n",
              "  }\n",
              "\n",
              "  // register the mime type if in Jupyter Notebook environment and previously unregistered\n",
              "  if (root.Jupyter !== undefined) {\n",
              "    var events = require('base/js/events');\n",
              "    var OutputArea = require('notebook/js/outputarea').OutputArea;\n",
              "\n",
              "    if (OutputArea.prototype.mime_types().indexOf(EXEC_MIME_TYPE) == -1) {\n",
              "      register_renderer(events, OutputArea);\n",
              "    }\n",
              "  }\n",
              "\n",
              "  \n",
              "  if (typeof (root._bokeh_timeout) === \"undefined\" || force === true) {\n",
              "    root._bokeh_timeout = Date.now() + 5000;\n",
              "    root._bokeh_failed_load = false;\n",
              "  }\n",
              "\n",
              "  var NB_LOAD_WARNING = {'data': {'text/html':\n",
              "     \"<div style='background-color: #fdd'>\\n\"+\n",
              "     \"<p>\\n\"+\n",
              "     \"BokehJS does not appear to have successfully loaded. If loading BokehJS from CDN, this \\n\"+\n",
              "     \"may be due to a slow or bad network connection. Possible fixes:\\n\"+\n",
              "     \"</p>\\n\"+\n",
              "     \"<ul>\\n\"+\n",
              "     \"<li>re-rerun `output_notebook()` to attempt to load from CDN again, or</li>\\n\"+\n",
              "     \"<li>use INLINE resources instead, as so:</li>\\n\"+\n",
              "     \"</ul>\\n\"+\n",
              "     \"<code>\\n\"+\n",
              "     \"from bokeh.resources import INLINE\\n\"+\n",
              "     \"output_notebook(resources=INLINE)\\n\"+\n",
              "     \"</code>\\n\"+\n",
              "     \"</div>\"}};\n",
              "\n",
              "  function display_loaded() {\n",
              "    var el = document.getElementById(null);\n",
              "    if (el != null) {\n",
              "      el.textContent = \"BokehJS is loading...\";\n",
              "    }\n",
              "    if (root.Bokeh !== undefined) {\n",
              "      if (el != null) {\n",
              "        el.textContent = \"BokehJS \" + root.Bokeh.version + \" successfully loaded.\";\n",
              "      }\n",
              "    } else if (Date.now() < root._bokeh_timeout) {\n",
              "      setTimeout(display_loaded, 100)\n",
              "    }\n",
              "  }\n",
              "\n",
              "\n",
              "  function run_callbacks() {\n",
              "    try {\n",
              "      root._bokeh_onload_callbacks.forEach(function(callback) {\n",
              "        if (callback != null)\n",
              "          callback();\n",
              "      });\n",
              "    } finally {\n",
              "      delete root._bokeh_onload_callbacks\n",
              "    }\n",
              "    console.debug(\"Bokeh: all callbacks have finished\");\n",
              "  }\n",
              "\n",
              "  function load_libs(css_urls, js_urls, callback) {\n",
              "    if (css_urls == null) css_urls = [];\n",
              "    if (js_urls == null) js_urls = [];\n",
              "\n",
              "    root._bokeh_onload_callbacks.push(callback);\n",
              "    if (root._bokeh_is_loading > 0) {\n",
              "      console.debug(\"Bokeh: BokehJS is being loaded, scheduling callback at\", now());\n",
              "      return null;\n",
              "    }\n",
              "    if (js_urls == null || js_urls.length === 0) {\n",
              "      run_callbacks();\n",
              "      return null;\n",
              "    }\n",
              "    console.debug(\"Bokeh: BokehJS not loaded, scheduling load and callback at\", now());\n",
              "    root._bokeh_is_loading = css_urls.length + js_urls.length;\n",
              "\n",
              "    function on_load() {\n",
              "      root._bokeh_is_loading--;\n",
              "      if (root._bokeh_is_loading === 0) {\n",
              "        console.debug(\"Bokeh: all BokehJS libraries/stylesheets loaded\");\n",
              "        run_callbacks()\n",
              "      }\n",
              "    }\n",
              "\n",
              "    function on_error(url) {\n",
              "      console.error(\"failed to load \" + url);\n",
              "    }\n",
              "\n",
              "    for (let i = 0; i < css_urls.length; i++) {\n",
              "      const url = css_urls[i];\n",
              "      const element = document.createElement(\"link\");\n",
              "      element.onload = on_load;\n",
              "      element.onerror = on_error.bind(null, url);\n",
              "      element.rel = \"stylesheet\";\n",
              "      element.type = \"text/css\";\n",
              "      element.href = url;\n",
              "      console.debug(\"Bokeh: injecting link tag for BokehJS stylesheet: \", url);\n",
              "      document.body.appendChild(element);\n",
              "    }\n",
              "\n",
              "    const hashes = {\"https://cdn.bokeh.org/bokeh/release/bokeh-2.3.3.min.js\": \"dM3QQsP+wXdHg42wTqW85BjZQdLNNIXqlPw/BgKoExPmTG7ZLML4EGqLMfqHT6ON\", \"https://cdn.bokeh.org/bokeh/release/bokeh-tables-2.3.3.min.js\": \"8x57I4YuIfu8XyZfFo0XVr2WAT8EK4rh/uDe3wF7YuW2FNUSNEpJbsPaB1nJ2fz2\", \"https://cdn.bokeh.org/bokeh/release/bokeh-widgets-2.3.3.min.js\": \"3QTqdz9LyAm2i0sG5XTePsHec3UHWwVsrOL68SYRoAXsafvfAyqtQ+h440+qIBhS\"};\n",
              "\n",
              "    for (let i = 0; i < js_urls.length; i++) {\n",
              "      const url = js_urls[i];\n",
              "      const element = document.createElement('script');\n",
              "      element.onload = on_load;\n",
              "      element.onerror = on_error.bind(null, url);\n",
              "      element.async = false;\n",
              "      element.src = url;\n",
              "      if (url in hashes) {\n",
              "        element.crossOrigin = \"anonymous\";\n",
              "        element.integrity = \"sha384-\" + hashes[url];\n",
              "      }\n",
              "      console.debug(\"Bokeh: injecting script tag for BokehJS library: \", url);\n",
              "      document.head.appendChild(element);\n",
              "    }\n",
              "  };\n",
              "\n",
              "  function inject_raw_css(css) {\n",
              "    const element = document.createElement(\"style\");\n",
              "    element.appendChild(document.createTextNode(css));\n",
              "    document.body.appendChild(element);\n",
              "  }\n",
              "\n",
              "  \n",
              "  var js_urls = [\"https://cdn.bokeh.org/bokeh/release/bokeh-2.3.3.min.js\", \"https://cdn.bokeh.org/bokeh/release/bokeh-widgets-2.3.3.min.js\", \"https://cdn.bokeh.org/bokeh/release/bokeh-tables-2.3.3.min.js\"];\n",
              "  var css_urls = [];\n",
              "  \n",
              "\n",
              "  var inline_js = [\n",
              "    function(Bokeh) {\n",
              "      Bokeh.set_log_level(\"info\");\n",
              "    },\n",
              "    function(Bokeh) {\n",
              "    \n",
              "    \n",
              "    }\n",
              "  ];\n",
              "\n",
              "  function run_inline_js() {\n",
              "    \n",
              "    if (root.Bokeh !== undefined || force === true) {\n",
              "      \n",
              "    for (var i = 0; i < inline_js.length; i++) {\n",
              "      inline_js[i].call(root, root.Bokeh);\n",
              "    }\n",
              "    } else if (Date.now() < root._bokeh_timeout) {\n",
              "      setTimeout(run_inline_js, 100);\n",
              "    } else if (!root._bokeh_failed_load) {\n",
              "      console.log(\"Bokeh: BokehJS failed to load within specified timeout.\");\n",
              "      root._bokeh_failed_load = true;\n",
              "    } else if (force !== true) {\n",
              "      var cell = $(document.getElementById(null)).parents('.cell').data().cell;\n",
              "      cell.output_area.append_execute_result(NB_LOAD_WARNING)\n",
              "    }\n",
              "\n",
              "  }\n",
              "\n",
              "  if (root._bokeh_is_loading === 0) {\n",
              "    console.debug(\"Bokeh: BokehJS loaded, going straight to plotting\");\n",
              "    run_inline_js();\n",
              "  } else {\n",
              "    load_libs(css_urls, js_urls, function() {\n",
              "      console.debug(\"Bokeh: BokehJS plotting callback run at\", now());\n",
              "      run_inline_js();\n",
              "    });\n",
              "  }\n",
              "}(window));"
            ],
            "application/vnd.bokehjs_load.v0+json": "\n(function(root) {\n  function now() {\n    return new Date();\n  }\n\n  var force = true;\n\n  if (typeof root._bokeh_onload_callbacks === \"undefined\" || force === true) {\n    root._bokeh_onload_callbacks = [];\n    root._bokeh_is_loading = undefined;\n  }\n\n  \n\n  \n  if (typeof (root._bokeh_timeout) === \"undefined\" || force === true) {\n    root._bokeh_timeout = Date.now() + 5000;\n    root._bokeh_failed_load = false;\n  }\n\n  var NB_LOAD_WARNING = {'data': {'text/html':\n     \"<div style='background-color: #fdd'>\\n\"+\n     \"<p>\\n\"+\n     \"BokehJS does not appear to have successfully loaded. If loading BokehJS from CDN, this \\n\"+\n     \"may be due to a slow or bad network connection. Possible fixes:\\n\"+\n     \"</p>\\n\"+\n     \"<ul>\\n\"+\n     \"<li>re-rerun `output_notebook()` to attempt to load from CDN again, or</li>\\n\"+\n     \"<li>use INLINE resources instead, as so:</li>\\n\"+\n     \"</ul>\\n\"+\n     \"<code>\\n\"+\n     \"from bokeh.resources import INLINE\\n\"+\n     \"output_notebook(resources=INLINE)\\n\"+\n     \"</code>\\n\"+\n     \"</div>\"}};\n\n  function display_loaded() {\n    var el = document.getElementById(null);\n    if (el != null) {\n      el.textContent = \"BokehJS is loading...\";\n    }\n    if (root.Bokeh !== undefined) {\n      if (el != null) {\n        el.textContent = \"BokehJS \" + root.Bokeh.version + \" successfully loaded.\";\n      }\n    } else if (Date.now() < root._bokeh_timeout) {\n      setTimeout(display_loaded, 100)\n    }\n  }\n\n\n  function run_callbacks() {\n    try {\n      root._bokeh_onload_callbacks.forEach(function(callback) {\n        if (callback != null)\n          callback();\n      });\n    } finally {\n      delete root._bokeh_onload_callbacks\n    }\n    console.debug(\"Bokeh: all callbacks have finished\");\n  }\n\n  function load_libs(css_urls, js_urls, callback) {\n    if (css_urls == null) css_urls = [];\n    if (js_urls == null) js_urls = [];\n\n    root._bokeh_onload_callbacks.push(callback);\n    if (root._bokeh_is_loading > 0) {\n      console.debug(\"Bokeh: BokehJS is being loaded, scheduling callback at\", now());\n      return null;\n    }\n    if (js_urls == null || js_urls.length === 0) {\n      run_callbacks();\n      return null;\n    }\n    console.debug(\"Bokeh: BokehJS not loaded, scheduling load and callback at\", now());\n    root._bokeh_is_loading = css_urls.length + js_urls.length;\n\n    function on_load() {\n      root._bokeh_is_loading--;\n      if (root._bokeh_is_loading === 0) {\n        console.debug(\"Bokeh: all BokehJS libraries/stylesheets loaded\");\n        run_callbacks()\n      }\n    }\n\n    function on_error(url) {\n      console.error(\"failed to load \" + url);\n    }\n\n    for (let i = 0; i < css_urls.length; i++) {\n      const url = css_urls[i];\n      const element = document.createElement(\"link\");\n      element.onload = on_load;\n      element.onerror = on_error.bind(null, url);\n      element.rel = \"stylesheet\";\n      element.type = \"text/css\";\n      element.href = url;\n      console.debug(\"Bokeh: injecting link tag for BokehJS stylesheet: \", url);\n      document.body.appendChild(element);\n    }\n\n    const hashes = {\"https://cdn.bokeh.org/bokeh/release/bokeh-2.3.3.min.js\": \"dM3QQsP+wXdHg42wTqW85BjZQdLNNIXqlPw/BgKoExPmTG7ZLML4EGqLMfqHT6ON\", \"https://cdn.bokeh.org/bokeh/release/bokeh-tables-2.3.3.min.js\": \"8x57I4YuIfu8XyZfFo0XVr2WAT8EK4rh/uDe3wF7YuW2FNUSNEpJbsPaB1nJ2fz2\", \"https://cdn.bokeh.org/bokeh/release/bokeh-widgets-2.3.3.min.js\": \"3QTqdz9LyAm2i0sG5XTePsHec3UHWwVsrOL68SYRoAXsafvfAyqtQ+h440+qIBhS\"};\n\n    for (let i = 0; i < js_urls.length; i++) {\n      const url = js_urls[i];\n      const element = document.createElement('script');\n      element.onload = on_load;\n      element.onerror = on_error.bind(null, url);\n      element.async = false;\n      element.src = url;\n      if (url in hashes) {\n        element.crossOrigin = \"anonymous\";\n        element.integrity = \"sha384-\" + hashes[url];\n      }\n      console.debug(\"Bokeh: injecting script tag for BokehJS library: \", url);\n      document.head.appendChild(element);\n    }\n  };\n\n  function inject_raw_css(css) {\n    const element = document.createElement(\"style\");\n    element.appendChild(document.createTextNode(css));\n    document.body.appendChild(element);\n  }\n\n  \n  var js_urls = [\"https://cdn.bokeh.org/bokeh/release/bokeh-2.3.3.min.js\", \"https://cdn.bokeh.org/bokeh/release/bokeh-widgets-2.3.3.min.js\", \"https://cdn.bokeh.org/bokeh/release/bokeh-tables-2.3.3.min.js\"];\n  var css_urls = [];\n  \n\n  var inline_js = [\n    function(Bokeh) {\n      Bokeh.set_log_level(\"info\");\n    },\n    function(Bokeh) {\n    \n    \n    }\n  ];\n\n  function run_inline_js() {\n    \n    if (root.Bokeh !== undefined || force === true) {\n      \n    for (var i = 0; i < inline_js.length; i++) {\n      inline_js[i].call(root, root.Bokeh);\n    }\n    } else if (Date.now() < root._bokeh_timeout) {\n      setTimeout(run_inline_js, 100);\n    } else if (!root._bokeh_failed_load) {\n      console.log(\"Bokeh: BokehJS failed to load within specified timeout.\");\n      root._bokeh_failed_load = true;\n    } else if (force !== true) {\n      var cell = $(document.getElementById(null)).parents('.cell').data().cell;\n      cell.output_area.append_execute_result(NB_LOAD_WARNING)\n    }\n\n  }\n\n  if (root._bokeh_is_loading === 0) {\n    console.debug(\"Bokeh: BokehJS loaded, going straight to plotting\");\n    run_inline_js();\n  } else {\n    load_libs(css_urls, js_urls, function() {\n      console.debug(\"Bokeh: BokehJS plotting callback run at\", now());\n      run_inline_js();\n    });\n  }\n}(window));"
          },
          "metadata": {
            "tags": []
          },
          "output_type": "display_data"
        },
        {
          "data": {
            "text/html": [
              "\n",
              "\n",
              "\n",
              "\n",
              "\n",
              "\n",
              "  <div class=\"bk-root\" id=\"08a59261-8c74-4fda-9829-1b87a1a10f77\" data-root-id=\"1003\"></div>\n"
            ]
          },
          "metadata": {
            "tags": []
          },
          "output_type": "display_data"
        },
        {
          "data": {
            "application/javascript": [
              "(function(root) {\n",
              "  function embed_document(root) {\n",
              "    \n",
              "  var docs_json = {\"c17717b9-5bb6-4afd-b386-04773e04b288\":{\"defs\":[],\"roots\":{\"references\":[{\"attributes\":{\"below\":[{\"id\":\"1012\"}],\"center\":[{\"id\":\"1015\"},{\"id\":\"1019\"}],\"height\":400,\"left\":[{\"id\":\"1016\"}],\"renderers\":[{\"id\":\"1037\"}],\"title\":{\"id\":\"1042\"},\"toolbar\":{\"id\":\"1027\"},\"x_range\":{\"id\":\"1004\"},\"x_scale\":{\"id\":\"1008\"},\"y_range\":{\"id\":\"1006\"},\"y_scale\":{\"id\":\"1010\"}},\"id\":\"1003\",\"subtype\":\"Figure\",\"type\":\"Plot\"},{\"attributes\":{},\"id\":\"1042\",\"type\":\"Title\"},{\"attributes\":{},\"id\":\"1020\",\"type\":\"PanTool\"},{\"attributes\":{\"data\":{\"color\":[\"red\",\"red\",\"red\",\"blue\",\"blue\",\"red\",\"blue\",\"blue\",\"red\",\"blue\",\"red\",\"red\",\"blue\",\"red\",\"blue\",\"red\",\"red\",\"blue\",\"red\",\"blue\",\"red\",\"blue\",\"blue\",\"blue\",\"blue\",\"red\",\"red\",\"red\",\"blue\",\"blue\",\"blue\",\"red\",\"red\",\"blue\",\"red\",\"red\",\"blue\",\"red\",\"red\",\"red\",\"red\",\"red\",\"red\",\"red\",\"red\",\"blue\",\"red\",\"red\",\"blue\",\"red\",\"red\",\"blue\",\"blue\",\"blue\",\"blue\",\"blue\",\"blue\",\"red\",\"red\",\"blue\",\"red\",\"red\",\"blue\",\"blue\",\"red\",\"red\",\"blue\",\"blue\",\"red\",\"red\",\"blue\",\"blue\",\"blue\",\"red\",\"red\",\"blue\",\"red\",\"blue\",\"red\",\"red\",\"red\",\"red\",\"red\",\"blue\",\"blue\",\"blue\",\"blue\",\"red\",\"blue\",\"blue\",\"red\",\"blue\",\"blue\",\"blue\",\"red\",\"blue\",\"red\",\"red\",\"blue\",\"blue\",\"red\",\"red\",\"red\",\"red\",\"blue\",\"red\",\"red\",\"blue\",\"blue\",\"red\",\"red\",\"red\",\"blue\",\"blue\",\"blue\",\"red\",\"blue\",\"red\",\"red\",\"blue\",\"blue\",\"blue\",\"red\",\"red\",\"red\",\"red\",\"red\",\"blue\",\"blue\",\"blue\",\"blue\",\"red\",\"red\",\"red\",\"blue\",\"blue\",\"blue\",\"blue\",\"blue\",\"red\",\"red\",\"blue\",\"red\",\"blue\",\"red\",\"blue\",\"blue\",\"red\",\"blue\",\"blue\",\"blue\",\"red\",\"red\",\"red\",\"red\",\"red\",\"blue\",\"blue\",\"blue\",\"blue\",\"red\",\"red\",\"red\",\"blue\",\"red\",\"red\",\"blue\",\"blue\",\"blue\",\"blue\",\"blue\",\"blue\",\"blue\",\"blue\",\"blue\",\"red\",\"red\",\"red\",\"blue\",\"red\",\"blue\",\"red\",\"blue\",\"red\",\"blue\",\"blue\",\"red\",\"blue\",\"blue\",\"blue\",\"blue\",\"red\",\"red\",\"blue\",\"blue\",\"blue\",\"red\",\"red\",\"blue\",\"red\",\"red\",\"red\",\"red\",\"blue\",\"red\",\"red\",\"red\",\"red\",\"red\",\"red\",\"red\",\"red\",\"blue\",\"blue\",\"red\",\"blue\",\"red\",\"blue\",\"blue\",\"red\",\"blue\",\"red\",\"red\",\"blue\",\"red\",\"red\",\"red\",\"red\",\"red\",\"blue\",\"blue\",\"blue\",\"red\",\"blue\",\"red\",\"blue\",\"red\",\"red\",\"red\",\"red\",\"red\",\"blue\",\"red\",\"blue\",\"red\",\"red\",\"blue\",\"blue\",\"blue\",\"red\",\"red\",\"blue\",\"red\",\"red\",\"blue\",\"blue\",\"blue\",\"red\",\"blue\",\"blue\",\"blue\",\"blue\",\"red\",\"blue\",\"red\",\"red\",\"blue\",\"blue\",\"blue\",\"red\",\"blue\",\"red\",\"blue\",\"red\",\"red\",\"red\",\"red\",\"red\",\"red\",\"red\",\"red\",\"red\",\"red\",\"blue\",\"red\",\"blue\",\"red\",\"red\",\"red\",\"blue\",\"blue\",\"red\",\"blue\",\"blue\",\"blue\",\"red\",\"blue\",\"blue\",\"red\",\"blue\",\"red\",\"red\",\"blue\",\"blue\",\"red\",\"blue\",\"red\",\"blue\",\"blue\",\"red\",\"red\",\"red\",\"blue\",\"blue\",\"blue\",\"blue\",\"blue\",\"blue\",\"blue\",\"red\",\"blue\",\"red\",\"blue\",\"red\",\"blue\",\"blue\",\"red\",\"red\",\"blue\",\"blue\",\"blue\",\"blue\",\"blue\",\"blue\",\"blue\",\"red\",\"red\",\"blue\",\"red\",\"red\",\"blue\",\"blue\",\"blue\",\"blue\",\"blue\",\"red\",\"blue\",\"blue\",\"red\",\"blue\",\"blue\",\"red\",\"blue\",\"red\",\"blue\",\"red\",\"blue\",\"blue\",\"red\",\"blue\",\"red\",\"blue\",\"blue\",\"red\",\"blue\",\"blue\",\"blue\",\"blue\",\"red\",\"blue\",\"blue\",\"red\",\"red\",\"blue\",\"red\",\"blue\",\"blue\",\"blue\",\"blue\",\"red\",\"red\",\"blue\",\"red\",\"blue\",\"blue\",\"red\",\"blue\",\"blue\",\"red\",\"blue\",\"red\",\"red\",\"red\",\"blue\",\"blue\",\"blue\",\"blue\",\"blue\",\"red\",\"red\",\"blue\",\"red\",\"red\",\"blue\",\"red\",\"red\",\"red\",\"blue\",\"blue\",\"blue\",\"red\",\"blue\",\"blue\",\"red\",\"blue\",\"red\",\"red\",\"blue\",\"red\",\"blue\",\"red\",\"red\",\"red\",\"blue\",\"red\",\"red\",\"red\",\"blue\",\"red\",\"blue\",\"red\",\"red\",\"blue\",\"red\",\"red\",\"blue\",\"red\",\"blue\",\"blue\",\"blue\",\"red\",\"blue\",\"red\",\"blue\",\"blue\",\"blue\",\"red\",\"red\",\"blue\",\"red\",\"blue\",\"blue\",\"blue\",\"red\",\"blue\",\"red\",\"red\",\"blue\",\"blue\",\"red\",\"red\",\"red\",\"blue\",\"red\",\"blue\",\"blue\",\"blue\",\"blue\",\"red\",\"blue\",\"red\",\"blue\",\"blue\",\"red\",\"blue\",\"red\",\"red\",\"blue\",\"red\",\"red\",\"red\",\"blue\",\"blue\",\"red\",\"red\",\"blue\",\"red\",\"red\",\"red\",\"red\",\"red\",\"blue\",\"red\",\"blue\",\"blue\",\"red\",\"red\",\"red\",\"blue\",\"blue\",\"blue\",\"red\",\"red\",\"blue\",\"blue\",\"red\",\"blue\",\"blue\",\"red\",\"blue\",\"blue\",\"red\",\"blue\",\"blue\",\"blue\",\"red\",\"red\",\"red\",\"blue\",\"red\",\"blue\",\"blue\",\"blue\",\"blue\",\"red\",\"blue\",\"blue\",\"red\",\"red\",\"blue\",\"blue\",\"red\",\"blue\",\"blue\",\"blue\",\"red\",\"red\",\"red\",\"blue\",\"blue\",\"blue\",\"blue\",\"blue\",\"red\",\"blue\",\"red\",\"red\",\"red\",\"red\",\"red\",\"blue\",\"red\",\"blue\",\"red\",\"red\",\"blue\",\"red\",\"red\",\"red\",\"red\",\"blue\",\"blue\",\"red\",\"red\",\"blue\",\"blue\",\"blue\",\"blue\",\"blue\",\"blue\",\"blue\",\"blue\",\"red\",\"blue\",\"blue\",\"red\",\"red\",\"blue\",\"red\",\"blue\",\"red\",\"blue\",\"red\",\"red\",\"blue\",\"blue\",\"red\",\"red\",\"red\",\"red\",\"red\",\"blue\",\"red\",\"red\",\"red\",\"red\",\"red\",\"blue\",\"red\",\"red\",\"blue\",\"red\",\"blue\",\"red\",\"blue\",\"red\",\"red\",\"blue\",\"blue\",\"blue\",\"blue\",\"blue\",\"red\",\"red\",\"blue\",\"red\",\"red\",\"blue\",\"red\",\"blue\",\"blue\",\"red\",\"red\",\"blue\",\"red\",\"blue\",\"red\",\"red\",\"red\",\"blue\",\"red\",\"blue\",\"blue\",\"blue\",\"red\",\"red\",\"red\",\"red\",\"blue\",\"blue\",\"red\",\"blue\",\"red\",\"red\",\"red\",\"blue\",\"red\",\"red\",\"blue\",\"red\",\"red\",\"blue\",\"red\",\"blue\",\"blue\",\"blue\",\"red\",\"red\",\"red\",\"red\",\"blue\",\"blue\",\"blue\",\"blue\",\"blue\",\"blue\",\"blue\",\"red\",\"red\",\"red\",\"blue\",\"red\",\"blue\",\"red\",\"blue\",\"red\",\"red\",\"blue\",\"red\",\"red\",\"red\",\"blue\",\"blue\",\"red\",\"red\",\"blue\",\"blue\",\"blue\",\"red\",\"blue\",\"blue\",\"blue\",\"red\",\"red\",\"blue\",\"blue\",\"blue\",\"red\",\"blue\",\"red\",\"blue\",\"blue\",\"red\",\"blue\",\"red\",\"blue\",\"blue\",\"red\",\"red\",\"red\",\"red\",\"blue\",\"blue\",\"blue\",\"blue\",\"red\",\"blue\",\"blue\",\"red\",\"red\",\"blue\",\"red\",\"blue\",\"blue\",\"blue\",\"red\",\"blue\",\"red\",\"blue\",\"blue\",\"blue\",\"red\",\"red\",\"red\",\"blue\",\"red\",\"blue\",\"blue\",\"red\",\"red\",\"red\",\"blue\",\"red\",\"red\",\"red\",\"blue\",\"red\",\"red\",\"blue\",\"blue\",\"red\",\"blue\",\"red\",\"blue\",\"blue\",\"blue\",\"red\",\"red\",\"blue\",\"blue\",\"blue\",\"red\",\"blue\",\"blue\",\"blue\",\"red\",\"blue\",\"red\",\"blue\",\"red\",\"blue\",\"red\",\"blue\",\"red\",\"blue\",\"blue\",\"blue\",\"blue\",\"blue\",\"red\",\"blue\",\"red\",\"red\",\"blue\",\"red\",\"blue\",\"red\",\"red\",\"red\",\"red\",\"red\",\"red\",\"red\",\"red\",\"blue\",\"red\",\"red\",\"red\",\"blue\",\"blue\",\"blue\",\"blue\",\"blue\",\"red\",\"blue\",\"blue\",\"red\",\"blue\",\"red\",\"blue\",\"blue\",\"red\",\"blue\",\"red\",\"red\",\"red\",\"red\",\"red\",\"blue\",\"red\",\"red\",\"red\",\"blue\",\"blue\",\"red\",\"red\",\"blue\",\"blue\",\"blue\",\"blue\",\"red\",\"red\",\"blue\",\"blue\",\"red\",\"blue\",\"blue\",\"blue\",\"red\",\"red\",\"red\",\"red\",\"blue\",\"red\",\"red\",\"red\",\"red\",\"blue\",\"red\",\"blue\",\"red\",\"blue\",\"blue\",\"blue\",\"red\",\"blue\",\"blue\",\"red\",\"blue\",\"red\",\"blue\",\"red\",\"blue\",\"red\",\"red\",\"red\",\"blue\",\"red\",\"blue\",\"blue\",\"blue\",\"red\",\"red\",\"red\",\"red\",\"red\",\"blue\",\"red\",\"red\",\"blue\",\"blue\",\"blue\",\"red\",\"red\",\"blue\",\"blue\",\"blue\",\"red\",\"red\",\"red\",\"red\",\"blue\",\"red\",\"blue\",\"red\",\"blue\",\"red\",\"red\",\"red\",\"blue\",\"blue\",\"red\",\"blue\",\"red\",\"red\",\"red\",\"blue\",\"red\",\"red\",\"red\",\"blue\",\"red\",\"red\",\"red\",\"red\",\"red\",\"blue\",\"red\",\"red\",\"red\",\"blue\",\"blue\",\"red\",\"red\",\"red\",\"blue\",\"blue\",\"red\",\"red\",\"red\",\"red\",\"blue\",\"red\",\"blue\",\"blue\",\"red\",\"red\",\"blue\",\"red\",\"blue\",\"red\",\"red\",\"red\",\"red\",\"blue\",\"red\",\"red\",\"red\",\"red\",\"red\",\"red\",\"red\",\"red\",\"red\",\"red\",\"red\",\"red\",\"blue\",\"red\",\"blue\",\"red\",\"red\",\"red\",\"red\",\"blue\",\"red\",\"blue\",\"blue\",\"red\",\"red\",\"red\",\"red\",\"blue\",\"blue\",\"blue\",\"red\",\"red\",\"red\",\"red\",\"blue\",\"blue\",\"red\",\"red\",\"blue\",\"red\",\"blue\",\"blue\",\"red\",\"blue\",\"blue\",\"red\",\"blue\",\"red\",\"blue\",\"blue\",\"red\",\"blue\",\"blue\",\"red\",\"blue\",\"blue\",\"red\",\"red\",\"red\",\"red\",\"blue\",\"red\",\"blue\",\"red\",\"red\",\"red\",\"blue\",\"blue\",\"red\",\"red\",\"blue\",\"blue\",\"red\",\"red\",\"red\",\"blue\",\"blue\",\"red\",\"blue\",\"red\",\"blue\",\"blue\",\"red\",\"red\",\"blue\",\"blue\",\"blue\",\"blue\",\"blue\",\"red\",\"red\",\"blue\",\"red\",\"red\",\"blue\",\"blue\",\"blue\",\"blue\",\"red\",\"red\",\"red\",\"blue\",\"blue\",\"blue\",\"blue\",\"blue\",\"blue\",\"red\",\"red\",\"blue\",\"blue\",\"blue\",\"red\",\"red\",\"red\",\"blue\",\"blue\",\"blue\",\"red\",\"blue\",\"red\",\"red\",\"blue\",\"red\",\"red\",\"red\",\"red\",\"blue\",\"red\",\"blue\",\"red\",\"blue\",\"blue\",\"red\",\"blue\",\"red\",\"blue\",\"blue\",\"red\",\"blue\",\"blue\",\"blue\",\"red\",\"blue\",\"red\",\"red\",\"blue\",\"red\",\"red\",\"red\",\"blue\",\"red\",\"red\",\"red\",\"blue\",\"red\",\"blue\",\"blue\",\"red\",\"blue\",\"blue\",\"blue\",\"red\",\"red\",\"blue\",\"red\",\"red\",\"red\",\"blue\",\"blue\",\"blue\",\"blue\",\"red\",\"blue\",\"red\",\"blue\",\"blue\",\"blue\",\"blue\",\"red\",\"red\",\"blue\",\"blue\",\"blue\",\"red\",\"blue\",\"red\",\"red\",\"blue\",\"red\",\"blue\",\"red\",\"red\",\"red\",\"red\",\"red\",\"blue\",\"blue\",\"red\",\"blue\",\"blue\",\"red\",\"red\",\"blue\",\"blue\",\"blue\",\"red\",\"blue\",\"blue\",\"blue\",\"blue\",\"blue\",\"blue\",\"blue\",\"blue\",\"red\",\"blue\",\"red\",\"red\",\"blue\",\"red\",\"red\",\"red\",\"blue\",\"blue\",\"blue\",\"red\",\"red\",\"blue\",\"red\",\"red\",\"red\",\"blue\",\"red\",\"blue\",\"blue\",\"red\",\"blue\",\"red\",\"red\",\"red\",\"blue\",\"blue\",\"red\",\"blue\",\"blue\",\"blue\",\"red\",\"blue\",\"red\",\"blue\",\"blue\",\"red\",\"blue\",\"red\",\"red\",\"red\",\"blue\",\"blue\",\"blue\",\"red\",\"red\",\"red\",\"blue\",\"red\",\"blue\",\"red\",\"blue\",\"blue\",\"red\",\"blue\",\"blue\",\"red\",\"red\",\"blue\",\"red\",\"blue\",\"blue\",\"blue\",\"blue\",\"red\",\"blue\",\"red\",\"red\",\"red\",\"red\",\"blue\",\"red\",\"blue\",\"blue\",\"blue\",\"red\",\"blue\",\"red\",\"red\",\"red\",\"blue\",\"red\",\"red\",\"blue\",\"red\",\"blue\",\"red\",\"red\",\"blue\",\"blue\",\"blue\",\"red\",\"blue\",\"red\",\"blue\",\"blue\",\"blue\",\"red\",\"red\",\"blue\",\"blue\",\"blue\",\"blue\",\"blue\",\"blue\",\"blue\",\"blue\",\"blue\",\"red\",\"blue\",\"blue\",\"blue\",\"blue\",\"red\",\"blue\",\"red\",\"blue\",\"blue\",\"red\"],\"x\":{\"__ndarray__\":\"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\",\"dtype\":\"float64\",\"order\":\"little\",\"shape\":[1280]},\"y\":{\"__ndarray__\":\"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\",\"dtype\":\"float64\",\"order\":\"little\",\"shape\":[1280]}},\"selected\":{\"id\":\"1049\"},\"selection_policy\":{\"id\":\"1050\"}},\"id\":\"1002\",\"type\":\"ColumnDataSource\"},{\"attributes\":{\"callback\":null,\"tooltips\":[]},\"id\":\"1039\",\"type\":\"HoverTool\"},{\"attributes\":{},\"id\":\"1045\",\"type\":\"BasicTickFormatter\"},{\"attributes\":{},\"id\":\"1021\",\"type\":\"WheelZoomTool\"},{\"attributes\":{\"bottom_units\":\"screen\",\"fill_alpha\":0.5,\"fill_color\":\"lightgrey\",\"left_units\":\"screen\",\"level\":\"overlay\",\"line_alpha\":1.0,\"line_color\":\"black\",\"line_dash\":[4,4],\"line_width\":2,\"right_units\":\"screen\",\"syncable\":false,\"top_units\":\"screen\"},\"id\":\"1026\",\"type\":\"BoxAnnotation\"},{\"attributes\":{\"overlay\":{\"id\":\"1026\"}},\"id\":\"1022\",\"type\":\"BoxZoomTool\"},{\"attributes\":{},\"id\":\"1044\",\"type\":\"AllLabels\"},{\"attributes\":{},\"id\":\"1008\",\"type\":\"LinearScale\"},{\"attributes\":{\"axis\":{\"id\":\"1012\"},\"ticker\":null},\"id\":\"1015\",\"type\":\"Grid\"},{\"attributes\":{},\"id\":\"1004\",\"type\":\"DataRange1d\"},{\"attributes\":{\"data_source\":{\"id\":\"1002\"},\"glyph\":{\"id\":\"1035\"},\"hover_glyph\":null,\"muted_glyph\":null,\"nonselection_glyph\":{\"id\":\"1036\"},\"view\":{\"id\":\"1038\"}},\"id\":\"1037\",\"type\":\"GlyphRenderer\"},{\"attributes\":{},\"id\":\"1023\",\"type\":\"SaveTool\"},{\"attributes\":{},\"id\":\"1024\",\"type\":\"ResetTool\"},{\"attributes\":{},\"id\":\"1006\",\"type\":\"DataRange1d\"},{\"attributes\":{},\"id\":\"1025\",\"type\":\"HelpTool\"},{\"attributes\":{},\"id\":\"1010\",\"type\":\"LinearScale\"},{\"attributes\":{\"formatter\":{\"id\":\"1045\"},\"major_label_policy\":{\"id\":\"1044\"},\"ticker\":{\"id\":\"1017\"}},\"id\":\"1016\",\"type\":\"LinearAxis\"},{\"attributes\":{},\"id\":\"1013\",\"type\":\"BasicTicker\"},{\"attributes\":{},\"id\":\"1047\",\"type\":\"AllLabels\"},{\"attributes\":{\"axis\":{\"id\":\"1016\"},\"dimension\":1,\"ticker\":null},\"id\":\"1019\",\"type\":\"Grid\"},{\"attributes\":{\"formatter\":{\"id\":\"1048\"},\"major_label_policy\":{\"id\":\"1047\"},\"ticker\":{\"id\":\"1013\"}},\"id\":\"1012\",\"type\":\"LinearAxis\"},{\"attributes\":{\"fill_alpha\":{\"value\":0.25},\"fill_color\":{\"field\":\"color\"},\"line_alpha\":{\"value\":0.25},\"line_color\":{\"field\":\"color\"},\"size\":{\"value\":10},\"x\":{\"field\":\"x\"},\"y\":{\"field\":\"y\"}},\"id\":\"1035\",\"type\":\"Scatter\"},{\"attributes\":{\"active_multi\":null,\"active_scroll\":{\"id\":\"1021\"},\"tools\":[{\"id\":\"1020\"},{\"id\":\"1021\"},{\"id\":\"1022\"},{\"id\":\"1023\"},{\"id\":\"1024\"},{\"id\":\"1025\"},{\"id\":\"1039\"}]},\"id\":\"1027\",\"type\":\"Toolbar\"},{\"attributes\":{},\"id\":\"1017\",\"type\":\"BasicTicker\"},{\"attributes\":{},\"id\":\"1048\",\"type\":\"BasicTickFormatter\"},{\"attributes\":{\"source\":{\"id\":\"1002\"}},\"id\":\"1038\",\"type\":\"CDSView\"},{\"attributes\":{},\"id\":\"1049\",\"type\":\"Selection\"},{\"attributes\":{},\"id\":\"1050\",\"type\":\"UnionRenderers\"},{\"attributes\":{\"fill_alpha\":{\"value\":0.1},\"fill_color\":{\"field\":\"color\"},\"line_alpha\":{\"value\":0.1},\"line_color\":{\"field\":\"color\"},\"size\":{\"value\":10},\"x\":{\"field\":\"x\"},\"y\":{\"field\":\"y\"}},\"id\":\"1036\",\"type\":\"Scatter\"}],\"root_ids\":[\"1003\"]},\"title\":\"Bokeh Application\",\"version\":\"2.3.3\"}};\n",
              "  var render_items = [{\"docid\":\"c17717b9-5bb6-4afd-b386-04773e04b288\",\"root_ids\":[\"1003\"],\"roots\":{\"1003\":\"08a59261-8c74-4fda-9829-1b87a1a10f77\"}}];\n",
              "  root.Bokeh.embed.embed_items_notebook(docs_json, render_items);\n",
              "\n",
              "  }\n",
              "  if (root.Bokeh !== undefined) {\n",
              "    embed_document(root);\n",
              "  } else {\n",
              "    var attempts = 0;\n",
              "    var timer = setInterval(function(root) {\n",
              "      if (root.Bokeh !== undefined) {\n",
              "        clearInterval(timer);\n",
              "        embed_document(root);\n",
              "      } else {\n",
              "        attempts++;\n",
              "        if (attempts > 100) {\n",
              "          clearInterval(timer);\n",
              "          console.log(\"Bokeh: ERROR: Unable to run BokehJS code because BokehJS library is missing\");\n",
              "        }\n",
              "      }\n",
              "    }, 10, root)\n",
              "  }\n",
              "})(window);"
            ],
            "application/vnd.bokehjs_exec.v0+json": ""
          },
          "metadata": {
            "application/vnd.bokehjs_exec.v0+json": {
              "id": "1003"
            },
            "tags": []
          },
          "output_type": "display_data"
        },
        {
          "data": {
            "text/html": [
              "<div style=\"display: table;\"><div style=\"display: table-row;\"><div style=\"display: table-cell;\"><b title=\"bokeh.plotting.figure.Figure\">Figure</b>(</div><div style=\"display: table-cell;\">id&nbsp;=&nbsp;'1003', <span id=\"1108\" style=\"cursor: pointer;\">&hellip;)</span></div></div><div class=\"1107\" style=\"display: none;\"><div style=\"display: table-cell;\"></div><div style=\"display: table-cell;\">above&nbsp;=&nbsp;[],</div></div><div class=\"1107\" style=\"display: none;\"><div style=\"display: table-cell;\"></div><div style=\"display: table-cell;\">align&nbsp;=&nbsp;'start',</div></div><div class=\"1107\" style=\"display: none;\"><div style=\"display: table-cell;\"></div><div style=\"display: table-cell;\">aspect_ratio&nbsp;=&nbsp;None,</div></div><div class=\"1107\" style=\"display: none;\"><div style=\"display: table-cell;\"></div><div style=\"display: table-cell;\">aspect_scale&nbsp;=&nbsp;1,</div></div><div class=\"1107\" style=\"display: none;\"><div style=\"display: table-cell;\"></div><div style=\"display: table-cell;\">background&nbsp;=&nbsp;None,</div></div><div class=\"1107\" style=\"display: none;\"><div style=\"display: table-cell;\"></div><div style=\"display: table-cell;\">background_fill_alpha&nbsp;=&nbsp;1.0,</div></div><div class=\"1107\" style=\"display: none;\"><div style=\"display: table-cell;\"></div><div style=\"display: table-cell;\">background_fill_color&nbsp;=&nbsp;'#ffffff',</div></div><div class=\"1107\" style=\"display: none;\"><div style=\"display: table-cell;\"></div><div style=\"display: table-cell;\">below&nbsp;=&nbsp;[LinearAxis(id='1012', ...)],</div></div><div class=\"1107\" style=\"display: none;\"><div style=\"display: table-cell;\"></div><div style=\"display: table-cell;\">border_fill_alpha&nbsp;=&nbsp;1.0,</div></div><div class=\"1107\" style=\"display: none;\"><div style=\"display: table-cell;\"></div><div style=\"display: table-cell;\">border_fill_color&nbsp;=&nbsp;'#ffffff',</div></div><div class=\"1107\" style=\"display: none;\"><div style=\"display: table-cell;\"></div><div style=\"display: table-cell;\">center&nbsp;=&nbsp;[Grid(id='1015', ...), Grid(id='1019', ...)],</div></div><div class=\"1107\" style=\"display: none;\"><div style=\"display: table-cell;\"></div><div style=\"display: table-cell;\">css_classes&nbsp;=&nbsp;[],</div></div><div class=\"1107\" style=\"display: none;\"><div style=\"display: table-cell;\"></div><div style=\"display: table-cell;\">disabled&nbsp;=&nbsp;False,</div></div><div class=\"1107\" style=\"display: none;\"><div style=\"display: table-cell;\"></div><div style=\"display: table-cell;\">extra_x_ranges&nbsp;=&nbsp;{},</div></div><div class=\"1107\" style=\"display: none;\"><div style=\"display: table-cell;\"></div><div style=\"display: table-cell;\">extra_y_ranges&nbsp;=&nbsp;{},</div></div><div class=\"1107\" style=\"display: none;\"><div style=\"display: table-cell;\"></div><div style=\"display: table-cell;\">frame_height&nbsp;=&nbsp;None,</div></div><div class=\"1107\" style=\"display: none;\"><div style=\"display: table-cell;\"></div><div style=\"display: table-cell;\">frame_width&nbsp;=&nbsp;None,</div></div><div class=\"1107\" style=\"display: none;\"><div style=\"display: table-cell;\"></div><div style=\"display: table-cell;\">height&nbsp;=&nbsp;400,</div></div><div class=\"1107\" style=\"display: none;\"><div style=\"display: table-cell;\"></div><div style=\"display: table-cell;\">height_policy&nbsp;=&nbsp;'auto',</div></div><div class=\"1107\" style=\"display: none;\"><div style=\"display: table-cell;\"></div><div style=\"display: table-cell;\">hidpi&nbsp;=&nbsp;True,</div></div><div class=\"1107\" style=\"display: none;\"><div style=\"display: table-cell;\"></div><div style=\"display: table-cell;\">inner_height&nbsp;=&nbsp;0,</div></div><div class=\"1107\" style=\"display: none;\"><div style=\"display: table-cell;\"></div><div style=\"display: table-cell;\">inner_width&nbsp;=&nbsp;0,</div></div><div class=\"1107\" style=\"display: none;\"><div style=\"display: table-cell;\"></div><div style=\"display: table-cell;\">js_event_callbacks&nbsp;=&nbsp;{},</div></div><div class=\"1107\" style=\"display: none;\"><div style=\"display: table-cell;\"></div><div style=\"display: table-cell;\">js_property_callbacks&nbsp;=&nbsp;{},</div></div><div class=\"1107\" style=\"display: none;\"><div style=\"display: table-cell;\"></div><div style=\"display: table-cell;\">left&nbsp;=&nbsp;[LinearAxis(id='1016', ...)],</div></div><div class=\"1107\" style=\"display: none;\"><div style=\"display: table-cell;\"></div><div style=\"display: table-cell;\">lod_factor&nbsp;=&nbsp;10,</div></div><div class=\"1107\" style=\"display: none;\"><div style=\"display: table-cell;\"></div><div style=\"display: table-cell;\">lod_interval&nbsp;=&nbsp;300,</div></div><div class=\"1107\" style=\"display: none;\"><div style=\"display: table-cell;\"></div><div style=\"display: table-cell;\">lod_threshold&nbsp;=&nbsp;2000,</div></div><div class=\"1107\" style=\"display: none;\"><div style=\"display: table-cell;\"></div><div style=\"display: table-cell;\">lod_timeout&nbsp;=&nbsp;500,</div></div><div class=\"1107\" style=\"display: none;\"><div style=\"display: table-cell;\"></div><div style=\"display: table-cell;\">margin&nbsp;=&nbsp;(0, 0, 0, 0),</div></div><div class=\"1107\" style=\"display: none;\"><div style=\"display: table-cell;\"></div><div style=\"display: table-cell;\">match_aspect&nbsp;=&nbsp;False,</div></div><div class=\"1107\" style=\"display: none;\"><div style=\"display: table-cell;\"></div><div style=\"display: table-cell;\">max_height&nbsp;=&nbsp;None,</div></div><div class=\"1107\" style=\"display: none;\"><div style=\"display: table-cell;\"></div><div style=\"display: table-cell;\">max_width&nbsp;=&nbsp;None,</div></div><div class=\"1107\" style=\"display: none;\"><div style=\"display: table-cell;\"></div><div style=\"display: table-cell;\">min_border&nbsp;=&nbsp;5,</div></div><div class=\"1107\" style=\"display: none;\"><div style=\"display: table-cell;\"></div><div style=\"display: table-cell;\">min_border_bottom&nbsp;=&nbsp;None,</div></div><div class=\"1107\" style=\"display: none;\"><div style=\"display: table-cell;\"></div><div style=\"display: table-cell;\">min_border_left&nbsp;=&nbsp;None,</div></div><div class=\"1107\" style=\"display: none;\"><div style=\"display: table-cell;\"></div><div style=\"display: table-cell;\">min_border_right&nbsp;=&nbsp;None,</div></div><div class=\"1107\" style=\"display: none;\"><div style=\"display: table-cell;\"></div><div style=\"display: table-cell;\">min_border_top&nbsp;=&nbsp;None,</div></div><div class=\"1107\" style=\"display: none;\"><div style=\"display: table-cell;\"></div><div style=\"display: table-cell;\">min_height&nbsp;=&nbsp;None,</div></div><div class=\"1107\" style=\"display: none;\"><div style=\"display: table-cell;\"></div><div style=\"display: table-cell;\">min_width&nbsp;=&nbsp;None,</div></div><div class=\"1107\" style=\"display: none;\"><div style=\"display: table-cell;\"></div><div style=\"display: table-cell;\">name&nbsp;=&nbsp;None,</div></div><div class=\"1107\" style=\"display: none;\"><div style=\"display: table-cell;\"></div><div style=\"display: table-cell;\">outer_height&nbsp;=&nbsp;0,</div></div><div class=\"1107\" style=\"display: none;\"><div style=\"display: table-cell;\"></div><div style=\"display: table-cell;\">outer_width&nbsp;=&nbsp;0,</div></div><div class=\"1107\" style=\"display: none;\"><div style=\"display: table-cell;\"></div><div style=\"display: table-cell;\">outline_line_alpha&nbsp;=&nbsp;1.0,</div></div><div class=\"1107\" style=\"display: none;\"><div style=\"display: table-cell;\"></div><div style=\"display: table-cell;\">outline_line_cap&nbsp;=&nbsp;'butt',</div></div><div class=\"1107\" style=\"display: none;\"><div style=\"display: table-cell;\"></div><div style=\"display: table-cell;\">outline_line_color&nbsp;=&nbsp;'#e5e5e5',</div></div><div class=\"1107\" style=\"display: none;\"><div style=\"display: table-cell;\"></div><div style=\"display: table-cell;\">outline_line_dash&nbsp;=&nbsp;[],</div></div><div class=\"1107\" style=\"display: none;\"><div style=\"display: table-cell;\"></div><div style=\"display: table-cell;\">outline_line_dash_offset&nbsp;=&nbsp;0,</div></div><div class=\"1107\" style=\"display: none;\"><div style=\"display: table-cell;\"></div><div style=\"display: table-cell;\">outline_line_join&nbsp;=&nbsp;'bevel',</div></div><div class=\"1107\" style=\"display: none;\"><div style=\"display: table-cell;\"></div><div style=\"display: table-cell;\">outline_line_width&nbsp;=&nbsp;1,</div></div><div class=\"1107\" style=\"display: none;\"><div style=\"display: table-cell;\"></div><div style=\"display: table-cell;\">output_backend&nbsp;=&nbsp;'canvas',</div></div><div class=\"1107\" style=\"display: none;\"><div style=\"display: table-cell;\"></div><div style=\"display: table-cell;\">renderers&nbsp;=&nbsp;[GlyphRenderer(id='1037', ...)],</div></div><div class=\"1107\" style=\"display: none;\"><div style=\"display: table-cell;\"></div><div style=\"display: table-cell;\">reset_policy&nbsp;=&nbsp;'standard',</div></div><div class=\"1107\" style=\"display: none;\"><div style=\"display: table-cell;\"></div><div style=\"display: table-cell;\">right&nbsp;=&nbsp;[],</div></div><div class=\"1107\" style=\"display: none;\"><div style=\"display: table-cell;\"></div><div style=\"display: table-cell;\">sizing_mode&nbsp;=&nbsp;None,</div></div><div class=\"1107\" style=\"display: none;\"><div style=\"display: table-cell;\"></div><div style=\"display: table-cell;\">subscribed_events&nbsp;=&nbsp;[],</div></div><div class=\"1107\" style=\"display: none;\"><div style=\"display: table-cell;\"></div><div style=\"display: table-cell;\">syncable&nbsp;=&nbsp;True,</div></div><div class=\"1107\" style=\"display: none;\"><div style=\"display: table-cell;\"></div><div style=\"display: table-cell;\">tags&nbsp;=&nbsp;[],</div></div><div class=\"1107\" style=\"display: none;\"><div style=\"display: table-cell;\"></div><div style=\"display: table-cell;\">title&nbsp;=&nbsp;Title(id='1042', ...),</div></div><div class=\"1107\" style=\"display: none;\"><div style=\"display: table-cell;\"></div><div style=\"display: table-cell;\">title_location&nbsp;=&nbsp;'above',</div></div><div class=\"1107\" style=\"display: none;\"><div style=\"display: table-cell;\"></div><div style=\"display: table-cell;\">toolbar&nbsp;=&nbsp;Toolbar(id='1027', ...),</div></div><div class=\"1107\" style=\"display: none;\"><div style=\"display: table-cell;\"></div><div style=\"display: table-cell;\">toolbar_location&nbsp;=&nbsp;'right',</div></div><div class=\"1107\" style=\"display: none;\"><div style=\"display: table-cell;\"></div><div style=\"display: table-cell;\">toolbar_sticky&nbsp;=&nbsp;True,</div></div><div class=\"1107\" style=\"display: none;\"><div style=\"display: table-cell;\"></div><div style=\"display: table-cell;\">visible&nbsp;=&nbsp;True,</div></div><div class=\"1107\" style=\"display: none;\"><div style=\"display: table-cell;\"></div><div style=\"display: table-cell;\">width&nbsp;=&nbsp;600,</div></div><div class=\"1107\" style=\"display: none;\"><div style=\"display: table-cell;\"></div><div style=\"display: table-cell;\">width_policy&nbsp;=&nbsp;'auto',</div></div><div class=\"1107\" style=\"display: none;\"><div style=\"display: table-cell;\"></div><div style=\"display: table-cell;\">x_range&nbsp;=&nbsp;DataRange1d(id='1004', ...),</div></div><div class=\"1107\" style=\"display: none;\"><div style=\"display: table-cell;\"></div><div style=\"display: table-cell;\">x_scale&nbsp;=&nbsp;LinearScale(id='1008', ...),</div></div><div class=\"1107\" style=\"display: none;\"><div style=\"display: table-cell;\"></div><div style=\"display: table-cell;\">y_range&nbsp;=&nbsp;DataRange1d(id='1006', ...),</div></div><div class=\"1107\" style=\"display: none;\"><div style=\"display: table-cell;\"></div><div style=\"display: table-cell;\">y_scale&nbsp;=&nbsp;LinearScale(id='1010', ...))</div></div></div>\n",
              "<script>\n",
              "(function() {\n",
              "  var expanded = false;\n",
              "  var ellipsis = document.getElementById(\"1108\");\n",
              "  ellipsis.addEventListener(\"click\", function() {\n",
              "    var rows = document.getElementsByClassName(\"1107\");\n",
              "    for (var i = 0; i < rows.length; i++) {\n",
              "      var el = rows[i];\n",
              "      el.style.display = expanded ? \"none\" : \"table-row\";\n",
              "    }\n",
              "    ellipsis.innerHTML = expanded ? \"&hellip;)\" : \"&lsaquo;&lsaquo;&lsaquo;\";\n",
              "    expanded = !expanded;\n",
              "  });\n",
              "})();\n",
              "</script>\n"
            ],
            "text/plain": [
              "Figure(id='1003', ...)"
            ]
          },
          "execution_count": 26,
          "metadata": {
            "tags": []
          },
          "output_type": "execute_result"
        }
      ]
    },
    {
      "cell_type": "markdown",
      "metadata": {
        "id": "0fNF6LRQ9MPI"
      },
      "source": [
        "Скорее всего, на визуализации нет четкого разделения твитов между классами. Это значит, что по полученным нами векторам твитов не так-то просто определить, к какому классу твит пренадлежит. Значит, обычный линейный классификатор не очень хорошо справится с задачей. Надо будет делать глубокую (хотя бы два слоя) нейронную сеть.\n",
        "\n",
        "Подготовим загрузчики данных.\n",
        "Усреднение векторов будем делать в \"батчевалке\"(`collate_fn`). Она используется для того, чтобы собирать из данных `torch.Tensor` батчи, которые можно отправлять в модель.\n"
      ]
    },
    {
      "cell_type": "code",
      "metadata": {
        "id": "y1XapsADtITv"
      },
      "source": [
        "from torch.utils.data import DataLoader\n",
        "\n",
        "batch_size = 1024\n",
        "num_workers = 2\n",
        "\n",
        "def average_emb(batch):\n",
        "    features = [np.mean(b[\"feature\"], axis=0) for b in batch]\n",
        "    targets = [b[\"target\"] for b in batch]\n",
        "\n",
        "    # return {\"features\": torch.FloatTensor(features), \n",
        "    #         \"targets\": torch.LongTensor(targets)}\n",
        "    # заменила Long на Float, иначе ошибка при обучении\n",
        "    return {\"features\": torch.FloatTensor(features), \n",
        "            \"targets\": torch.FloatTensor(targets)} \n",
        "\n",
        "train_size = math.ceil(len(dev) * 0.8)\n",
        "\n",
        "train, valid = random_split(dev, [train_size, len(dev) - train_size])\n",
        "\n",
        "train_loader = DataLoader(train, batch_size=batch_size, num_workers=num_workers,\n",
        "                          shuffle=True, drop_last=True, collate_fn=average_emb)\n",
        "valid_loader = DataLoader(valid, batch_size=batch_size, num_workers=num_workers, \n",
        "                          shuffle=False, drop_last=False, collate_fn=average_emb)"
      ],
      "execution_count": null,
      "outputs": []
    },
    {
      "cell_type": "code",
      "metadata": {
        "colab": {
          "base_uri": "https://localhost:8080/"
        },
        "id": "fEY6D3QP3Fl8",
        "outputId": "833ee486-af3c-4e3e-f95c-b63a2d50f32a"
      },
      "source": [
        "len(train)"
      ],
      "execution_count": null,
      "outputs": [
        {
          "data": {
            "text/plain": [
              "1024000"
            ]
          },
          "execution_count": 39,
          "metadata": {
            "tags": []
          },
          "output_type": "execute_result"
        }
      ]
    },
    {
      "cell_type": "markdown",
      "metadata": {
        "id": "p-zs0WEK-Vkt"
      },
      "source": [
        "Определим функции для тренировки и теста модели:"
      ]
    },
    {
      "cell_type": "code",
      "metadata": {
        "id": "U--T2Gjw1r27"
      },
      "source": [
        "from tqdm.notebook import tqdm\n",
        "\n",
        "def training(model, optimizer, criterion, train_loader, epoch, device=\"cpu\"):\n",
        "\n",
        "    # e - это из \"for e in range(num_epochs):\", см. код дальше\n",
        "    pbar = tqdm(train_loader, desc=f\"Epoch {e + 1}. Train Loss: {0}\") \n",
        "    model.train()\n",
        "    for batch in pbar:\n",
        "        features = batch[\"features\"].to(device)\n",
        "        targets = batch[\"targets\"].to(device)\n",
        "        targets = targets.reshape(-1, 1)\n",
        "\n",
        "        # set parameter gradients to zero\n",
        "        optimizer.zero_grad()\n",
        "\n",
        "        # Получи предсказания модели\n",
        "        Y_pred = model(features)\n",
        "        loss = criterion(Y_pred, targets) # Посчитай лосс\n",
        "        loss.backward()\n",
        "        optimizer.step()  # Обнови параметры модели\n",
        "\n",
        "        pbar.set_description(f\"Epoch {e + 1}. Train Loss: {loss:.4}\")\n",
        "    \n",
        "\n",
        "def testing(model, criterion, test_loader, device=\"cpu\"): \n",
        "    pbar = tqdm(test_loader, desc=f\"Test Loss: {0}, Test Acc: {0}\")\n",
        "    mean_loss = 0\n",
        "    mean_acc = 0\n",
        "    model.eval()\n",
        "    with torch.no_grad():\n",
        "        for batch in pbar:\n",
        "            features = batch[\"features\"].to(device)\n",
        "            targets = batch[\"targets\"].to(device)\n",
        "            targets = targets.reshape(-1, 1)\n",
        "\n",
        "            # Получи предсказания модели\n",
        "            Y_hat = model(features)\n",
        "            loss = criterion(Y_hat, targets) # Посчитай лосс\n",
        "\n",
        "            Y_hat = torch.sigmoid(Y_hat)\n",
        "            Y_hat = (Y_hat>0.5).type(torch.long)\n",
        "            \n",
        "            # Посчитай точность модели\n",
        "            acc = torch.sum(Y_hat == targets) / len(targets)\n",
        "\n",
        "            mean_loss += loss.item()\n",
        "            mean_acc += acc.item()\n",
        "\n",
        "            pbar.set_description(f\"Test Loss: {loss:.4}, Test Acc: {acc:.4}\")\n",
        "\n",
        "    pbar.set_description(f\"Test Loss: {mean_loss / len(test_loader):.4}, \\\n",
        "                           Test Acc: {mean_acc / len(test_loader):.4}\")\n",
        "\n",
        "    return {\"Test Loss\": mean_loss / len(test_loader), \n",
        "            \"Test Acc\": mean_acc / len(test_loader)}"
      ],
      "execution_count": null,
      "outputs": []
    },
    {
      "cell_type": "markdown",
      "metadata": {
        "id": "oVg_XBBb-YBH"
      },
      "source": [
        "Создадим модель, оптимизатор и целевую функцию. Вы можете сами выбрать количество слоев в нейронной сети, ваш любимый оптимизатор и целевую функцию.\n"
      ]
    },
    {
      "cell_type": "code",
      "metadata": {
        "id": "EBoZ4F3Fx1Hm"
      },
      "source": [
        "import torch.nn as nn\n",
        "from torch.optim import Adam\n",
        "\n",
        "# Не забудь поиграться с параметрами ;)\n",
        "vector_size = dev.word2vec.vector_size\n",
        "lr = 1e-2\n",
        "num_epochs = 1\n",
        "\n",
        "# model = nn.Sequential(\n",
        "#   nn.Linear(vector_size, 128),\n",
        "#   nn.ReLU(),\n",
        "#   nn.Linear(128, 64),\n",
        "#   nn.ReLU(),\n",
        "#   nn.Linear(64, 32),\n",
        "#   nn.ReLU(),\n",
        "#   nn.Linear(32, 1)\n",
        "# )\n",
        "\n",
        "model = nn.Sequential(\n",
        "  nn.Linear(vector_size, 128),\n",
        "  nn.ReLU(),\n",
        "  nn.Linear(128, 1))\n",
        "\n",
        "# model = model.to(device)\n",
        "criterion = nn.BCEWithLogitsLoss()\n",
        "optimizer = Adam(model.parameters(), lr=lr)# Твой оптимайзер"
      ],
      "execution_count": null,
      "outputs": []
    },
    {
      "cell_type": "markdown",
      "metadata": {
        "id": "-AitU8AR-zBj"
      },
      "source": [
        "Наконец, обучим модель и протестируем её.\n",
        "\n",
        "После каждой эпохи будем проверять качество модели на валидационной части датасета. Если метрика стала лучше, будем сохранять модель. **Подумайте, какая метрика (точность или лосс) будет лучше работать в этой задаче?** "
      ]
    },
    {
      "cell_type": "code",
      "metadata": {
        "colab": {
          "base_uri": "https://localhost:8080/",
          "height": 131,
          "referenced_widgets": [
            "bb7c1a120b524376b161b2f9714f5113",
            "62e4e2e87e0a4de3a1d783821f73615d",
            "7fa3fb0c4bb3490eac7c5b55bb0c8f99",
            "71002d18610349b9aa0ff8f029b75b76",
            "a53a961b318a40d5aa76a28d5b9d0597",
            "de871aba294144548e53732c4386c194",
            "a257c4c00ac04d12994117cbd5ae38d5",
            "1c9d069f44fa4e31a462d4ebe617d876",
            "d8e70c9631f04dcda072448975d2d4ff",
            "a0492d670ab342b3ad9f7a81aa43edcb",
            "c6a8033d30f14becad6096f491cfdcd4",
            "b82f8bd5c1124da086684d6d9ab1ebbd",
            "bfc62b9482f7476babd6364e807dafb7",
            "ed1a3a841f474c878392b4ef1fee1a3f",
            "1377e79b563f4107b829cc171a579d53",
            "995da1edae314ac18be9e3658444ac0d"
          ]
        },
        "id": "gKhk71Pmx1F1",
        "outputId": "7223a1ae-a72a-451e-8940-d91ab7a6b507"
      },
      "source": [
        "best_metric = np.inf\n",
        "for e in range(num_epochs):\n",
        "    training(model, optimizer, criterion, train_loader, e, device)\n",
        "    log = testing(model, criterion, valid_loader, device)\n",
        "    print(log)\n",
        "    if log[\"Test Loss\"] < best_metric:\n",
        "        torch.save(model.state_dict(), \"model.pt\")\n",
        "        best_metric = log[\"Test Loss\"]\n",
        "\n",
        "# НС в 4 слоя\n",
        "\n",
        "# {'Test Loss': 0.5086260961294174, 'Test Acc': 0.74740234375}    nltk.WordPunctTokenizer() + токены от 4 букв\n",
        "# {'Test Loss': 0.4792954614162445, 'Test Acc': 0.76518359375}    nltk.WordPunctTokenizer() + токены от 3 букв \n",
        "# {'Test Loss': 0.5027369836568832, 'Test Acc': 0.75190625}       re - слова и цифры + лемматизация\n",
        "# {'Test Loss': 0.5026048966646195, 'Test Acc': 0.7523671875}     re - только слова + лемматизация\n",
        "# {'Test Loss': 0.5023029655218124, 'Test Acc': 0.75173828125}    nltk.WordPunctTokenizer() + токены от 3 букв + лемматизация + стопслова\n",
        "# {'Test Loss': 0.5050759416818619, 'Test Acc': 0.74971484375}    nltk.WordPunctTokenizer() + токены от 3 букв + стопслова\n",
        "\n",
        "# НС в 2 слоя\n",
        "# {'Test Loss': 0.48422147274017335, 'Test Acc': 0.76534375}      nltk.WordPunctTokenizer() + токены от 3 букв "
      ],
      "execution_count": null,
      "outputs": [
        {
          "data": {
            "application/vnd.jupyter.widget-view+json": {
              "model_id": "bb7c1a120b524376b161b2f9714f5113",
              "version_major": 2,
              "version_minor": 0
            },
            "text/plain": [
              "HBox(children=(FloatProgress(value=0.0, description='Epoch 1. Train Loss: 0', max=1000.0, style=ProgressStyle(…"
            ]
          },
          "metadata": {
            "tags": []
          },
          "output_type": "display_data"
        },
        {
          "name": "stdout",
          "output_type": "stream",
          "text": [
            "\n"
          ]
        },
        {
          "data": {
            "application/vnd.jupyter.widget-view+json": {
              "model_id": "d8e70c9631f04dcda072448975d2d4ff",
              "version_major": 2,
              "version_minor": 0
            },
            "text/plain": [
              "HBox(children=(FloatProgress(value=0.0, description='Test Loss: 0, Test Acc: 0', max=250.0, style=ProgressStyl…"
            ]
          },
          "metadata": {
            "tags": []
          },
          "output_type": "display_data"
        },
        {
          "name": "stdout",
          "output_type": "stream",
          "text": [
            "\n",
            "{'Test Loss': 0.48422147274017335, 'Test Acc': 0.76534375}\n"
          ]
        }
      ]
    },
    {
      "cell_type": "code",
      "metadata": {
        "colab": {
          "base_uri": "https://localhost:8080/",
          "height": 82,
          "referenced_widgets": [
            "bafb808f2f2b419a856184214e4fc238",
            "d852ae39567a40cebf88c5f4ee63d9c7",
            "5ae052d0bd3e4604a19041a1e51c4f41",
            "4f7821581e984c37b49c64309febef06",
            "bc40f48892cc41f1a618d7410318c27a",
            "811af07bc2884dbf8bd4072b975e58e8",
            "b799b58309c94f4190792e06c9867b56",
            "48f2711974a54f7383a8d1309e427a87"
          ]
        },
        "id": "di4dGwD4x1Dt",
        "outputId": "ca246e78-f57d-4c73-ae06-f19b4c0cb5cc"
      },
      "source": [
        "test_loader = DataLoader(\n",
        "    TwitterDataset(test_data, \"text\", \"emotion\", word2vec), \n",
        "    batch_size=batch_size, \n",
        "    num_workers=num_workers, \n",
        "    shuffle=False,\n",
        "    drop_last=False, \n",
        "    collate_fn=average_emb)\n",
        "\n",
        "model.load_state_dict(torch.load(\"model.pt\", map_location=device))\n",
        "\n",
        "print(testing(model, criterion, test_loader, device=device))\n",
        "\n",
        "# НС в 4 слоя\n",
        "\n",
        "# {'Test Loss': 0.5124567241523974, 'Test Acc': 0.7442467052715654}   nltk.WordPunctTokenizer() + токены от 4 букв\n",
        "# {'Test Loss': 0.4773869004112463, 'Test Acc': 0.7667887629792333}   nltk.WordPunctTokenizer() + токены от 3 букв  \n",
        "# {'Test Loss': 0.5021114643579855, 'Test Acc': 0.753113767971246}    re - слова и цифры + лемматизация\n",
        "# {'Test Loss': 0.5022929027057684, 'Test Acc': 0.7525116064297125}   re - только слова + лемматизация\n",
        "# {'Test Loss': 0.501444010879285, 'Test Acc': 0.7527331269968051}    nltk.WordPunctTokenizer() + токены от 3 букв + лемматизация\n",
        "\n",
        "# НС в 2 слоя\n",
        "\n",
        "# {'Test Loss': 0.4827558478227439, 'Test Acc': 0.7667450828674122}   nltk.WordPunctTokenizer() + токены от 3 букв"
      ],
      "execution_count": null,
      "outputs": [
        {
          "data": {
            "application/vnd.jupyter.widget-view+json": {
              "model_id": "bafb808f2f2b419a856184214e4fc238",
              "version_major": 2,
              "version_minor": 0
            },
            "text/plain": [
              "HBox(children=(FloatProgress(value=0.0, description='Test Loss: 0, Test Acc: 0', max=313.0, style=ProgressStyl…"
            ]
          },
          "metadata": {
            "tags": []
          },
          "output_type": "display_data"
        },
        {
          "name": "stdout",
          "output_type": "stream",
          "text": [
            "\n",
            "{'Test Loss': 0.4827558478227439, 'Test Acc': 0.7667450828674122}\n"
          ]
        }
      ]
    },
    {
      "cell_type": "markdown",
      "metadata": {
        "id": "pQD_TFa8FmfG"
      },
      "source": [
        "Токенайзер nltk.WordPunctTokenizer() + токены от 3 букв выигрывает по качеству, дальше будем использовать его. Также нейронная сеть в 2 слоя показала примерно то же качество, что и сеть в 4 слоя, значит нет необходимости в таком количестве слоев, достаточно 2-х. Но проверим это предположение на более сложных задачах дальше."
      ]
    },
    {
      "cell_type": "markdown",
      "metadata": {
        "id": "ZRvzpldHSAu0"
      },
      "source": [
        "## Embeddings for unknown words (8 баллов)\n",
        "\n",
        "Пока что использовалась не вся информация из текста. Часть информации фильтровалось – если слова не было в словаре эмбеддингов, то мы просто превращали слово в нулевой вектор. Хочется использовать информацию по-максимуму. Поэтому рассмотрим другие способы обработки слов, которых нет в словаре. А именно:\n",
        "\n",
        "- Для каждого незнакомого слова будем запоминать его контекст(слова слева и справа от этого слова). Эмбеддингом нашего незнакомого слова будет сумма эмбеддингов всех слов из его контекста. (4 балла)\n",
        "- Для каждого слова текста получим его эмбеддинг из Tfidf с помощью ```TfidfVectorizer``` из [sklearn](https://scikit-learn.org/stable/modules/generated/sklearn.feature_extraction.text.TfidfVectorizer.html#sklearn.feature_extraction.text.TfidfVectorizer). Итоговым эмбеддингом для каждого слова будет сумма двух эмбеддингов: предобученного и Tfidf-ного. Для слов, которых нет в словаре предобученных эмбеддингов, результирующий эмбеддинг будет просто полученный из Tfidf. (4 балла)\n",
        "\n",
        "Реализуйте оба варианта **ниже**. Напишите, какой способ сработал лучше и ваши мысли, почему так получилось."
      ]
    },
    {
      "cell_type": "markdown",
      "metadata": {
        "id": "3W6YJUkVcAaf"
      },
      "source": [
        "1. Для каждого незнакомого слова будем запоминать его контекст(слова слева и справа от этого слова). Эмбеддингом нашего незнакомого слова будет сумма эмбеддингов всех слов из его контекста. (4 балла)"
      ]
    },
    {
      "cell_type": "markdown",
      "metadata": {
        "id": "eqkVRax1PEO0"
      },
      "source": [
        "# Без весов на дальность слова"
      ]
    },
    {
      "cell_type": "code",
      "metadata": {
        "id": "kKqTVusbREii"
      },
      "source": [
        "from torch.utils.data import Dataset, random_split\n",
        "\n",
        "class TwitterDataset_Context(Dataset):\n",
        "    def __init__(self, data: pd.DataFrame, feature_column: str, \n",
        "                 target_column: str, word2vec: gensim.models.Word2Vec, window: int):\n",
        "        self.tokenizer = nltk.WordPunctTokenizer()\n",
        "        \n",
        "        self.data = data\n",
        "\n",
        "        self.feature_column = feature_column\n",
        "        self.target_column = target_column\n",
        "\n",
        "        self.word2vec = word2vec\n",
        "        self.window =  window\n",
        "\n",
        "        self.label2num = lambda label: 0 if label == 0 else 1\n",
        "        self.mean = np.mean(word2vec.vectors, axis=0)\n",
        "        self.std = np.std(word2vec.vectors, axis=0)\n",
        "\n",
        "    def __getitem__(self, item):\n",
        "        text = self.data[self.feature_column][item]\n",
        "        label = self.label2num(self.data[self.target_column][item])\n",
        "\n",
        "        tokens = self.get_tokens_(text)\n",
        "        embeddings = self.get_embeddings_(tokens)\n",
        "\n",
        "        return {\"feature\": embeddings, \"target\": label}\n",
        "\n",
        "    def get_tokens_(self, text):\n",
        "        # Получи все токены из текста и профильтруй их\n",
        "        line = self.tokenizer.tokenize(text.lower())\n",
        "        tokens = [w for w in line if all(c not in string.punctuation for c in w)]\n",
        "        tokens = [w for w in tokens if len(w) > 2] \n",
        "        return tokens\n",
        "\n",
        "    def get_embeddings_(self, tokens):\n",
        "        # пустой шаблон - число токенов в твите на 300(W2V)\n",
        "        embeddings = np.zeros((len(tokens), self.word2vec.vector_size))  \n",
        "\n",
        "        for i in range(len(tokens)):\n",
        "\n",
        "          if tokens[i] in self.word2vec:\n",
        "              # Получи эмбеддинги слов и усредни их\n",
        "              embeddings[i] = (self.word2vec.get_vector(tokens[i]) - self.mean) \\\n",
        "                               / self.std \n",
        "\n",
        "          else:\n",
        "            # определяем левую границу контекста\n",
        "            left = max(i - self.window, 0)\n",
        "            if i == 0:\n",
        "              left = 1\n",
        "\n",
        "            # определяем правую границу контекста\n",
        "            right = min(i + self.window + 1, len(tokens))\n",
        "            \n",
        "            num = 0\n",
        "            for e in range(left, right):\n",
        "                if tokens[e] in self.word2vec:\n",
        "                   embeddings[i] += (self.word2vec.get_vector(tokens[e]) - self.mean) \\\n",
        "                                    / self.std\n",
        "                   num += 1 \n",
        "                   # tokens[i], если i попадает в  range(left, right) все равно\n",
        "                   # не будет учитываться в num, т.к. его нет в self.word2vec\n",
        "            if num != 0:      \n",
        "              # усредняем вектор неизвестного слова по числу известных слов из контекста   \n",
        "              embeddings[i] = embeddings[i] / num   \n",
        "\n",
        "        if len(embeddings) == 0:\n",
        "            embeddings = np.zeros((1, self.word2vec.vector_size))\n",
        "        else:\n",
        "          embeddings = np.array(embeddings)\n",
        "          if len(embeddings.shape) == 1:\n",
        "              embeddings = embeddings.reshape(-1, 1)\n",
        "\n",
        "        return embeddings\n",
        "\n",
        "    def __len__(self):\n",
        "        return self.data.shape[0]"
      ],
      "execution_count": null,
      "outputs": []
    },
    {
      "cell_type": "code",
      "metadata": {
        "id": "6QPFvkrKcEAQ"
      },
      "source": [
        "dev_Context = TwitterDataset_Context(dev_data, \"text\", \"emotion\", word2vec, 3)"
      ],
      "execution_count": null,
      "outputs": []
    },
    {
      "cell_type": "code",
      "metadata": {
        "id": "P8ImUv4Cd4bQ"
      },
      "source": [
        "from torch.utils.data import DataLoader\n",
        "\n",
        "batch_size = 1024\n",
        "num_workers = 2\n",
        "\n",
        "def average_emb(batch):\n",
        "    features = [np.mean(b[\"feature\"], axis=0) for b in batch]\n",
        "    targets = [b[\"target\"] for b in batch]\n",
        "\n",
        "    return {\"features\": torch.FloatTensor(features), \"targets\": torch.FloatTensor(targets)}\n",
        "\n",
        "train_size = math.ceil(len(dev_Context) * 0.8)\n",
        "\n",
        "train, valid = random_split(dev_Context, [train_size, len(dev_Context) - train_size])\n",
        "\n",
        "train_loader = DataLoader(train, batch_size=batch_size, num_workers=num_workers, \n",
        "                          shuffle=True, drop_last=True, collate_fn=average_emb)\n",
        "valid_loader = DataLoader(valid, batch_size=batch_size, num_workers=num_workers, \n",
        "                          shuffle=False, drop_last=False, collate_fn=average_emb)"
      ],
      "execution_count": null,
      "outputs": []
    },
    {
      "cell_type": "code",
      "metadata": {
        "id": "LX751bnzd4dt"
      },
      "source": [
        "from tqdm.notebook import tqdm\n",
        "\n",
        "def training(model, optimizer, criterion, train_loader, epoch, device=\"cpu\"):\n",
        "    pbar = tqdm(train_loader, desc=f\"Epoch {e + 1}. Train Loss: {0}\") \n",
        "    model.train()\n",
        "    for batch in pbar:\n",
        "        features = batch[\"features\"].to(device)\n",
        "        targets = batch[\"targets\"].to(device)\n",
        "        targets = targets.reshape(-1, 1)\n",
        "\n",
        "        # set parameter gradients to zero\n",
        "        optimizer.zero_grad()\n",
        "\n",
        "        # Получи предсказания модели\n",
        "        Y_pred = model(features)\n",
        "        loss = criterion(Y_pred, targets) # Посчитай лосс\n",
        "        loss.backward()\n",
        "        optimizer.step()  # Обнови параметры модели\n",
        "\n",
        "        pbar.set_description(f\"Epoch {e + 1}. Train Loss: {loss:.4}\")\n",
        "\n",
        "def testing(model, criterion, test_loader, device=\"cpu\"): \n",
        "    pbar = tqdm(test_loader, desc=f\"Test Loss: {0}, Test Acc: {0}\")\n",
        "    mean_loss = 0\n",
        "    mean_acc = 0\n",
        "    model.eval()\n",
        "    with torch.no_grad():\n",
        "        for batch in pbar:\n",
        "            features = batch[\"features\"].to(device)\n",
        "            targets = batch[\"targets\"].to(device)\n",
        "            targets = targets.reshape(-1, 1)\n",
        "\n",
        "            # Получи предсказания модели\n",
        "            Y_hat = model(features)\n",
        "            loss = criterion(Y_hat, targets) # Посчитай лосс\n",
        "\n",
        "            Y_hat = torch.sigmoid(Y_hat)\n",
        "            Y_hat = (Y_hat>0.5).type(torch.long)\n",
        "            \n",
        "            # Посчитай точность модели\n",
        "            acc = torch.sum(Y_hat == targets) / len(targets)\n",
        "\n",
        "            mean_loss += loss.item()\n",
        "            mean_acc += acc.item()\n",
        "\n",
        "            pbar.set_description(f\"Test Loss: {loss:.4}, Test Acc: {acc:.4}\")\n",
        "\n",
        "    pbar.set_description(f\"Test Loss: {mean_loss / len(test_loader):.4}, \\\n",
        "                           Test Acc: {mean_acc / len(test_loader):.4}\")\n",
        "\n",
        "    return {\"Test Loss\": mean_loss / len(test_loader), \n",
        "            \"Test Acc\": mean_acc / len(test_loader)}"
      ],
      "execution_count": null,
      "outputs": []
    },
    {
      "cell_type": "code",
      "metadata": {
        "id": "Do3cT_wSd4gV"
      },
      "source": [
        "import torch.nn as nn\n",
        "from torch.optim import Adam\n",
        "\n",
        "# Не забудь поиграться с параметрами ;)\n",
        "vector_size = dev_Context.word2vec.vector_size\n",
        "lr = 1e-2\n",
        "num_epochs = 1\n",
        "\n",
        "model = nn.Sequential( # Твоя модель\n",
        "  nn.Linear(vector_size, 128),\n",
        "  nn.ReLU(),\n",
        "  nn.Linear(128, 64),\n",
        "  nn.ReLU(),\n",
        "  nn.Linear(64, 32),\n",
        "  nn.ReLU(),\n",
        "  nn.Linear(32, 1)\n",
        ")\n",
        "\n",
        "# model = nn.Sequential(\n",
        "#   nn.Linear(vector_size, 128),\n",
        "#   nn.ReLU(),\n",
        "#   nn.Linear(128, 1))\n",
        "\n",
        "model = model.to(device)\n",
        "criterion = nn.BCEWithLogitsLoss()\n",
        "optimizer = Adam(model.parameters(), lr=lr)# Твой оптимайзер"
      ],
      "execution_count": null,
      "outputs": []
    },
    {
      "cell_type": "code",
      "metadata": {
        "colab": {
          "base_uri": "https://localhost:8080/",
          "height": 131,
          "referenced_widgets": [
            "167d9b36376e4135903034db249b1e0a",
            "87ced1e07f59404f9d8dcd9e3262bfff",
            "3bddf4c606d444da8919602336a0f18c",
            "6f10295237f34ab88467382cf98ddc51",
            "6ff4bea9c1554b21a8338ae537cfb5b4",
            "afee02a1b4bf4fd0a5da891626f17e1a",
            "89858d775e004fed9a2c941f7c60e859",
            "e880a6fdde7f4b7da5d8ac2b5400d026",
            "04c820a7163a4cb5874ea45fc4860ee4",
            "d44b1950c6ca4dab8c90952aa89d38ba",
            "5108ce1bbbb24647944a766608afea90",
            "47267274dd1e4ad28481cca43ae2d627",
            "9018ec54b483446f8e5d62cd34e38d1b",
            "9e92b48b393a4fe9bc1aafdb263301fb",
            "e119fad0f30546ac84614c7c05504c8c",
            "b8a1cfec94f44be49d93bc2d2e5bcfb7"
          ]
        },
        "id": "ntnvtMVxd4iw",
        "outputId": "95c96e4e-2c07-4f4d-c421-05f93c980500"
      },
      "source": [
        "best_metric = np.inf\n",
        "for e in range(num_epochs):\n",
        "    training(model, optimizer, criterion, train_loader, e, device)\n",
        "    log = testing(model, criterion, valid_loader, device)\n",
        "    print(log)\n",
        "    if log[\"Test Loss\"] < best_metric:\n",
        "        torch.save(model.state_dict(), \"model.pt\")\n",
        "        best_metric = log[\"Test Loss\"]\n",
        "\n",
        "# НС в 4 слоя\n",
        "# {'Test Loss': 0.47848300874233246, 'Test Acc': 0.76915625}\n",
        "\n",
        "# НС в 2 слоя\n",
        "\n",
        "# {'Test Loss': 0.49272973656654356, 'Test Acc': 0.7605}\n",
        "# с усреднением вектора неизвестного слова по числу известных слов из контекста,\n",
        "#  nltk.WordPunctTokenizer() + токены от 3 букв "
      ],
      "execution_count": null,
      "outputs": [
        {
          "data": {
            "application/vnd.jupyter.widget-view+json": {
              "model_id": "167d9b36376e4135903034db249b1e0a",
              "version_major": 2,
              "version_minor": 0
            },
            "text/plain": [
              "HBox(children=(FloatProgress(value=0.0, description='Epoch 1. Train Loss: 0', max=1000.0, style=ProgressStyle(…"
            ]
          },
          "metadata": {
            "tags": []
          },
          "output_type": "display_data"
        },
        {
          "name": "stdout",
          "output_type": "stream",
          "text": [
            "\n"
          ]
        },
        {
          "data": {
            "application/vnd.jupyter.widget-view+json": {
              "model_id": "04c820a7163a4cb5874ea45fc4860ee4",
              "version_major": 2,
              "version_minor": 0
            },
            "text/plain": [
              "HBox(children=(FloatProgress(value=0.0, description='Test Loss: 0, Test Acc: 0', max=250.0, style=ProgressStyl…"
            ]
          },
          "metadata": {
            "tags": []
          },
          "output_type": "display_data"
        },
        {
          "name": "stdout",
          "output_type": "stream",
          "text": [
            "\n",
            "{'Test Loss': 0.47848300874233246, 'Test Acc': 0.76915625}\n"
          ]
        }
      ]
    },
    {
      "cell_type": "code",
      "metadata": {
        "colab": {
          "base_uri": "https://localhost:8080/",
          "height": 82,
          "referenced_widgets": [
            "5650cf8492434e4da36f3caaf8d7126e",
            "331350765d474b7bb957a54ec7cd537a",
            "a093d9cf82a2427aba5908377cf8b1c0",
            "b881624be37647c0b3a964d8ba05c6f1",
            "ecd854e2e70b49aaa051a17c2df640d4",
            "5f15037f554840aa84c7f3b3b7dda0d9",
            "aac6b73caf304406a3077027d83bde84",
            "e9beca09d0f84476b61cc6a3d25a0220"
          ]
        },
        "id": "oWBErN9ld4lS",
        "outputId": "cf7f576e-3541-4acb-e578-9245a02b44dc"
      },
      "source": [
        "test_loader = DataLoader(\n",
        "    TwitterDataset_Context(test_data, \"text\", \"emotion\", word2vec, 3), \n",
        "    batch_size=batch_size, \n",
        "    num_workers=num_workers, \n",
        "    shuffle=False,\n",
        "    drop_last=False, \n",
        "    collate_fn=average_emb)\n",
        "\n",
        "model.load_state_dict(torch.load(\"model.pt\", map_location=device))\n",
        "\n",
        "print(testing(model, criterion, test_loader, device=device))\n",
        "\n",
        "# НС в 4 слоя\n",
        "# {'Test Loss': 0.47829622068344213, 'Test Acc': 0.7686233276757188}\n",
        "\n",
        "# НС в 2 слоя\n",
        "\n",
        "# {'Test Loss': 0.4916354916727962, 'Test Acc': 0.7613849091453674}\n",
        "# с усреднением вектора неизвестного слова по числу известных слов из контекста,\n",
        "# nltk.WordPunctTokenizer() + токены от 3 букв "
      ],
      "execution_count": null,
      "outputs": [
        {
          "data": {
            "application/vnd.jupyter.widget-view+json": {
              "model_id": "5650cf8492434e4da36f3caaf8d7126e",
              "version_major": 2,
              "version_minor": 0
            },
            "text/plain": [
              "HBox(children=(FloatProgress(value=0.0, description='Test Loss: 0, Test Acc: 0', max=313.0, style=ProgressStyl…"
            ]
          },
          "metadata": {
            "tags": []
          },
          "output_type": "display_data"
        },
        {
          "name": "stdout",
          "output_type": "stream",
          "text": [
            "\n",
            "{'Test Loss': 0.47829622068344213, 'Test Acc': 0.7686233276757188}\n"
          ]
        }
      ]
    },
    {
      "cell_type": "markdown",
      "metadata": {
        "id": "o66kLkbm290X"
      },
      "source": [
        "При использовании эмбеддингов незнакомых слов как сумму эмбеддингов всех слов из их контекста (без весов на дальность слова), на тесте получаем результат 0.7686 при 4-х слойной НС - также, как когда мы не учитываем незнакомые для word2vec слова. Там результат был - 0.7667. \n",
        "В этой задаче 4-х слойная сеть работает чуть лучше, чем 2-х слойная."
      ]
    },
    {
      "cell_type": "markdown",
      "metadata": {
        "id": "4FW_WkZyPNay"
      },
      "source": [
        "# С весами на дальность слова"
      ]
    },
    {
      "cell_type": "code",
      "metadata": {
        "id": "o8N9TOLyd4n2"
      },
      "source": [
        "from torch.utils.data import Dataset, random_split\n",
        "\n",
        "class TwitterDataset_Context_Weigts(Dataset):\n",
        "    def __init__(self, data: pd.DataFrame, feature_column: str,\n",
        "                 target_column: str, word2vec: gensim.models.Word2Vec, window: int):\n",
        "        self.tokenizer = nltk.WordPunctTokenizer()\n",
        "        \n",
        "        self.data = data\n",
        "\n",
        "        self.feature_column = feature_column\n",
        "        self.target_column = target_column\n",
        "\n",
        "        self.word2vec = word2vec\n",
        "        self.window =  window\n",
        "\n",
        "        self.label2num = lambda label: 0 if label == 0 else 1\n",
        "        self.mean = np.mean(word2vec.vectors, axis=0)\n",
        "        self.std = np.std(word2vec.vectors, axis=0)\n",
        "\n",
        "    def __getitem__(self, item):\n",
        "        text = self.data[self.feature_column][item]\n",
        "        label = self.label2num(self.data[self.target_column][item])\n",
        "\n",
        "        tokens = self.get_tokens_(text)\n",
        "        embeddings = self.get_embeddings_(tokens)\n",
        "\n",
        "        return {\"feature\": embeddings, \"target\": label}\n",
        "\n",
        "    def get_tokens_(self, text):\n",
        "        # Получи все токены из текста и профильтруй их\n",
        "        line = self.tokenizer.tokenize(text.lower())\n",
        "        tokens = [w for w in line if all(c not in string.punctuation for c in w)]\n",
        "        tokens = [w for w in tokens if len(w) > 2] \n",
        "        return tokens\n",
        "\n",
        "    def get_embeddings_(self, tokens):\n",
        "\n",
        "        embeddings = np.zeros((len(tokens), self.word2vec.vector_size))    \n",
        "\n",
        "        for i in range(len(tokens)):\n",
        "\n",
        "          if tokens[i] in self.word2vec:\n",
        "              embeddings[i] = (self.word2vec.get_vector(tokens[i]) - self.mean) \\\n",
        "                              / self.std # Получи эмбеддинги слов и усредни их\n",
        "\n",
        "          else:\n",
        "            # определяем левую границу контекста\n",
        "            left = max(i - self.window, 0)\n",
        "            if i == 0:\n",
        "              left = 1\n",
        "\n",
        "            # определяем правую границу контекста\n",
        "            right = min(i + self.window + 1, len(tokens))\n",
        "            \n",
        "            num = 0\n",
        "            for e in range(left, right):\n",
        "\n",
        "                if tokens[e] in self.word2vec: \n",
        "                   num += 1\n",
        "\n",
        "                   if abs(i-e) == 1:\n",
        "                    embeddings[i] += ((self.word2vec.get_vector(tokens[e]) - \\\n",
        "                                     self.mean) / self.std) * 1.5\n",
        "                   elif abs(i-e) == 2:\n",
        "                    embeddings[i] += ((self.word2vec.get_vector(tokens[e]) - \\\n",
        "                                     self.mean) / self.std) \n",
        "                   else: \n",
        "                    embeddings[i] +=((self.word2vec.get_vector(tokens[e]) - \\\n",
        "                                     self.mean) / self.std) * 0.5\n",
        "\n",
        "                  #  if abs(i-e) == 1:\n",
        "                  #   embeddings[i] += ((self.word2vec.get_vector(tokens[e]) - \\\n",
        "                  #                      self.mean) / self.std) * 0.3\n",
        "                  #  elif abs(i-e) == 2:\n",
        "                  #   embeddings[i] += ((self.word2vec.get_vector(tokens[e]) - \\\n",
        "                  #                      self.mean) / self.std) * 0.2\n",
        "                  #  else: \n",
        "                  #   embeddings[i] +=((self.word2vec.get_vector(tokens[e]) - \\\n",
        "                  #                     self.mean) / self.std) * 0.1\n",
        "\n",
        "  # Я взяла коэффициенты, которые в сумме дают 6 (при наличии всех слов в контексте): (1.5+1+0.5)*2 = 6 (коэф.с двух сторон),\n",
        "  # чтобы при делении потом на num получить вектор, имеющий смысл в этом пространстве\n",
        "  # Но скорее всего в контексте не будет всех 6 слов, тогда такой выбор имеет мало смысла...\n",
        "  # Или алгоритм подбора коэффициентов иной, например, в чате говорили про коэф., которые в сумме дают 1: (0.3 + 0.2 + 0.1)*2 = 1 ?\n",
        "            \n",
        "                if num != 0:       \n",
        "                  embeddings[i] = embeddings[i] / num # усредняем вектор неизвестного слова по числу известных слов из контекста      \n",
        "\n",
        "        if len(embeddings) == 0:\n",
        "            embeddings = np.zeros((1, self.word2vec.vector_size))\n",
        "        else:\n",
        "          embeddings = np.array(embeddings)\n",
        "          if len(embeddings.shape) == 1:\n",
        "              embeddings = embeddings.reshape(-1, 1)\n",
        "\n",
        "        return embeddings\n",
        "\n",
        "    def __len__(self):\n",
        "        return self.data.shape[0]"
      ],
      "execution_count": null,
      "outputs": []
    },
    {
      "cell_type": "code",
      "metadata": {
        "id": "QJHKhV_TPRKQ"
      },
      "source": [
        "dev_Context = TwitterDataset_Context_Weigts(dev_data, \"text\", \"emotion\", word2vec, 3)"
      ],
      "execution_count": null,
      "outputs": []
    },
    {
      "cell_type": "code",
      "metadata": {
        "id": "UnFzM-tuPRNK"
      },
      "source": [
        "from torch.utils.data import DataLoader\n",
        "\n",
        "batch_size = 1024\n",
        "num_workers = 2\n",
        "\n",
        "def average_emb(batch):\n",
        "    features = [np.mean(b[\"feature\"], axis=0) for b in batch]\n",
        "    targets = [b[\"target\"] for b in batch]\n",
        "    \n",
        "    return {\"features\": torch.FloatTensor(features), \"targets\": torch.FloatTensor(targets)}\n",
        "\n",
        "train_size = math.ceil(len(dev_Context) * 0.8)\n",
        "\n",
        "train, valid = random_split(dev_Context, [train_size, len(dev_Context) - train_size])\n",
        "\n",
        "train_loader = DataLoader(train, batch_size=batch_size, num_workers=num_workers,\n",
        "                          shuffle=True, drop_last=True, collate_fn=average_emb)\n",
        "valid_loader = DataLoader(valid, batch_size=batch_size, num_workers=num_workers,\n",
        "                          shuffle=False, drop_last=False, collate_fn=average_emb)"
      ],
      "execution_count": null,
      "outputs": []
    },
    {
      "cell_type": "code",
      "metadata": {
        "id": "EkDTK96mPRQT"
      },
      "source": [
        "import torch.nn as nn\n",
        "from torch.optim import Adam\n",
        "\n",
        "vector_size = dev_Context.word2vec.vector_size\n",
        "lr = 1e-2\n",
        "num_epochs = 1\n",
        "\n",
        "model = nn.Sequential( # Твоя модель\n",
        "  nn.Linear(vector_size, 128),\n",
        "  nn.ReLU(),\n",
        "  nn.Linear(128, 64),\n",
        "  nn.ReLU(),\n",
        "  nn.Linear(64, 32),\n",
        "  nn.ReLU(),\n",
        "  nn.Linear(32, 1)\n",
        ")\n",
        "\n",
        "# model = nn.Sequential(\n",
        "#   nn.Linear(vector_size, 128),\n",
        "#   nn.ReLU(),\n",
        "#   nn.Linear(128, 1))\n",
        "\n",
        "model = model.to(device)\n",
        "criterion = nn.BCEWithLogitsLoss()\n",
        "optimizer = Adam(model.parameters(), lr=lr)# Твой оптимайзер"
      ],
      "execution_count": null,
      "outputs": []
    },
    {
      "cell_type": "code",
      "metadata": {
        "colab": {
          "base_uri": "https://localhost:8080/",
          "height": 131,
          "referenced_widgets": [
            "d5ac953a24854462a770d259d7d08106",
            "d069231077ba43bea2dbbcdffaf14729",
            "5397b810fc17490fb79ec600b685e894",
            "24a62f15028545b99fd2b658f5d1e8cb",
            "64e0a9ea5d5d42cf9be61ecf80f4fef9",
            "2ce76a0149e34d4d94ff42095b06a0c4",
            "ce1f4c46cd944f08a7613694298373dc",
            "6a05e0a8376b48e584960dd6beac1fde",
            "5be7e27b6e7f4b298721bec01ccb4c8c",
            "e5fbf606759b46b3ab23a02952d77716",
            "18f7841a10e043d0867cf8d00fd293dd",
            "63a526a4d270434c804a51fe846fd968",
            "cc76e86c14fb4a8681746380aea015d8",
            "78303d95ccdb4055ba36de1272039564",
            "29bdbdc69ad64aef856ed5ac430693cc",
            "bcbcf8ab27dd4f2dbe5830b66d6aee8c"
          ]
        },
        "id": "J-oioqkAPRSj",
        "outputId": "4ba7b1a2-9587-4200-a78e-9d1b395418cb"
      },
      "source": [
        "best_metric = np.inf\n",
        "for e in range(num_epochs):\n",
        "    training(model, optimizer, criterion, train_loader, e, device)\n",
        "    log = testing(model, criterion, valid_loader, device)\n",
        "    print(log)\n",
        "    if log[\"Test Loss\"] < best_metric:\n",
        "        torch.save(model.state_dict(), \"model.pt\")\n",
        "        best_metric = log[\"Test Loss\"]\n",
        "\n",
        "# НС в 4 слоя\n",
        "\n",
        "# {'Test Loss': 0.48236547696590426, 'Test Acc': 0.76722265625} nltk.WordPunctTokenizer() + токены от 3 букв, коэф. 1.5, 1, 0.5\n",
        "# {'Test Loss': 0.48037377166748046, 'Test Acc': 0.7666015625}  nltk.WordPunctTokenizer() + токены от 3 букв, коэф. 0.3, 0.2, 0.1\n",
        "\n",
        "# НС в 2 слоя\n",
        "\n",
        "# {'Test Loss': 0.48998295903205874, 'Test Acc': 0.7587109375} nltk.WordPunctTokenizer() + токены от 3 букв, коэф. 0.3, 0.2, 0.1"
      ],
      "execution_count": null,
      "outputs": [
        {
          "data": {
            "application/vnd.jupyter.widget-view+json": {
              "model_id": "d5ac953a24854462a770d259d7d08106",
              "version_major": 2,
              "version_minor": 0
            },
            "text/plain": [
              "HBox(children=(FloatProgress(value=0.0, description='Epoch 1. Train Loss: 0', max=1000.0, style=ProgressStyle(…"
            ]
          },
          "metadata": {
            "tags": []
          },
          "output_type": "display_data"
        },
        {
          "name": "stdout",
          "output_type": "stream",
          "text": [
            "\n"
          ]
        },
        {
          "data": {
            "application/vnd.jupyter.widget-view+json": {
              "model_id": "5be7e27b6e7f4b298721bec01ccb4c8c",
              "version_major": 2,
              "version_minor": 0
            },
            "text/plain": [
              "HBox(children=(FloatProgress(value=0.0, description='Test Loss: 0, Test Acc: 0', max=250.0, style=ProgressStyl…"
            ]
          },
          "metadata": {
            "tags": []
          },
          "output_type": "display_data"
        },
        {
          "name": "stdout",
          "output_type": "stream",
          "text": [
            "\n",
            "{'Test Loss': 0.48236547696590426, 'Test Acc': 0.76722265625}\n"
          ]
        }
      ]
    },
    {
      "cell_type": "code",
      "metadata": {
        "colab": {
          "base_uri": "https://localhost:8080/",
          "height": 82,
          "referenced_widgets": [
            "5b12636e79ae43b389a8c53e012a5ed8",
            "a86fc4e41daa46ae95b221e982eb8171",
            "1b2fd0127f6042de8e2f0341761fb109",
            "79a6f14354bf436f8e3952f482479b3f",
            "f2298551e93447fab80f71a19631405a",
            "ba6adba58a4d42e38966325d743db8d2",
            "62d58ed047724692ba043a01568a0806",
            "e91c7844f9884c40aa5ca7f7be1293d6"
          ]
        },
        "id": "Fylm21yiPRVt",
        "outputId": "7f9bc10b-c6be-4cbc-d86b-bd182f1f334e"
      },
      "source": [
        "test_loader = DataLoader(\n",
        "    TwitterDataset_Context_Weigts(test_data, \"text\", \"emotion\", word2vec, 3), \n",
        "    batch_size=batch_size, \n",
        "    num_workers=num_workers, \n",
        "    shuffle=False,\n",
        "    drop_last=False, \n",
        "    collate_fn=average_emb)\n",
        "\n",
        "model.load_state_dict(torch.load(\"model.pt\", map_location=device))\n",
        "\n",
        "print(testing(model, criterion, test_loader, device=device))\n",
        "\n",
        "# НС в 4 слоя\n",
        "\n",
        "# {'Test Loss': 0.48219194294164736, 'Test Acc': 0.7666046825079872} nltk.WordPunctTokenizer() + токены от 3 букв, коэф. 1.5, 1, 0.5\n",
        "# {'Test Loss': 0.4797307040554266, 'Test Acc': 0.7686514077476039} nltk.WordPunctTokenizer() + токены от 3 букв, коэф. 0.3, 0.2, 0.1\n",
        "\n",
        "# НС в 2 слоя\n",
        "\n",
        "# {'Test Loss': 0.4898856387922939, 'Test Acc': 0.7600713857827476}"
      ],
      "execution_count": null,
      "outputs": [
        {
          "data": {
            "application/vnd.jupyter.widget-view+json": {
              "model_id": "5b12636e79ae43b389a8c53e012a5ed8",
              "version_major": 2,
              "version_minor": 0
            },
            "text/plain": [
              "HBox(children=(FloatProgress(value=0.0, description='Test Loss: 0, Test Acc: 0', max=313.0, style=ProgressStyl…"
            ]
          },
          "metadata": {
            "tags": []
          },
          "output_type": "display_data"
        },
        {
          "name": "stdout",
          "output_type": "stream",
          "text": [
            "\n",
            "{'Test Loss': 0.48219194294164736, 'Test Acc': 0.7666046825079872}\n"
          ]
        }
      ]
    },
    {
      "cell_type": "markdown",
      "metadata": {
        "id": "-3stL3wVKc0r"
      },
      "source": [
        "Добавление весов на дальность слова в контексте с коэффициентами  0.3, 0.2, 0.1 снова почти не изменило качество по сравнению с тем, когда мы не учитываем незнакомые для word2vec слова (0.7686 стало и 0.7667 было)\n",
        "Тут также 4-х слойная сеть работает чуть лучше, чем 2-х слойная."
      ]
    },
    {
      "cell_type": "markdown",
      "metadata": {
        "id": "DlQMTmssJlGw"
      },
      "source": [
        "2. Для каждого слова текста получим его эмбеддинг из Tfidf с помощью TfidfVectorizer из sklearn. Итоговым эмбеддингом для каждого слова будет сумма двух эмбеддингов: предобученного и Tfidf-ного. Для слов, которых нет в словаре предобученных эмбеддингов, результирующий эмбеддинг будет просто полученный из Tfidf. (4 балла)"
      ]
    },
    {
      "cell_type": "code",
      "metadata": {
        "id": "WBmzWY1AK_vj"
      },
      "source": [
        "# Идеи из чата DLS:\n",
        "\n",
        "# Я бы завел отдельный токен <UNK> и заменил все неизвестные слова не него. \n",
        "# Для него посчитал бы TFiDF и сказал бы, что это эмбединг нашего слова. \n",
        "\n",
        "# ну да. Подкину вам идею. Можно попробовать обучить маленький word2vec только для одного токена <UNK>. \n",
        "# То есть смотрите с кем встречается этот токен и еще сэмплируете с кем он не встречается (negative sampling). \n",
        "# Вектора остальных слов не трогаете. Просто градиенты считаете только для одного вектора — эмбединга <UNK>. \n",
        "# Сходу вроде норм идея, но может не сработать. В общем если хотите похимичить, то после выполнения основного задания можно попробовать.\n",
        "\n",
        "# Но можно еще перевзвешивать вес эмбединга данного слова с помощью tf idf\n",
        "# Ну то есть по умолчанию мы берем среднее\n",
        "# А так можно брать взвешенную сумму, где вес слова это его tf idf\n",
        "# Можно просто сделать tf idf всего корпуса, а затем понизить его размерность до 300 через всякие PCA\n",
        "\n",
        "# Я попробовал такой вариант. Использовал IDF слова из tfidf в качестве веса для вектора из word2vec. \n",
        "# Результат score получился абсолютно идентичен чистому word2vec.\n",
        "\n",
        "# Перевзвешивать можно, и это имеет смысл, выделяем значимые слова, а вес случайно добавленных в среднее слов -типа артикли- уменьшаем.\n",
        "#  Можно просто этот вес в хвост вектора word2vec добавить. Жаль проблему слов, которых нет в word2vec это не решает.\n",
        "\n",
        "# Ну и к лучшему, ведь word2vec хоть какое-то геометрическое обоснование имеет. \n",
        "# А если к word2vec векторам потом какие-то совершенно другие добавлять? \n",
        "# Ну испортим значения в каждой размерности. Что ещё может быть? С чего бы это улучшило результат классификации?\n",
        "\n",
        "# Конкатенация - Это разумнее. То есть у некоторых слов одна часть вектора нулевая была (слова нет в word2vec), а хвост какой-то другой? И это помогает.\n",
        "# да, именно так, для тех, что нет в эмбеддинге - будет ненулевая добавка"
      ],
      "execution_count": null,
      "outputs": []
    },
    {
      "cell_type": "markdown",
      "metadata": {
        "id": "N_8-By-jeJ1C"
      },
      "source": [
        "Я выбрала идею с конкатенацией вектора tfidf в конец вектора w2v "
      ]
    },
    {
      "cell_type": "markdown",
      "metadata": {
        "id": "rk2J90FuefM6"
      },
      "source": [
        "Сначала сделаем датасет, в котором не эмбединги слов, а строки из токенов - для обучения tfidf\n",
        "\n"
      ]
    },
    {
      "cell_type": "code",
      "metadata": {
        "id": "CBauA13OI8KE"
      },
      "source": [
        "from torch.utils.data import Dataset, random_split\n",
        "\n",
        "\n",
        "class TwitterDataset_TFIDF(Dataset):\n",
        "    def __init__(self, data: pd.DataFrame, feature_column: str, target_column: str):\n",
        "        self.tokenizer = nltk.WordPunctTokenizer()\n",
        "        \n",
        "        self.data = data\n",
        "\n",
        "        self.feature_column = feature_column\n",
        "        self.target_column = target_column\n",
        "\n",
        "        self.label2num = lambda label: 0 if label == 0 else 1\n",
        "\n",
        "    def __getitem__(self, item):\n",
        "        text = self.data[self.feature_column][item]\n",
        "        label = self.label2num(self.data[self.target_column][item])\n",
        "\n",
        "        tokens = self.get_tokens_(text)\n",
        "\n",
        "        return {\"feature\": tokens, \"target\": label}\n",
        "\n",
        "    def get_tokens_(self, text):\n",
        "        # Получи все токены из текста и профильтруй их\n",
        "\n",
        "        line = self.tokenizer.tokenize(text.lower())\n",
        "        tokens = [w for w in line if all(c not in string.punctuation for c in w)]\n",
        "        tokens = [w for w in tokens if len(w) > 2] \n",
        "        tokens = ' '.join(tokens)\n",
        "        return tokens\n",
        "\n",
        "    def __len__(self):\n",
        "        return self.data.shape[0]"
      ],
      "execution_count": 12,
      "outputs": []
    },
    {
      "cell_type": "code",
      "metadata": {
        "id": "mRdDCflzNu9j"
      },
      "source": [
        "dev_TFIDF = TwitterDataset_TFIDF(dev_data, \"text\", \"emotion\")"
      ],
      "execution_count": 13,
      "outputs": []
    },
    {
      "cell_type": "code",
      "metadata": {
        "colab": {
          "base_uri": "https://localhost:8080/",
          "height": 35
        },
        "id": "K2BiGjfMEm8m",
        "outputId": "3c9f0df5-f29c-46c6-d46e-bcf3e60aba99"
      },
      "source": [
        "dev_TFIDF[0][\"feature\"]"
      ],
      "execution_count": null,
      "outputs": [
        {
          "data": {
            "application/vnd.google.colaboratory.intrinsic+json": {
              "type": "string"
            },
            "text/plain": [
              "'chrishasboobs ahhh hope your'"
            ]
          },
          "execution_count": 49,
          "metadata": {
            "tags": []
          },
          "output_type": "execute_result"
        }
      ]
    },
    {
      "cell_type": "code",
      "metadata": {
        "id": "LoXg89NbbZ4v"
      },
      "source": [
        "# выделим train часть для обучения tfidf\n",
        "# и зафиксируем генератор, чтобы позже также поделить данные для обучения НС\n",
        "\n",
        "train_size = math.ceil(len(dev_TFIDF) * 0.8)\n",
        "train_TFIDF, _ = random_split(dev_TFIDF, \n",
        "                        [train_size, len(dev_TFIDF) - train_size], \n",
        "                        generator=torch.Generator().manual_seed(42))"
      ],
      "execution_count": 14,
      "outputs": []
    },
    {
      "cell_type": "code",
      "metadata": {
        "id": "Oc7IoqjrJmLA"
      },
      "source": [
        "from sklearn.feature_extraction.text import TfidfVectorizer"
      ],
      "execution_count": 15,
      "outputs": []
    },
    {
      "cell_type": "code",
      "metadata": {
        "id": "Yp1zaru6wA86"
      },
      "source": [
        "# from sklearn.decomposition import TruncatedSVD - НЕ ХВАТАЕТ ПАМЯТИ, ЧТОБЫ РАЗЛОЖИТЬ ВСЕ ДАННЫЕ"
      ],
      "execution_count": null,
      "outputs": []
    },
    {
      "cell_type": "code",
      "metadata": {
        "colab": {
          "base_uri": "https://localhost:8080/"
        },
        "id": "0qViZ94EBxiT",
        "outputId": "6c6249ed-87fd-4ad2-d4a6-29256ee95031"
      },
      "source": [
        "# создаем словарь с токенами, \n",
        "# т.к. из dev_TFIDF токены доставать можно только через индекс dev_TFIDF[0][\"feature\"]\n",
        "# можно сделать это проще?\n",
        "\n",
        "indexes = np.arange(len(train_TFIDF))\n",
        "\n",
        "examples = {\"features\": [(train_TFIDF[i][\"feature\"]) for i in indexes]}  \n",
        "print(len(examples[\"features\"]))"
      ],
      "execution_count": 16,
      "outputs": [
        {
          "output_type": "stream",
          "name": "stdout",
          "text": [
            "1024000\n"
          ]
        }
      ]
    },
    {
      "cell_type": "code",
      "metadata": {
        "id": "qVXwHo0RBxvG"
      },
      "source": [
        "# vectorizer = TfidfVectorizer() # max_df=0.7-0.9 не меняет количество слов \n",
        "vectorizer = TfidfVectorizer(min_df=3)\n",
        "vectorizer.fit(examples[\"features\"]) \n",
        "vectors = vectorizer.transform(examples[\"features\"]) "
      ],
      "execution_count": 17,
      "outputs": []
    },
    {
      "cell_type": "code",
      "metadata": {
        "colab": {
          "base_uri": "https://localhost:8080/"
        },
        "id": "j9qAqDfcDKsh",
        "outputId": "95ed80c2-0197-4ea4-b58e-a0a7d157b468"
      },
      "source": [
        "# транспонируем из (твиты на слова) в (слова на твиты) \n",
        "# для удобства дальнейшего svd разложения\n",
        "\n",
        "vectors_T = vectors.T \n",
        "vectors_T.shape\n",
        "\n",
        "# (479782, 1024000) TfidfVectorizer()\n",
        "# (92941, 1024000) TfidfVectorizer(min_df=3)\n",
        "# (54800, 1024000) TfidfVectorizer(min_df=5)"
      ],
      "execution_count": 18,
      "outputs": [
        {
          "output_type": "execute_result",
          "data": {
            "text/plain": [
              "(92941, 1024000)"
            ]
          },
          "metadata": {},
          "execution_count": 18
        }
      ]
    },
    {
      "cell_type": "code",
      "metadata": {
        "id": "6Fod1eaZXPSp"
      },
      "source": [
        "from scipy.sparse.linalg import svds"
      ],
      "execution_count": 19,
      "outputs": []
    },
    {
      "cell_type": "code",
      "metadata": {
        "colab": {
          "base_uri": "https://localhost:8080/"
        },
        "id": "yd3xiunBXaZT",
        "outputId": "9d584fb6-82b6-4952-ef42-3acbec7db8fd"
      },
      "source": [
        "U_100, *_ = svds(vectors_T, k = 100)\n",
        "vectors_T.shape, U_100.shape # размерность - число слов на 100"
      ],
      "execution_count": 20,
      "outputs": [
        {
          "output_type": "execute_result",
          "data": {
            "text/plain": [
              "((92941, 1024000), (92941, 100))"
            ]
          },
          "metadata": {},
          "execution_count": 20
        }
      ]
    },
    {
      "cell_type": "code",
      "metadata": {
        "id": "4DPaFiuDlrsA"
      },
      "source": [
        "# Нормализуем U_100\n",
        "\n",
        "mean_tfidf = np.mean(U_100, 0)\n",
        "std_tfidf = np.std(U_100, 0)\n",
        "U_100_norm = (U_100 - mean_tfidf) / std_tfidf"
      ],
      "execution_count": 21,
      "outputs": []
    },
    {
      "cell_type": "code",
      "metadata": {
        "colab": {
          "base_uri": "https://localhost:8080/"
        },
        "id": "OVwR22t9j73q",
        "outputId": "dfe6bbab-133a-44e8-8c79-fd10342b6b00"
      },
      "source": [
        "# from google.colab import drive\n",
        "# drive.mount('/gdrive')\n",
        "# %cd /gdrive"
      ],
      "execution_count": null,
      "outputs": [
        {
          "name": "stdout",
          "output_type": "stream",
          "text": [
            "Mounted at /gdrive\n",
            "/gdrive\n"
          ]
        }
      ]
    },
    {
      "cell_type": "code",
      "metadata": {
        "id": "JNhEPXkTXac-"
      },
      "source": [
        "# from numpy import savetxt\n",
        "\n",
        "# savetxt('/gdrive/MyDrive/U_100_norm.csv', U_100_norm, delimiter=';')"
      ],
      "execution_count": null,
      "outputs": []
    },
    {
      "cell_type": "code",
      "metadata": {
        "id": "E8Qy3wX-kzrs"
      },
      "source": [
        "# from numpy import genfromtxt\n",
        "\n",
        "# U_100_norm = genfromtxt('/gdrive/MyDrive/U_100_norm.csv', delimiter=';')"
      ],
      "execution_count": null,
      "outputs": []
    },
    {
      "cell_type": "code",
      "metadata": {
        "id": "De2US6fNDCyU"
      },
      "source": [
        "# Создадим словарь {токен: его нормализованный вектор tfidf размерности 100}\n",
        "\n",
        "tfidf_dict = dict(zip(vectorizer.get_feature_names(), U_100_norm))"
      ],
      "execution_count": 22,
      "outputs": []
    },
    {
      "cell_type": "code",
      "metadata": {
        "id": "iicV5GqcDC4o"
      },
      "source": [
        "# tfidf_dict['aarondior']"
      ],
      "execution_count": null,
      "outputs": []
    },
    {
      "cell_type": "code",
      "metadata": {
        "id": "-jtZ8CgNJm1I"
      },
      "source": [
        "from torch.utils.data import Dataset, random_split\n",
        "\n",
        "class TwitterDataset_TFIDF_plus_W2V(Dataset):\n",
        "    def __init__(self, data: pd.DataFrame, feature_column: str, \n",
        "                 target_column: str, word2vec: gensim.models.Word2Vec, tfidf_dict):\n",
        "        self.tokenizer = nltk.WordPunctTokenizer()\n",
        "\n",
        "        self.data = data\n",
        "\n",
        "        self.feature_column = feature_column\n",
        "        self.target_column = target_column\n",
        "\n",
        "        self.word2vec = word2vec\n",
        "        self.tfidf_dict = tfidf_dict\n",
        "\n",
        "        self.label2num = lambda label: 0 if label == 0 else 1\n",
        "        self.mean = np.mean(word2vec.vectors, axis=0)\n",
        "        self.std = np.std(word2vec.vectors, axis=0)\n",
        "\n",
        "    def __getitem__(self, item):\n",
        "        text = self.data[self.feature_column][item]\n",
        "        label = self.label2num(self.data[self.target_column][item])\n",
        "\n",
        "        tokens = self.get_tokens_(text)\n",
        "        embeddings = self.get_embeddings_(tokens)\n",
        "\n",
        "        return {\"feature\": embeddings, \"target\": label}\n",
        "\n",
        "    def get_tokens_(self, text):\n",
        "        # Получи все токены из текста и профильтруй их\n",
        "        line = self.tokenizer.tokenize(text.lower())\n",
        "        tokens = [w for w in line if all(c not in string.punctuation for c in w)]\n",
        "        tokens = [w for w in tokens if len(w) > 2] \n",
        "        return tokens\n",
        "\n",
        "    def get_embeddings_(self, tokens):\n",
        "        \n",
        "        # пустой шаблон - число токенов в твите на 400\n",
        "        embeddings = np.zeros((len(tokens), self.word2vec.vector_size + 100))    \n",
        "\n",
        "        for i in range(len(tokens)):\n",
        "\n",
        "          if tokens[i] in self.word2vec:\n",
        "              embeddings_w2v = (self.word2vec.get_vector(tokens[i]) - self.mean) / self.std \n",
        "          else:    \n",
        "              embeddings_w2v = np.zeros(self.word2vec.vector_size)\n",
        "\n",
        "          if tokens[i] in self.tfidf_dict.keys():\n",
        "              # Вектор матрицы TFIDF, соответствующий токену \n",
        "              embeddings_tfidf = self.tfidf_dict[tokens[i]]\n",
        "          else:\n",
        "              embeddings_tfidf = np.zeros(100)\n",
        "\n",
        "          embeddings[i] += np.concatenate((embeddings_w2v, embeddings_tfidf), axis=None)\n",
        "\n",
        "        if len(embeddings) == 0:\n",
        "            embeddings = np.zeros((1, self.word2vec.vector_size + 100))\n",
        "        else:\n",
        "            embeddings = np.array(embeddings)\n",
        "            if len(embeddings.shape) == 1:\n",
        "                embeddings = embeddings.reshape(-1, 1)\n",
        "\n",
        "        return embeddings\n",
        "\n",
        "    def __len__(self):\n",
        "        return self.data.shape[0]"
      ],
      "execution_count": 23,
      "outputs": []
    },
    {
      "cell_type": "code",
      "metadata": {
        "id": "nUgkiLMeJm34"
      },
      "source": [
        "dev_TFIDF_plus_W2V = TwitterDataset_TFIDF_plus_W2V(dev_data, \"text\", \"emotion\", word2vec, tfidf_dict) "
      ],
      "execution_count": 24,
      "outputs": []
    },
    {
      "cell_type": "code",
      "metadata": {
        "id": "ZYLEc_5Ff6GO"
      },
      "source": [
        "# dev[0][\"feature\"]"
      ],
      "execution_count": null,
      "outputs": []
    },
    {
      "cell_type": "code",
      "metadata": {
        "id": "34tjtLrAbrw2"
      },
      "source": [
        "from torch.utils.data import DataLoader\n",
        "\n",
        "batch_size = 1024\n",
        "num_workers = 2\n",
        "\n",
        "def average_emb(batch):\n",
        "    features = [np.mean(b[\"feature\"], axis=0) for b in batch]\n",
        "    targets = [b[\"target\"] for b in batch]\n",
        "\n",
        "    return {\"features\": torch.FloatTensor(features), \"targets\": torch.FloatTensor(targets)}\n",
        "\n",
        "# train_size = math.ceil(len(dev_TFIDF_plus_W2V) * 0.8) определили выше\n",
        "\n",
        "train, valid = random_split(dev_TFIDF_plus_W2V, \n",
        "                            [train_size, len(dev_TFIDF_plus_W2V) - train_size], \n",
        "                            generator=torch.Generator().manual_seed(42))\n",
        "\n",
        "train_loader = DataLoader(train, batch_size=batch_size, num_workers=num_workers,\n",
        "                          shuffle=True, drop_last=True, collate_fn=average_emb)\n",
        "valid_loader = DataLoader(valid, batch_size=batch_size, num_workers=num_workers,\n",
        "                          shuffle=False, drop_last=False, collate_fn=average_emb)"
      ],
      "execution_count": 25,
      "outputs": []
    },
    {
      "cell_type": "code",
      "metadata": {
        "id": "HQzKNr8Cbr2K"
      },
      "source": [
        "import torch.nn as nn\n",
        "from torch.optim import Adam\n",
        "\n",
        "vector_size = dev_TFIDF_plus_W2V.word2vec.vector_size + 100\n",
        "lr = 1e-2\n",
        "num_epochs = 1\n",
        "\n",
        "# model = nn.Sequential( # Твоя модель\n",
        "#   nn.Linear(vector_size, 256),\n",
        "#   nn.ReLU(),\n",
        "#   nn.Linear(256, 128),\n",
        "#   nn.ReLU(),\n",
        "#   nn.Linear(128, 64),\n",
        "#   nn.ReLU(),\n",
        "#   nn.Linear(64, 1)\n",
        "# )\n",
        "\n",
        "model = nn.Sequential(\n",
        "  nn.Linear(vector_size, 128),\n",
        "  nn.ReLU(),\n",
        "  nn.Linear(128, 1))\n",
        "\n",
        "model = model.to(device)\n",
        "criterion = nn.BCEWithLogitsLoss()\n",
        "optimizer = Adam(model.parameters(), lr=lr)# Твой оптимайзер"
      ],
      "execution_count": 34,
      "outputs": []
    },
    {
      "cell_type": "code",
      "metadata": {
        "id": "ne7lLwKjbr9Q"
      },
      "source": [
        "from tqdm.notebook import tqdm\n",
        "\n",
        "def training(model, optimizer, criterion, train_loader, epoch, device=\"cpu\"):\n",
        "    pbar = tqdm(train_loader, desc=f\"Epoch {e + 1}. Train Loss: {0}\") # e - это из \"for e in range(num_epochs):\", см. код дальше\n",
        "    model.train()\n",
        "    for batch in pbar:\n",
        "        features = batch[\"features\"].to(device)\n",
        "        targets = batch[\"targets\"].to(device)\n",
        "        targets = targets.reshape(-1, 1)\n",
        "\n",
        "        # set parameter gradients to zero\n",
        "        optimizer.zero_grad()\n",
        "\n",
        "        # Получи предсказания модели\n",
        "        Y_pred = model(features)\n",
        "        loss = criterion(Y_pred, targets) # Посчитай лосс\n",
        "        loss.backward()\n",
        "        optimizer.step()  # Обнови параметры модели\n",
        "\n",
        "        pbar.set_description(f\"Epoch {e + 1}. Train Loss: {loss:.4}\")\n",
        "    \n",
        "\n",
        "def testing(model, criterion, test_loader, device=\"cpu\"): \n",
        "    pbar = tqdm(test_loader, desc=f\"Test Loss: {0}, Test Acc: {0}\")\n",
        "    mean_loss = 0\n",
        "    mean_acc = 0\n",
        "    model.eval()\n",
        "    with torch.no_grad():\n",
        "        for batch in pbar:\n",
        "            features = batch[\"features\"].to(device)\n",
        "            targets = batch[\"targets\"].to(device)\n",
        "            targets = targets.reshape(-1, 1)\n",
        "\n",
        "            # Получи предсказания модели\n",
        "            Y_hat = model(features)\n",
        "            loss = criterion(Y_hat, targets) # Посчитай лосс\n",
        "\n",
        "            Y_hat = torch.sigmoid(Y_hat)\n",
        "            Y_hat = (Y_hat>0.5).type(torch.long)\n",
        "            \n",
        "            # Посчитай точность модели\n",
        "            acc = torch.sum(Y_hat == targets) / len(targets)\n",
        "\n",
        "            mean_loss += loss.item()\n",
        "            mean_acc += acc.item()\n",
        "\n",
        "            pbar.set_description(f\"Test Loss: {loss:.4}, Test Acc: {acc:.4}\")\n",
        "\n",
        "    pbar.set_description(f\"Test Loss: {mean_loss / len(test_loader):.4}, Test Acc: {mean_acc / len(test_loader):.4}\")\n",
        "\n",
        "    return {\"Test Loss\": mean_loss / len(test_loader), \"Test Acc\": mean_acc / len(test_loader)}"
      ],
      "execution_count": 35,
      "outputs": []
    },
    {
      "cell_type": "code",
      "metadata": {
        "colab": {
          "base_uri": "https://localhost:8080/",
          "height": 97,
          "referenced_widgets": [
            "9354c2b6f6454ac4af5f0953a22f75d1",
            "4d1aa8c05a13421880a2d589e0b230f8",
            "621ab4ec676b46ea8bff2249470f4f28",
            "f2be1d2006f042f0b4f615baffb41c4c",
            "e13a5175ad064fceb541e2cc2157c5b0",
            "48a945439649483b94ff8a804c1c10f4",
            "87f456a736b744bd9d1ff0cddd9ebd17",
            "78f14ffd0605499aa2f7b8ab20ab1987",
            "e44cd287ea5e471a96fb7385b6936a27",
            "d808de3ee6334b68876d4dc745574506",
            "bc4b08b0faba45e19e059e4390ec0bce",
            "212784aa108a420591a139b7103e1cb1",
            "71e22f0ce4e2430ca653deb38c740801",
            "f2a47e0b1d6643ed9752bebde15ea96e",
            "16f024e749554035bc2677e77c32683e",
            "8243915e292c464083ac7b2ab068071e",
            "5efd951f94fe4b1fb3e36595520a06eb",
            "14bdbb2b3e72455f8ecb07117ef1c9a0",
            "bed902f9572f410daea696e52abe4b72",
            "cec8f514a461409c9ef593ed40ab4602",
            "b5452913522a49239ad02208dd65f714",
            "2103fc4184af4ab5bc0fde09ac41bde6"
          ]
        },
        "id": "a-kex5J6bsBA",
        "outputId": "55b4f928-8306-4afa-dc1a-cdef83455fca"
      },
      "source": [
        "best_metric = np.inf\n",
        "for e in range(num_epochs):\n",
        "    training(model, optimizer, criterion, train_loader, e, device)\n",
        "    log = testing(model, criterion, valid_loader, device)\n",
        "    print(log)\n",
        "    if log[\"Test Loss\"] < best_metric:\n",
        "        torch.save(model.state_dict(), \"model.pt\")\n",
        "        best_metric = log[\"Test Loss\"]\n",
        "\n",
        "# НС 4 слоя\n",
        "\n",
        "# {'Test Loss': 0.47089520156383513, 'Test Acc': 0.7716171875} TfidfVectorizer(min_df=3)\n",
        "\n",
        "# НС 2 слоя\n",
        "\n",
        "# {'Test Loss': 0.480280495762825, 'Test Acc': 0.7677890625} TfidfVectorizer(min_df=3)"
      ],
      "execution_count": 36,
      "outputs": [
        {
          "output_type": "display_data",
          "data": {
            "application/vnd.jupyter.widget-view+json": {
              "model_id": "9354c2b6f6454ac4af5f0953a22f75d1",
              "version_minor": 0,
              "version_major": 2
            },
            "text/plain": [
              "Epoch 1. Train Loss: 0:   0%|          | 0/1000 [00:00<?, ?it/s]"
            ]
          },
          "metadata": {}
        },
        {
          "output_type": "display_data",
          "data": {
            "application/vnd.jupyter.widget-view+json": {
              "model_id": "212784aa108a420591a139b7103e1cb1",
              "version_minor": 0,
              "version_major": 2
            },
            "text/plain": [
              "Test Loss: 0, Test Acc: 0:   0%|          | 0/250 [00:00<?, ?it/s]"
            ]
          },
          "metadata": {}
        },
        {
          "output_type": "stream",
          "name": "stdout",
          "text": [
            "{'Test Loss': 0.480280495762825, 'Test Acc': 0.7677890625}\n"
          ]
        }
      ]
    },
    {
      "cell_type": "code",
      "metadata": {
        "colab": {
          "base_uri": "https://localhost:8080/"
        },
        "id": "71XEdjv3oGX_",
        "outputId": "85fd2e36-57d3-4c1a-df9b-cf06d3e1aaf4"
      },
      "source": [
        "# проверка на тестовом датасете\n",
        "# для этого получим tf-idf матрицу для тестовых данных\n",
        "\n",
        "test_TFIDF = TwitterDataset_TFIDF(test_data, \"text\", \"emotion\")\n",
        "test_indexes = np.arange(len(test_TFIDF))\n",
        "test_examples = {\"features\": [(test_TFIDF[i][\"feature\"]) for i in test_indexes]}  \n",
        "test_vectors = vectorizer.transform(test_examples[\"features\"]) \n",
        "test_vectors_T = test_vectors.T \n",
        "test_vectors_T.shape"
      ],
      "execution_count": 29,
      "outputs": [
        {
          "output_type": "execute_result",
          "data": {
            "text/plain": [
              "(92941, 320000)"
            ]
          },
          "metadata": {},
          "execution_count": 29
        }
      ]
    },
    {
      "cell_type": "code",
      "metadata": {
        "colab": {
          "base_uri": "https://localhost:8080/"
        },
        "id": "khJlGAqZoGsH",
        "outputId": "4a130f6c-e8d0-4b13-b25f-bac6695014ed"
      },
      "source": [
        "test_U_100, *_ = svds(test_vectors_T, k = 100)\n",
        "test_vectors_T.shape, test_U_100.shape # размерность - число слов на 100"
      ],
      "execution_count": 30,
      "outputs": [
        {
          "output_type": "execute_result",
          "data": {
            "text/plain": [
              "((92941, 320000), (92941, 100))"
            ]
          },
          "metadata": {},
          "execution_count": 30
        }
      ]
    },
    {
      "cell_type": "code",
      "metadata": {
        "id": "f9BUlYCQqvPl"
      },
      "source": [
        "# Нормализуем U_100\n",
        "\n",
        "test_mean_tfidf = np.mean(test_U_100, 0)\n",
        "test_std_tfidf = np.std(test_U_100, 0)\n",
        "test_U_100_norm = (test_U_100 - test_mean_tfidf) / test_std_tfidf"
      ],
      "execution_count": 31,
      "outputs": []
    },
    {
      "cell_type": "code",
      "metadata": {
        "id": "yl_49hjdrEEz"
      },
      "source": [
        "# Создадим словарь {токен: его нормализованный вектор tfidf размерности 100}\n",
        "\n",
        "test_tfidf_dict = dict(zip(vectorizer.get_feature_names(), test_U_100_norm))"
      ],
      "execution_count": 32,
      "outputs": []
    },
    {
      "cell_type": "code",
      "metadata": {
        "colab": {
          "base_uri": "https://localhost:8080/",
          "height": 66,
          "referenced_widgets": [
            "e73bc991e15b448a80c808379c63ea86",
            "8c64d2afb5294d009efd126dba2a80e3",
            "e10f94468950453db1f7c1fcaa978217",
            "db674b29930d48888b578c91525fa567",
            "15e21e9e83934c4e8c5e962e83687133",
            "a73033d7c1c8461397e582fbe7cba7ab",
            "c3032dad429347c78e1c0e5001663887",
            "0bbd0ab64e694531a4b717845158a1ee",
            "945808f38cdf4438bb4928fcbc16711c",
            "2a2dbb960d854436bc70a7df0454cbfc",
            "68a38e7492a344cab4894472e3663ef8"
          ]
        },
        "id": "FbNo67jwJnN4",
        "outputId": "baf4a7b6-6cd3-436c-fce2-3bf9646a2cdf"
      },
      "source": [
        "test_loader = DataLoader(\n",
        "    TwitterDataset_TFIDF_plus_W2V(test_data, \"text\", \"emotion\", word2vec, test_tfidf_dict),\n",
        "    batch_size=batch_size, \n",
        "    num_workers=num_workers, \n",
        "    shuffle=False,\n",
        "    drop_last=False, \n",
        "    collate_fn=average_emb)\n",
        "\n",
        "model.load_state_dict(torch.load(\"model.pt\", map_location=device))\n",
        "\n",
        "print(testing(model, criterion, test_loader, device=device))\n",
        "\n",
        "# НС 4 слоя\n",
        "\n",
        "# {'Test Loss': 0.816218121554524, 'Test Acc': 0.587182383186901} TfidfVectorizer(min_df=3) \n",
        "\n",
        "# НС 2 слоя\n",
        "\n",
        "# {'Test Loss': 0.8619360493394894, 'Test Acc': 0.5926767172523961} TfidfVectorizer(min_df=3)"
      ],
      "execution_count": 37,
      "outputs": [
        {
          "output_type": "display_data",
          "data": {
            "application/vnd.jupyter.widget-view+json": {
              "model_id": "e73bc991e15b448a80c808379c63ea86",
              "version_minor": 0,
              "version_major": 2
            },
            "text/plain": [
              "Test Loss: 0, Test Acc: 0:   0%|          | 0/313 [00:00<?, ?it/s]"
            ]
          },
          "metadata": {}
        },
        {
          "output_type": "stream",
          "name": "stdout",
          "text": [
            "{'Test Loss': 0.8619360493394894, 'Test Acc': 0.5926767172523961}\n"
          ]
        }
      ]
    },
    {
      "cell_type": "markdown",
      "metadata": {
        "id": "Ttlpc6RUrc6Z"
      },
      "source": [
        "Использование tf-idf как добавление в конец к вектора w2v ситуацию не улучшило, качество на тесте упало - 0.59"
      ]
    },
    {
      "cell_type": "code",
      "metadata": {
        "id": "ftxaA81XEIU-"
      },
      "source": [
        ""
      ],
      "execution_count": null,
      "outputs": []
    }
  ]
}