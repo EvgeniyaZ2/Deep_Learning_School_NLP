{
  "nbformat": 4,
  "nbformat_minor": 0,
  "metadata": {
    "colab": {
      "name": "[homework]summarization_03_12.ipynb",
      "provenance": [],
      "collapsed_sections": []
    },
    "kernelspec": {
      "display_name": "Python 3",
      "language": "python",
      "name": "python3"
    },
    "language_info": {
      "codemirror_mode": {
        "name": "ipython",
        "version": 3
      },
      "file_extension": ".py",
      "mimetype": "text/x-python",
      "name": "python",
      "nbconvert_exporter": "python",
      "pygments_lexer": "ipython3",
      "version": "3.8.5"
    },
    "widgets": {
      "application/vnd.jupyter.widget-state+json": {
        "f4ced81628314337b702dd0b5ac35590": {
          "model_module": "@jupyter-widgets/controls",
          "model_name": "HBoxModel",
          "model_module_version": "1.5.0",
          "state": {
            "_view_name": "HBoxView",
            "_dom_classes": [],
            "_model_name": "HBoxModel",
            "_view_module": "@jupyter-widgets/controls",
            "_model_module_version": "1.5.0",
            "_view_count": null,
            "_view_module_version": "1.5.0",
            "box_style": "",
            "layout": "IPY_MODEL_b560d45263fa4c44859fd2055f5a3da5",
            "_model_module": "@jupyter-widgets/controls",
            "children": [
              "IPY_MODEL_f2244db81a304f2094cd268dd8ff2aa3",
              "IPY_MODEL_b5900e1ccaf8478080fafe4877e1494f",
              "IPY_MODEL_3d0b65506a0e4bf1ac4fcca2d7b4eb98"
            ]
          }
        },
        "b560d45263fa4c44859fd2055f5a3da5": {
          "model_module": "@jupyter-widgets/base",
          "model_name": "LayoutModel",
          "model_module_version": "1.2.0",
          "state": {
            "_view_name": "LayoutView",
            "grid_template_rows": null,
            "right": null,
            "justify_content": null,
            "_view_module": "@jupyter-widgets/base",
            "overflow": null,
            "_model_module_version": "1.2.0",
            "_view_count": null,
            "flex_flow": null,
            "width": null,
            "min_width": null,
            "border": null,
            "align_items": null,
            "bottom": null,
            "_model_module": "@jupyter-widgets/base",
            "top": null,
            "grid_column": null,
            "overflow_y": null,
            "overflow_x": null,
            "grid_auto_flow": null,
            "grid_area": null,
            "grid_template_columns": null,
            "flex": null,
            "_model_name": "LayoutModel",
            "justify_items": null,
            "grid_row": null,
            "max_height": null,
            "align_content": null,
            "visibility": null,
            "align_self": null,
            "height": null,
            "min_height": null,
            "padding": null,
            "grid_auto_rows": null,
            "grid_gap": null,
            "max_width": null,
            "order": null,
            "_view_module_version": "1.2.0",
            "grid_template_areas": null,
            "object_position": null,
            "object_fit": null,
            "grid_auto_columns": null,
            "margin": null,
            "display": null,
            "left": null
          }
        },
        "f2244db81a304f2094cd268dd8ff2aa3": {
          "model_module": "@jupyter-widgets/controls",
          "model_name": "HTMLModel",
          "model_module_version": "1.5.0",
          "state": {
            "_view_name": "HTMLView",
            "style": "IPY_MODEL_92802a9c2042464486344f833ed831c2",
            "_dom_classes": [],
            "description": "",
            "_model_name": "HTMLModel",
            "placeholder": "​",
            "_view_module": "@jupyter-widgets/controls",
            "_model_module_version": "1.5.0",
            "value": "",
            "_view_count": null,
            "_view_module_version": "1.5.0",
            "description_tooltip": null,
            "_model_module": "@jupyter-widgets/controls",
            "layout": "IPY_MODEL_c1956154aee7463191228f75484e963e"
          }
        },
        "b5900e1ccaf8478080fafe4877e1494f": {
          "model_module": "@jupyter-widgets/controls",
          "model_name": "FloatProgressModel",
          "model_module_version": "1.5.0",
          "state": {
            "_view_name": "ProgressView",
            "style": "IPY_MODEL_b1bc3de173b04860a851d0460b13acca",
            "_dom_classes": [],
            "description": "",
            "_model_name": "FloatProgressModel",
            "bar_style": "danger",
            "max": 1,
            "_view_module": "@jupyter-widgets/controls",
            "_model_module_version": "1.5.0",
            "value": 1,
            "_view_count": null,
            "_view_module_version": "1.5.0",
            "orientation": "horizontal",
            "min": 0,
            "description_tooltip": null,
            "_model_module": "@jupyter-widgets/controls",
            "layout": "IPY_MODEL_2d48270715ec4564889789489ca3e133"
          }
        },
        "3d0b65506a0e4bf1ac4fcca2d7b4eb98": {
          "model_module": "@jupyter-widgets/controls",
          "model_name": "HTMLModel",
          "model_module_version": "1.5.0",
          "state": {
            "_view_name": "HTMLView",
            "style": "IPY_MODEL_9b387bdce9b54c49ad3d2c47f9e113d2",
            "_dom_classes": [],
            "description": "",
            "_model_name": "HTMLModel",
            "placeholder": "​",
            "_view_module": "@jupyter-widgets/controls",
            "_model_module_version": "1.5.0",
            "value": " 2048/? [04:58&lt;00:00, 12.74it/s]",
            "_view_count": null,
            "_view_module_version": "1.5.0",
            "description_tooltip": null,
            "_model_module": "@jupyter-widgets/controls",
            "layout": "IPY_MODEL_19d11abe69e54efdbe57c395ceb60883"
          }
        },
        "92802a9c2042464486344f833ed831c2": {
          "model_module": "@jupyter-widgets/controls",
          "model_name": "DescriptionStyleModel",
          "model_module_version": "1.5.0",
          "state": {
            "_view_name": "StyleView",
            "_model_name": "DescriptionStyleModel",
            "description_width": "",
            "_view_module": "@jupyter-widgets/base",
            "_model_module_version": "1.5.0",
            "_view_count": null,
            "_view_module_version": "1.2.0",
            "_model_module": "@jupyter-widgets/controls"
          }
        },
        "c1956154aee7463191228f75484e963e": {
          "model_module": "@jupyter-widgets/base",
          "model_name": "LayoutModel",
          "model_module_version": "1.2.0",
          "state": {
            "_view_name": "LayoutView",
            "grid_template_rows": null,
            "right": null,
            "justify_content": null,
            "_view_module": "@jupyter-widgets/base",
            "overflow": null,
            "_model_module_version": "1.2.0",
            "_view_count": null,
            "flex_flow": null,
            "width": null,
            "min_width": null,
            "border": null,
            "align_items": null,
            "bottom": null,
            "_model_module": "@jupyter-widgets/base",
            "top": null,
            "grid_column": null,
            "overflow_y": null,
            "overflow_x": null,
            "grid_auto_flow": null,
            "grid_area": null,
            "grid_template_columns": null,
            "flex": null,
            "_model_name": "LayoutModel",
            "justify_items": null,
            "grid_row": null,
            "max_height": null,
            "align_content": null,
            "visibility": null,
            "align_self": null,
            "height": null,
            "min_height": null,
            "padding": null,
            "grid_auto_rows": null,
            "grid_gap": null,
            "max_width": null,
            "order": null,
            "_view_module_version": "1.2.0",
            "grid_template_areas": null,
            "object_position": null,
            "object_fit": null,
            "grid_auto_columns": null,
            "margin": null,
            "display": null,
            "left": null
          }
        },
        "b1bc3de173b04860a851d0460b13acca": {
          "model_module": "@jupyter-widgets/controls",
          "model_name": "ProgressStyleModel",
          "model_module_version": "1.5.0",
          "state": {
            "_view_name": "StyleView",
            "_model_name": "ProgressStyleModel",
            "description_width": "",
            "_view_module": "@jupyter-widgets/base",
            "_model_module_version": "1.5.0",
            "_view_count": null,
            "_view_module_version": "1.2.0",
            "bar_color": null,
            "_model_module": "@jupyter-widgets/controls"
          }
        },
        "2d48270715ec4564889789489ca3e133": {
          "model_module": "@jupyter-widgets/base",
          "model_name": "LayoutModel",
          "model_module_version": "1.2.0",
          "state": {
            "_view_name": "LayoutView",
            "grid_template_rows": null,
            "right": null,
            "justify_content": null,
            "_view_module": "@jupyter-widgets/base",
            "overflow": null,
            "_model_module_version": "1.2.0",
            "_view_count": null,
            "flex_flow": null,
            "width": "20px",
            "min_width": null,
            "border": null,
            "align_items": null,
            "bottom": null,
            "_model_module": "@jupyter-widgets/base",
            "top": null,
            "grid_column": null,
            "overflow_y": null,
            "overflow_x": null,
            "grid_auto_flow": null,
            "grid_area": null,
            "grid_template_columns": null,
            "flex": null,
            "_model_name": "LayoutModel",
            "justify_items": null,
            "grid_row": null,
            "max_height": null,
            "align_content": null,
            "visibility": null,
            "align_self": null,
            "height": null,
            "min_height": null,
            "padding": null,
            "grid_auto_rows": null,
            "grid_gap": null,
            "max_width": null,
            "order": null,
            "_view_module_version": "1.2.0",
            "grid_template_areas": null,
            "object_position": null,
            "object_fit": null,
            "grid_auto_columns": null,
            "margin": null,
            "display": null,
            "left": null
          }
        },
        "9b387bdce9b54c49ad3d2c47f9e113d2": {
          "model_module": "@jupyter-widgets/controls",
          "model_name": "DescriptionStyleModel",
          "model_module_version": "1.5.0",
          "state": {
            "_view_name": "StyleView",
            "_model_name": "DescriptionStyleModel",
            "description_width": "",
            "_view_module": "@jupyter-widgets/base",
            "_model_module_version": "1.5.0",
            "_view_count": null,
            "_view_module_version": "1.2.0",
            "_model_module": "@jupyter-widgets/controls"
          }
        },
        "19d11abe69e54efdbe57c395ceb60883": {
          "model_module": "@jupyter-widgets/base",
          "model_name": "LayoutModel",
          "model_module_version": "1.2.0",
          "state": {
            "_view_name": "LayoutView",
            "grid_template_rows": null,
            "right": null,
            "justify_content": null,
            "_view_module": "@jupyter-widgets/base",
            "overflow": null,
            "_model_module_version": "1.2.0",
            "_view_count": null,
            "flex_flow": null,
            "width": null,
            "min_width": null,
            "border": null,
            "align_items": null,
            "bottom": null,
            "_model_module": "@jupyter-widgets/base",
            "top": null,
            "grid_column": null,
            "overflow_y": null,
            "overflow_x": null,
            "grid_auto_flow": null,
            "grid_area": null,
            "grid_template_columns": null,
            "flex": null,
            "_model_name": "LayoutModel",
            "justify_items": null,
            "grid_row": null,
            "max_height": null,
            "align_content": null,
            "visibility": null,
            "align_self": null,
            "height": null,
            "min_height": null,
            "padding": null,
            "grid_auto_rows": null,
            "grid_gap": null,
            "max_width": null,
            "order": null,
            "_view_module_version": "1.2.0",
            "grid_template_areas": null,
            "object_position": null,
            "object_fit": null,
            "grid_auto_columns": null,
            "margin": null,
            "display": null,
            "left": null
          }
        },
        "505512f3c2064573bcccbf2d5316f2fa": {
          "model_module": "@jupyter-widgets/controls",
          "model_name": "HBoxModel",
          "model_module_version": "1.5.0",
          "state": {
            "_view_name": "HBoxView",
            "_dom_classes": [],
            "_model_name": "HBoxModel",
            "_view_module": "@jupyter-widgets/controls",
            "_model_module_version": "1.5.0",
            "_view_count": null,
            "_view_module_version": "1.5.0",
            "box_style": "",
            "layout": "IPY_MODEL_8420a2a8debf410fa0b3ef640fc40e9a",
            "_model_module": "@jupyter-widgets/controls",
            "children": [
              "IPY_MODEL_dffc10d9373849669ba43ac48ca22cb9",
              "IPY_MODEL_9260bdd7b483401786b049a6aeeb37b0",
              "IPY_MODEL_04682a5d63b243c9af128001a6364045"
            ]
          }
        },
        "8420a2a8debf410fa0b3ef640fc40e9a": {
          "model_module": "@jupyter-widgets/base",
          "model_name": "LayoutModel",
          "model_module_version": "1.2.0",
          "state": {
            "_view_name": "LayoutView",
            "grid_template_rows": null,
            "right": null,
            "justify_content": null,
            "_view_module": "@jupyter-widgets/base",
            "overflow": null,
            "_model_module_version": "1.2.0",
            "_view_count": null,
            "flex_flow": null,
            "width": null,
            "min_width": null,
            "border": null,
            "align_items": null,
            "bottom": null,
            "_model_module": "@jupyter-widgets/base",
            "top": null,
            "grid_column": null,
            "overflow_y": null,
            "overflow_x": null,
            "grid_auto_flow": null,
            "grid_area": null,
            "grid_template_columns": null,
            "flex": null,
            "_model_name": "LayoutModel",
            "justify_items": null,
            "grid_row": null,
            "max_height": null,
            "align_content": null,
            "visibility": null,
            "align_self": null,
            "height": null,
            "min_height": null,
            "padding": null,
            "grid_auto_rows": null,
            "grid_gap": null,
            "max_width": null,
            "order": null,
            "_view_module_version": "1.2.0",
            "grid_template_areas": null,
            "object_position": null,
            "object_fit": null,
            "grid_auto_columns": null,
            "margin": null,
            "display": null,
            "left": null
          }
        },
        "dffc10d9373849669ba43ac48ca22cb9": {
          "model_module": "@jupyter-widgets/controls",
          "model_name": "HTMLModel",
          "model_module_version": "1.5.0",
          "state": {
            "_view_name": "HTMLView",
            "style": "IPY_MODEL_dc2c68367b8645cdaabd80e52cb3a384",
            "_dom_classes": [],
            "description": "",
            "_model_name": "HTMLModel",
            "placeholder": "​",
            "_view_module": "@jupyter-widgets/controls",
            "_model_module_version": "1.5.0",
            "value": "",
            "_view_count": null,
            "_view_module_version": "1.5.0",
            "description_tooltip": null,
            "_model_module": "@jupyter-widgets/controls",
            "layout": "IPY_MODEL_f69cd758f6394948bcdd0f224606100d"
          }
        },
        "9260bdd7b483401786b049a6aeeb37b0": {
          "model_module": "@jupyter-widgets/controls",
          "model_name": "FloatProgressModel",
          "model_module_version": "1.5.0",
          "state": {
            "_view_name": "ProgressView",
            "style": "IPY_MODEL_50ce982ad60d47c4b246c2e267ef97f5",
            "_dom_classes": [],
            "description": "",
            "_model_name": "FloatProgressModel",
            "bar_style": "danger",
            "max": 1,
            "_view_module": "@jupyter-widgets/controls",
            "_model_module_version": "1.5.0",
            "value": 1,
            "_view_count": null,
            "_view_module_version": "1.5.0",
            "orientation": "horizontal",
            "min": 0,
            "description_tooltip": null,
            "_model_module": "@jupyter-widgets/controls",
            "layout": "IPY_MODEL_cb4e82fd4d9c460093e75d0a4a6d27fc"
          }
        },
        "04682a5d63b243c9af128001a6364045": {
          "model_module": "@jupyter-widgets/controls",
          "model_name": "HTMLModel",
          "model_module_version": "1.5.0",
          "state": {
            "_view_name": "HTMLView",
            "style": "IPY_MODEL_b95fb5a44dae4e7eb79e1960113dee92",
            "_dom_classes": [],
            "description": "",
            "_model_name": "HTMLModel",
            "placeholder": "​",
            "_view_module": "@jupyter-widgets/controls",
            "_model_module_version": "1.5.0",
            "value": " 256/? [00:54&lt;00:00,  4.32it/s]",
            "_view_count": null,
            "_view_module_version": "1.5.0",
            "description_tooltip": null,
            "_model_module": "@jupyter-widgets/controls",
            "layout": "IPY_MODEL_a17d51c24d9b443085b5d4a293564682"
          }
        },
        "dc2c68367b8645cdaabd80e52cb3a384": {
          "model_module": "@jupyter-widgets/controls",
          "model_name": "DescriptionStyleModel",
          "model_module_version": "1.5.0",
          "state": {
            "_view_name": "StyleView",
            "_model_name": "DescriptionStyleModel",
            "description_width": "",
            "_view_module": "@jupyter-widgets/base",
            "_model_module_version": "1.5.0",
            "_view_count": null,
            "_view_module_version": "1.2.0",
            "_model_module": "@jupyter-widgets/controls"
          }
        },
        "f69cd758f6394948bcdd0f224606100d": {
          "model_module": "@jupyter-widgets/base",
          "model_name": "LayoutModel",
          "model_module_version": "1.2.0",
          "state": {
            "_view_name": "LayoutView",
            "grid_template_rows": null,
            "right": null,
            "justify_content": null,
            "_view_module": "@jupyter-widgets/base",
            "overflow": null,
            "_model_module_version": "1.2.0",
            "_view_count": null,
            "flex_flow": null,
            "width": null,
            "min_width": null,
            "border": null,
            "align_items": null,
            "bottom": null,
            "_model_module": "@jupyter-widgets/base",
            "top": null,
            "grid_column": null,
            "overflow_y": null,
            "overflow_x": null,
            "grid_auto_flow": null,
            "grid_area": null,
            "grid_template_columns": null,
            "flex": null,
            "_model_name": "LayoutModel",
            "justify_items": null,
            "grid_row": null,
            "max_height": null,
            "align_content": null,
            "visibility": null,
            "align_self": null,
            "height": null,
            "min_height": null,
            "padding": null,
            "grid_auto_rows": null,
            "grid_gap": null,
            "max_width": null,
            "order": null,
            "_view_module_version": "1.2.0",
            "grid_template_areas": null,
            "object_position": null,
            "object_fit": null,
            "grid_auto_columns": null,
            "margin": null,
            "display": null,
            "left": null
          }
        },
        "50ce982ad60d47c4b246c2e267ef97f5": {
          "model_module": "@jupyter-widgets/controls",
          "model_name": "ProgressStyleModel",
          "model_module_version": "1.5.0",
          "state": {
            "_view_name": "StyleView",
            "_model_name": "ProgressStyleModel",
            "description_width": "",
            "_view_module": "@jupyter-widgets/base",
            "_model_module_version": "1.5.0",
            "_view_count": null,
            "_view_module_version": "1.2.0",
            "bar_color": null,
            "_model_module": "@jupyter-widgets/controls"
          }
        },
        "cb4e82fd4d9c460093e75d0a4a6d27fc": {
          "model_module": "@jupyter-widgets/base",
          "model_name": "LayoutModel",
          "model_module_version": "1.2.0",
          "state": {
            "_view_name": "LayoutView",
            "grid_template_rows": null,
            "right": null,
            "justify_content": null,
            "_view_module": "@jupyter-widgets/base",
            "overflow": null,
            "_model_module_version": "1.2.0",
            "_view_count": null,
            "flex_flow": null,
            "width": "20px",
            "min_width": null,
            "border": null,
            "align_items": null,
            "bottom": null,
            "_model_module": "@jupyter-widgets/base",
            "top": null,
            "grid_column": null,
            "overflow_y": null,
            "overflow_x": null,
            "grid_auto_flow": null,
            "grid_area": null,
            "grid_template_columns": null,
            "flex": null,
            "_model_name": "LayoutModel",
            "justify_items": null,
            "grid_row": null,
            "max_height": null,
            "align_content": null,
            "visibility": null,
            "align_self": null,
            "height": null,
            "min_height": null,
            "padding": null,
            "grid_auto_rows": null,
            "grid_gap": null,
            "max_width": null,
            "order": null,
            "_view_module_version": "1.2.0",
            "grid_template_areas": null,
            "object_position": null,
            "object_fit": null,
            "grid_auto_columns": null,
            "margin": null,
            "display": null,
            "left": null
          }
        },
        "b95fb5a44dae4e7eb79e1960113dee92": {
          "model_module": "@jupyter-widgets/controls",
          "model_name": "DescriptionStyleModel",
          "model_module_version": "1.5.0",
          "state": {
            "_view_name": "StyleView",
            "_model_name": "DescriptionStyleModel",
            "description_width": "",
            "_view_module": "@jupyter-widgets/base",
            "_model_module_version": "1.5.0",
            "_view_count": null,
            "_view_module_version": "1.2.0",
            "_model_module": "@jupyter-widgets/controls"
          }
        },
        "a17d51c24d9b443085b5d4a293564682": {
          "model_module": "@jupyter-widgets/base",
          "model_name": "LayoutModel",
          "model_module_version": "1.2.0",
          "state": {
            "_view_name": "LayoutView",
            "grid_template_rows": null,
            "right": null,
            "justify_content": null,
            "_view_module": "@jupyter-widgets/base",
            "overflow": null,
            "_model_module_version": "1.2.0",
            "_view_count": null,
            "flex_flow": null,
            "width": null,
            "min_width": null,
            "border": null,
            "align_items": null,
            "bottom": null,
            "_model_module": "@jupyter-widgets/base",
            "top": null,
            "grid_column": null,
            "overflow_y": null,
            "overflow_x": null,
            "grid_auto_flow": null,
            "grid_area": null,
            "grid_template_columns": null,
            "flex": null,
            "_model_name": "LayoutModel",
            "justify_items": null,
            "grid_row": null,
            "max_height": null,
            "align_content": null,
            "visibility": null,
            "align_self": null,
            "height": null,
            "min_height": null,
            "padding": null,
            "grid_auto_rows": null,
            "grid_gap": null,
            "max_width": null,
            "order": null,
            "_view_module_version": "1.2.0",
            "grid_template_areas": null,
            "object_position": null,
            "object_fit": null,
            "grid_auto_columns": null,
            "margin": null,
            "display": null,
            "left": null
          }
        },
        "b65215d485e4482989d4baede1f920d1": {
          "model_module": "@jupyter-widgets/controls",
          "model_name": "HBoxModel",
          "model_module_version": "1.5.0",
          "state": {
            "_view_name": "HBoxView",
            "_dom_classes": [],
            "_model_name": "HBoxModel",
            "_view_module": "@jupyter-widgets/controls",
            "_model_module_version": "1.5.0",
            "_view_count": null,
            "_view_module_version": "1.5.0",
            "box_style": "",
            "layout": "IPY_MODEL_1f9f33a45cdd4f019545d1009cc9ee98",
            "_model_module": "@jupyter-widgets/controls",
            "children": [
              "IPY_MODEL_54244264e1594414871336229e25b7f5",
              "IPY_MODEL_cce0f1067e3b4b8b8c94842c5056029b",
              "IPY_MODEL_71559e7f42334070a3ef274d28c86129"
            ]
          }
        },
        "1f9f33a45cdd4f019545d1009cc9ee98": {
          "model_module": "@jupyter-widgets/base",
          "model_name": "LayoutModel",
          "model_module_version": "1.2.0",
          "state": {
            "_view_name": "LayoutView",
            "grid_template_rows": null,
            "right": null,
            "justify_content": null,
            "_view_module": "@jupyter-widgets/base",
            "overflow": null,
            "_model_module_version": "1.2.0",
            "_view_count": null,
            "flex_flow": null,
            "width": null,
            "min_width": null,
            "border": null,
            "align_items": null,
            "bottom": null,
            "_model_module": "@jupyter-widgets/base",
            "top": null,
            "grid_column": null,
            "overflow_y": null,
            "overflow_x": null,
            "grid_auto_flow": null,
            "grid_area": null,
            "grid_template_columns": null,
            "flex": null,
            "_model_name": "LayoutModel",
            "justify_items": null,
            "grid_row": null,
            "max_height": null,
            "align_content": null,
            "visibility": null,
            "align_self": null,
            "height": null,
            "min_height": null,
            "padding": null,
            "grid_auto_rows": null,
            "grid_gap": null,
            "max_width": null,
            "order": null,
            "_view_module_version": "1.2.0",
            "grid_template_areas": null,
            "object_position": null,
            "object_fit": null,
            "grid_auto_columns": null,
            "margin": null,
            "display": null,
            "left": null
          }
        },
        "54244264e1594414871336229e25b7f5": {
          "model_module": "@jupyter-widgets/controls",
          "model_name": "HTMLModel",
          "model_module_version": "1.5.0",
          "state": {
            "_view_name": "HTMLView",
            "style": "IPY_MODEL_4c99cfd8783a42849fb00372586033d7",
            "_dom_classes": [],
            "description": "",
            "_model_name": "HTMLModel",
            "placeholder": "​",
            "_view_module": "@jupyter-widgets/controls",
            "_model_module_version": "1.5.0",
            "value": "",
            "_view_count": null,
            "_view_module_version": "1.5.0",
            "description_tooltip": null,
            "_model_module": "@jupyter-widgets/controls",
            "layout": "IPY_MODEL_d1446fcfe44c41869402847c88c7a61e"
          }
        },
        "cce0f1067e3b4b8b8c94842c5056029b": {
          "model_module": "@jupyter-widgets/controls",
          "model_name": "FloatProgressModel",
          "model_module_version": "1.5.0",
          "state": {
            "_view_name": "ProgressView",
            "style": "IPY_MODEL_7f9a1713c1384fe0903e7ece37a4ac18",
            "_dom_classes": [],
            "description": "",
            "_model_name": "FloatProgressModel",
            "bar_style": "danger",
            "max": 1,
            "_view_module": "@jupyter-widgets/controls",
            "_model_module_version": "1.5.0",
            "value": 1,
            "_view_count": null,
            "_view_module_version": "1.5.0",
            "orientation": "horizontal",
            "min": 0,
            "description_tooltip": null,
            "_model_module": "@jupyter-widgets/controls",
            "layout": "IPY_MODEL_91888b1aae3d4ca6819e45a97d93440f"
          }
        },
        "71559e7f42334070a3ef274d28c86129": {
          "model_module": "@jupyter-widgets/controls",
          "model_name": "HTMLModel",
          "model_module_version": "1.5.0",
          "state": {
            "_view_name": "HTMLView",
            "style": "IPY_MODEL_76f52a90e9f14454984fe13a72e1db62",
            "_dom_classes": [],
            "description": "",
            "_model_name": "HTMLModel",
            "placeholder": "​",
            "_view_module": "@jupyter-widgets/controls",
            "_model_module_version": "1.5.0",
            "value": " 256/? [00:44&lt;00:00,  4.20it/s]",
            "_view_count": null,
            "_view_module_version": "1.5.0",
            "description_tooltip": null,
            "_model_module": "@jupyter-widgets/controls",
            "layout": "IPY_MODEL_5c491a74e5c949239a31072b15a8dd50"
          }
        },
        "4c99cfd8783a42849fb00372586033d7": {
          "model_module": "@jupyter-widgets/controls",
          "model_name": "DescriptionStyleModel",
          "model_module_version": "1.5.0",
          "state": {
            "_view_name": "StyleView",
            "_model_name": "DescriptionStyleModel",
            "description_width": "",
            "_view_module": "@jupyter-widgets/base",
            "_model_module_version": "1.5.0",
            "_view_count": null,
            "_view_module_version": "1.2.0",
            "_model_module": "@jupyter-widgets/controls"
          }
        },
        "d1446fcfe44c41869402847c88c7a61e": {
          "model_module": "@jupyter-widgets/base",
          "model_name": "LayoutModel",
          "model_module_version": "1.2.0",
          "state": {
            "_view_name": "LayoutView",
            "grid_template_rows": null,
            "right": null,
            "justify_content": null,
            "_view_module": "@jupyter-widgets/base",
            "overflow": null,
            "_model_module_version": "1.2.0",
            "_view_count": null,
            "flex_flow": null,
            "width": null,
            "min_width": null,
            "border": null,
            "align_items": null,
            "bottom": null,
            "_model_module": "@jupyter-widgets/base",
            "top": null,
            "grid_column": null,
            "overflow_y": null,
            "overflow_x": null,
            "grid_auto_flow": null,
            "grid_area": null,
            "grid_template_columns": null,
            "flex": null,
            "_model_name": "LayoutModel",
            "justify_items": null,
            "grid_row": null,
            "max_height": null,
            "align_content": null,
            "visibility": null,
            "align_self": null,
            "height": null,
            "min_height": null,
            "padding": null,
            "grid_auto_rows": null,
            "grid_gap": null,
            "max_width": null,
            "order": null,
            "_view_module_version": "1.2.0",
            "grid_template_areas": null,
            "object_position": null,
            "object_fit": null,
            "grid_auto_columns": null,
            "margin": null,
            "display": null,
            "left": null
          }
        },
        "7f9a1713c1384fe0903e7ece37a4ac18": {
          "model_module": "@jupyter-widgets/controls",
          "model_name": "ProgressStyleModel",
          "model_module_version": "1.5.0",
          "state": {
            "_view_name": "StyleView",
            "_model_name": "ProgressStyleModel",
            "description_width": "",
            "_view_module": "@jupyter-widgets/base",
            "_model_module_version": "1.5.0",
            "_view_count": null,
            "_view_module_version": "1.2.0",
            "bar_color": null,
            "_model_module": "@jupyter-widgets/controls"
          }
        },
        "91888b1aae3d4ca6819e45a97d93440f": {
          "model_module": "@jupyter-widgets/base",
          "model_name": "LayoutModel",
          "model_module_version": "1.2.0",
          "state": {
            "_view_name": "LayoutView",
            "grid_template_rows": null,
            "right": null,
            "justify_content": null,
            "_view_module": "@jupyter-widgets/base",
            "overflow": null,
            "_model_module_version": "1.2.0",
            "_view_count": null,
            "flex_flow": null,
            "width": "20px",
            "min_width": null,
            "border": null,
            "align_items": null,
            "bottom": null,
            "_model_module": "@jupyter-widgets/base",
            "top": null,
            "grid_column": null,
            "overflow_y": null,
            "overflow_x": null,
            "grid_auto_flow": null,
            "grid_area": null,
            "grid_template_columns": null,
            "flex": null,
            "_model_name": "LayoutModel",
            "justify_items": null,
            "grid_row": null,
            "max_height": null,
            "align_content": null,
            "visibility": null,
            "align_self": null,
            "height": null,
            "min_height": null,
            "padding": null,
            "grid_auto_rows": null,
            "grid_gap": null,
            "max_width": null,
            "order": null,
            "_view_module_version": "1.2.0",
            "grid_template_areas": null,
            "object_position": null,
            "object_fit": null,
            "grid_auto_columns": null,
            "margin": null,
            "display": null,
            "left": null
          }
        },
        "76f52a90e9f14454984fe13a72e1db62": {
          "model_module": "@jupyter-widgets/controls",
          "model_name": "DescriptionStyleModel",
          "model_module_version": "1.5.0",
          "state": {
            "_view_name": "StyleView",
            "_model_name": "DescriptionStyleModel",
            "description_width": "",
            "_view_module": "@jupyter-widgets/base",
            "_model_module_version": "1.5.0",
            "_view_count": null,
            "_view_module_version": "1.2.0",
            "_model_module": "@jupyter-widgets/controls"
          }
        },
        "5c491a74e5c949239a31072b15a8dd50": {
          "model_module": "@jupyter-widgets/base",
          "model_name": "LayoutModel",
          "model_module_version": "1.2.0",
          "state": {
            "_view_name": "LayoutView",
            "grid_template_rows": null,
            "right": null,
            "justify_content": null,
            "_view_module": "@jupyter-widgets/base",
            "overflow": null,
            "_model_module_version": "1.2.0",
            "_view_count": null,
            "flex_flow": null,
            "width": null,
            "min_width": null,
            "border": null,
            "align_items": null,
            "bottom": null,
            "_model_module": "@jupyter-widgets/base",
            "top": null,
            "grid_column": null,
            "overflow_y": null,
            "overflow_x": null,
            "grid_auto_flow": null,
            "grid_area": null,
            "grid_template_columns": null,
            "flex": null,
            "_model_name": "LayoutModel",
            "justify_items": null,
            "grid_row": null,
            "max_height": null,
            "align_content": null,
            "visibility": null,
            "align_self": null,
            "height": null,
            "min_height": null,
            "padding": null,
            "grid_auto_rows": null,
            "grid_gap": null,
            "max_width": null,
            "order": null,
            "_view_module_version": "1.2.0",
            "grid_template_areas": null,
            "object_position": null,
            "object_fit": null,
            "grid_auto_columns": null,
            "margin": null,
            "display": null,
            "left": null
          }
        }
      }
    },
    "accelerator": "GPU"
  },
  "cells": [
    {
      "cell_type": "markdown",
      "metadata": {
        "id": "tWJTCBu4Tveb"
      },
      "source": [
        "<img src=\"https://static.wixstatic.com/media/66c28f_db7a1ba3e35b4b17a6688472c889b7bf~mv2_d_2777_1254_s_2.png/v1/fill/w_710,h_320,al_c,q_85,usm_0.66_1.00_0.01/logo_yellow_white.webp\" width=1000, height=450>\n",
        "<h3 style=\"text-align: center;\"><b>Физтех-Школа Прикладной математики и информатики (ФПМИ) МФТИ</b></h3>"
      ]
    },
    {
      "cell_type": "markdown",
      "metadata": {
        "id": "Kmb8UhIzOnfK"
      },
      "source": [
        "# Text Summarization\n",
        "\n",
        "Всем привет! Сегодня мы познакомимся с задачей суммаризации текста на примере генерации \"сжатых\" новостей. Рассмотрим некоторые базовые решения и познакомимся с архитектурами нейросетей для решения задачи.\n",
        "Датасет: gazeta.ru\n",
        "\n",
        "\n",
        "`Ноутбук создан на основе семинара Гусева Ильи на кафедре компьютерной лингвистики ABBYY МФТИ.`\n",
        "\n",
        "Загрузим датасет и необходимые библиотеки"
      ]
    },
    {
      "cell_type": "code",
      "metadata": {
        "id": "OqkLTkFRfXvA"
      },
      "source": [
        "!wget -q https://www.dropbox.com/s/43l702z5a5i2w8j/gazeta_train.txt\n",
        "!wget -q https://www.dropbox.com/s/k2egt3sug0hb185/gazeta_val.txt\n",
        "!wget -q https://www.dropbox.com/s/3gki5n5djs9w0v6/gazeta_test.txt"
      ],
      "execution_count": 1,
      "outputs": []
    },
    {
      "cell_type": "code",
      "metadata": {
        "colab": {
          "base_uri": "https://localhost:8080/"
        },
        "id": "SXS1sdYZCluU",
        "outputId": "4a8cb390-54d3-4ad7-a404-a9180c4fe460"
      },
      "source": [
        "!pip -q install razdel networkx pymorphy2 nltk rouge==0.3.1 summa "
      ],
      "execution_count": 2,
      "outputs": [
        {
          "output_type": "stream",
          "name": "stdout",
          "text": [
            "\u001b[K     |████████████████████████████████| 55 kB 3.2 MB/s \n",
            "\u001b[K     |████████████████████████████████| 54 kB 3.9 MB/s \n",
            "\u001b[K     |████████████████████████████████| 8.2 MB 56.6 MB/s \n",
            "\u001b[?25h  Building wheel for summa (setup.py) ... \u001b[?25l\u001b[?25hdone\n"
          ]
        }
      ]
    },
    {
      "cell_type": "markdown",
      "metadata": {
        "id": "Wa0NfryxbPUP"
      },
      "source": [
        "## Dataset"
      ]
    },
    {
      "cell_type": "markdown",
      "metadata": {
        "id": "eesnclfDDV3F"
      },
      "source": [
        "Посмотрим на то, как устроен датасет"
      ]
    },
    {
      "cell_type": "code",
      "metadata": {
        "colab": {
          "base_uri": "https://localhost:8080/"
        },
        "id": "Mz6CZYKQhnd-",
        "outputId": "b3ea0b99-3ddb-4796-9ea3-f2ac84baf45b"
      },
      "source": [
        "!head -n 1 gazeta_train.txt\n",
        "!cat gazeta_train.txt | wc -l\n",
        "!cat gazeta_val.txt | wc -l\n",
        "!cat gazeta_test.txt | wc -l"
      ],
      "execution_count": 3,
      "outputs": [
        {
          "output_type": "stream",
          "name": "stdout",
          "text": [
            "{\"url\": \"https://www.gazeta.ru/financial/2011/11/30/3852658.shtml\", \"text\": \"«По итогам 2011 года чистый отток может составить примерно $80 млрд, в следующем году — около $20 млрд. При этом мы ожидаем, что со второго полугодия 2012 года начнется приток капитала», — заявил «Интерфаксу» замминистра экономического развития Андрей Клепач. Официальные прогнозы по выводу капитала из России становятся все пессимистичными: еще летом власти полагали, что из страны уйдет не более $35 млрд, в сентябре Минэкономразвития назвал цифру $50 млрд, в начале ноября Центробанк пересмотрел оценку до $70 млрд. Очередное изменение прогноза было ожидаемо: по расчетам Центробанка , за январь — октябрь чистый отток капитала достиг $64 млрд, причем в последние месяцы он ускорился: в сентябре он составил $14 млрд, в октябре — $13 млрд против среднего ежемесячного оттока в $6—8 млрд в первом полугодии. «После октябрьских данных Минэкономразвития вынуждено было изменить оценку, настаивать на $70 млрд означало ожидать серьезного замедления оттока капитала на непонятно каких причинах», — говорит главный экономист BNP Paribas Юлия Цепляева. «В последние два месяца отток капитала ускорится, на декабрь приходится значительная часть выплат по внешним долгам, что приводит к усилению оттока, особенно если они не рефинансируются новыми кредитами», — соглашается главный экономист ФК «Открытие» Владимир Тихомиров. Прогнозируемый Минэкономразвития отток капитала — один из самых высоких за последние 20 лет. Больше ушло лишь в 2008 году на фоне разрастания финансового кризиса и российско-грузинской войны — $133,7 млрд. В кризисный 2009 год из России утекло $56,1 млрд. Главный фактор ускорения оттока капитала в 2011 году — нестабильность на внешних финансовых рынках и рост опасений относительно второй волны рецессии. «Это реакция на неуверенность, которую генерирует Европа с долговыми проблемами. В случае новой волны глобальной турбулентности Россия — одна из самых уязвимых стран», — говорит Цепляева. Еще одна причина — ослабление рубля. «Привлекательность вложений снижается на фоне того, что рубль перестал укрепляться, а ставки по депозитам достаточно низкие. В результате экспортеры не полностью возвращают экспортную выручку», — говорит Тихомиров. Внутри страны эксперты не видят особых причин для бегства капитала. «Ситуация выглядит достаточно позитивно, очень хорошие макроэкономические результаты за год, особенно на фоне других стран. С политической точки зрения все достаточно понятно и предсказуемо, итог выборов очевиден», — говорит экономист ИК «Тройка Диалог» Антон Струченевский. Тем не менее политический фактор играет роль. «Бизнесу важно не только, кто будет президентом, он ждет ясности с перестановками в правительстве. В наших условиях административный ресурс важнее всего для успешности бизнеса», — говорит Цепляева, добавляя, что отток капитала продолжится до завершения президентских выборов.\", \"title\": \"Прогноз не успевает за оттоком\", \"summary\": \"В 2011 году из России уйдет $80 млрд, считают в Минэкономразвития. Менее месяца назад Центробанк давал оценку $70 млрд, повысив первоначальный прогноз вдвое. Отток капитала из страны усиливается из-за кризиса в Европе, а в декабре российским компаниям выплачивать внешние долги. На движение капитала повлияли и выборы: несмотря на их предсказуемость, бизнес хочет ясности с перестановками в правительстве.\", \"date\": \"2011-11-30 18:33:39\"}\n",
            "52400\n",
            "5265\n",
            "5770\n"
          ]
        }
      ]
    },
    {
      "cell_type": "code",
      "metadata": {
        "id": "5pZ2UGS2DGjH"
      },
      "source": [
        "import json\n",
        "import random\n",
        "\n",
        "def read_gazeta_records(file_name, shuffle=True, sort_by_date=False):\n",
        "    assert shuffle != sort_by_date\n",
        "    records = []\n",
        "    with open(file_name, \"r\") as r:\n",
        "        for line in r:\n",
        "            records.append(json.loads(line))\n",
        "    if sort_by_date:\n",
        "        records.sort(key=lambda x: x[\"date\"])\n",
        "    if shuffle:\n",
        "        random.shuffle\n",
        "    return records"
      ],
      "execution_count": 4,
      "outputs": []
    },
    {
      "cell_type": "code",
      "metadata": {
        "id": "GNDp-BunEA91"
      },
      "source": [
        "train_records = read_gazeta_records(\"gazeta_train.txt\")\n",
        "val_records = read_gazeta_records(\"gazeta_val.txt\")\n",
        "test_records = read_gazeta_records(\"gazeta_test.txt\")"
      ],
      "execution_count": 5,
      "outputs": []
    },
    {
      "cell_type": "code",
      "metadata": {
        "id": "397gjsNfFBZ_"
      },
      "source": [
        "from nltk.translate.bleu_score import corpus_bleu\n",
        "from rouge import Rouge\n",
        "\n",
        "def calc_scores(references, predictions, metric=\"all\"):\n",
        "    print(\"Count:\", len(predictions))\n",
        "    print(\"Ref:\", references[-1])\n",
        "    print(\"Hyp:\", predictions[-1])\n",
        "\n",
        "    if metric in (\"bleu\", \"all\"):\n",
        "        print(\"BLEU: \", corpus_bleu([[r] for r in references], predictions))\n",
        "    if metric in (\"rouge\", \"all\"):\n",
        "        rouge = Rouge()\n",
        "        scores = rouge.get_scores(predictions, references, avg=True)\n",
        "        print(\"ROUGE: \", scores)"
      ],
      "execution_count": 6,
      "outputs": []
    },
    {
      "cell_type": "markdown",
      "metadata": {
        "id": "aaJKNsUGFBaA"
      },
      "source": [
        "## Extractive RNN"
      ]
    },
    {
      "cell_type": "markdown",
      "metadata": {
        "id": "l3izlm8HFBaC"
      },
      "source": [
        "### BPE\n",
        "Для начала сделаем BPE токенизацию"
      ]
    },
    {
      "cell_type": "code",
      "metadata": {
        "colab": {
          "base_uri": "https://localhost:8080/"
        },
        "id": "2DMVtloWFBaC",
        "outputId": "e5671bf7-4a6a-4478-84cb-6411efca79d6"
      },
      "source": [
        "!pip install youtokentome"
      ],
      "execution_count": 7,
      "outputs": [
        {
          "output_type": "stream",
          "name": "stdout",
          "text": [
            "Collecting youtokentome\n",
            "  Downloading youtokentome-1.0.6-cp37-cp37m-manylinux2010_x86_64.whl (1.7 MB)\n",
            "\u001b[?25l\r\u001b[K     |▏                               | 10 kB 32.4 MB/s eta 0:00:01\r\u001b[K     |▍                               | 20 kB 29.5 MB/s eta 0:00:01\r\u001b[K     |▋                               | 30 kB 20.2 MB/s eta 0:00:01\r\u001b[K     |▊                               | 40 kB 17.3 MB/s eta 0:00:01\r\u001b[K     |█                               | 51 kB 7.2 MB/s eta 0:00:01\r\u001b[K     |█▏                              | 61 kB 8.4 MB/s eta 0:00:01\r\u001b[K     |█▍                              | 71 kB 8.8 MB/s eta 0:00:01\r\u001b[K     |█▌                              | 81 kB 8.6 MB/s eta 0:00:01\r\u001b[K     |█▊                              | 92 kB 6.9 MB/s eta 0:00:01\r\u001b[K     |██                              | 102 kB 7.6 MB/s eta 0:00:01\r\u001b[K     |██                              | 112 kB 7.6 MB/s eta 0:00:01\r\u001b[K     |██▎                             | 122 kB 7.6 MB/s eta 0:00:01\r\u001b[K     |██▌                             | 133 kB 7.6 MB/s eta 0:00:01\r\u001b[K     |██▊                             | 143 kB 7.6 MB/s eta 0:00:01\r\u001b[K     |██▉                             | 153 kB 7.6 MB/s eta 0:00:01\r\u001b[K     |███                             | 163 kB 7.6 MB/s eta 0:00:01\r\u001b[K     |███▎                            | 174 kB 7.6 MB/s eta 0:00:01\r\u001b[K     |███▌                            | 184 kB 7.6 MB/s eta 0:00:01\r\u001b[K     |███▋                            | 194 kB 7.6 MB/s eta 0:00:01\r\u001b[K     |███▉                            | 204 kB 7.6 MB/s eta 0:00:01\r\u001b[K     |████                            | 215 kB 7.6 MB/s eta 0:00:01\r\u001b[K     |████▏                           | 225 kB 7.6 MB/s eta 0:00:01\r\u001b[K     |████▍                           | 235 kB 7.6 MB/s eta 0:00:01\r\u001b[K     |████▋                           | 245 kB 7.6 MB/s eta 0:00:01\r\u001b[K     |████▉                           | 256 kB 7.6 MB/s eta 0:00:01\r\u001b[K     |█████                           | 266 kB 7.6 MB/s eta 0:00:01\r\u001b[K     |█████▏                          | 276 kB 7.6 MB/s eta 0:00:01\r\u001b[K     |█████▍                          | 286 kB 7.6 MB/s eta 0:00:01\r\u001b[K     |█████▌                          | 296 kB 7.6 MB/s eta 0:00:01\r\u001b[K     |█████▊                          | 307 kB 7.6 MB/s eta 0:00:01\r\u001b[K     |██████                          | 317 kB 7.6 MB/s eta 0:00:01\r\u001b[K     |██████▏                         | 327 kB 7.6 MB/s eta 0:00:01\r\u001b[K     |██████▎                         | 337 kB 7.6 MB/s eta 0:00:01\r\u001b[K     |██████▌                         | 348 kB 7.6 MB/s eta 0:00:01\r\u001b[K     |██████▊                         | 358 kB 7.6 MB/s eta 0:00:01\r\u001b[K     |███████                         | 368 kB 7.6 MB/s eta 0:00:01\r\u001b[K     |███████                         | 378 kB 7.6 MB/s eta 0:00:01\r\u001b[K     |███████▎                        | 389 kB 7.6 MB/s eta 0:00:01\r\u001b[K     |███████▌                        | 399 kB 7.6 MB/s eta 0:00:01\r\u001b[K     |███████▋                        | 409 kB 7.6 MB/s eta 0:00:01\r\u001b[K     |███████▉                        | 419 kB 7.6 MB/s eta 0:00:01\r\u001b[K     |████████                        | 430 kB 7.6 MB/s eta 0:00:01\r\u001b[K     |████████▎                       | 440 kB 7.6 MB/s eta 0:00:01\r\u001b[K     |████████▍                       | 450 kB 7.6 MB/s eta 0:00:01\r\u001b[K     |████████▋                       | 460 kB 7.6 MB/s eta 0:00:01\r\u001b[K     |████████▉                       | 471 kB 7.6 MB/s eta 0:00:01\r\u001b[K     |█████████                       | 481 kB 7.6 MB/s eta 0:00:01\r\u001b[K     |█████████▏                      | 491 kB 7.6 MB/s eta 0:00:01\r\u001b[K     |█████████▍                      | 501 kB 7.6 MB/s eta 0:00:01\r\u001b[K     |█████████▋                      | 512 kB 7.6 MB/s eta 0:00:01\r\u001b[K     |█████████▊                      | 522 kB 7.6 MB/s eta 0:00:01\r\u001b[K     |██████████                      | 532 kB 7.6 MB/s eta 0:00:01\r\u001b[K     |██████████▏                     | 542 kB 7.6 MB/s eta 0:00:01\r\u001b[K     |██████████▍                     | 552 kB 7.6 MB/s eta 0:00:01\r\u001b[K     |██████████▌                     | 563 kB 7.6 MB/s eta 0:00:01\r\u001b[K     |██████████▊                     | 573 kB 7.6 MB/s eta 0:00:01\r\u001b[K     |███████████                     | 583 kB 7.6 MB/s eta 0:00:01\r\u001b[K     |███████████                     | 593 kB 7.6 MB/s eta 0:00:01\r\u001b[K     |███████████▎                    | 604 kB 7.6 MB/s eta 0:00:01\r\u001b[K     |███████████▌                    | 614 kB 7.6 MB/s eta 0:00:01\r\u001b[K     |███████████▊                    | 624 kB 7.6 MB/s eta 0:00:01\r\u001b[K     |███████████▉                    | 634 kB 7.6 MB/s eta 0:00:01\r\u001b[K     |████████████                    | 645 kB 7.6 MB/s eta 0:00:01\r\u001b[K     |████████████▎                   | 655 kB 7.6 MB/s eta 0:00:01\r\u001b[K     |████████████▍                   | 665 kB 7.6 MB/s eta 0:00:01\r\u001b[K     |████████████▋                   | 675 kB 7.6 MB/s eta 0:00:01\r\u001b[K     |████████████▉                   | 686 kB 7.6 MB/s eta 0:00:01\r\u001b[K     |█████████████                   | 696 kB 7.6 MB/s eta 0:00:01\r\u001b[K     |█████████████▏                  | 706 kB 7.6 MB/s eta 0:00:01\r\u001b[K     |█████████████▍                  | 716 kB 7.6 MB/s eta 0:00:01\r\u001b[K     |█████████████▋                  | 727 kB 7.6 MB/s eta 0:00:01\r\u001b[K     |█████████████▉                  | 737 kB 7.6 MB/s eta 0:00:01\r\u001b[K     |██████████████                  | 747 kB 7.6 MB/s eta 0:00:01\r\u001b[K     |██████████████▏                 | 757 kB 7.6 MB/s eta 0:00:01\r\u001b[K     |██████████████▍                 | 768 kB 7.6 MB/s eta 0:00:01\r\u001b[K     |██████████████▌                 | 778 kB 7.6 MB/s eta 0:00:01\r\u001b[K     |██████████████▊                 | 788 kB 7.6 MB/s eta 0:00:01\r\u001b[K     |███████████████                 | 798 kB 7.6 MB/s eta 0:00:01\r\u001b[K     |███████████████▏                | 808 kB 7.6 MB/s eta 0:00:01\r\u001b[K     |███████████████▎                | 819 kB 7.6 MB/s eta 0:00:01\r\u001b[K     |███████████████▌                | 829 kB 7.6 MB/s eta 0:00:01\r\u001b[K     |███████████████▊                | 839 kB 7.6 MB/s eta 0:00:01\r\u001b[K     |███████████████▉                | 849 kB 7.6 MB/s eta 0:00:01\r\u001b[K     |████████████████                | 860 kB 7.6 MB/s eta 0:00:01\r\u001b[K     |████████████████▎               | 870 kB 7.6 MB/s eta 0:00:01\r\u001b[K     |████████████████▌               | 880 kB 7.6 MB/s eta 0:00:01\r\u001b[K     |████████████████▋               | 890 kB 7.6 MB/s eta 0:00:01\r\u001b[K     |████████████████▉               | 901 kB 7.6 MB/s eta 0:00:01\r\u001b[K     |█████████████████               | 911 kB 7.6 MB/s eta 0:00:01\r\u001b[K     |█████████████████▎              | 921 kB 7.6 MB/s eta 0:00:01\r\u001b[K     |█████████████████▍              | 931 kB 7.6 MB/s eta 0:00:01\r\u001b[K     |█████████████████▋              | 942 kB 7.6 MB/s eta 0:00:01\r\u001b[K     |█████████████████▉              | 952 kB 7.6 MB/s eta 0:00:01\r\u001b[K     |██████████████████              | 962 kB 7.6 MB/s eta 0:00:01\r\u001b[K     |██████████████████▏             | 972 kB 7.6 MB/s eta 0:00:01\r\u001b[K     |██████████████████▍             | 983 kB 7.6 MB/s eta 0:00:01\r\u001b[K     |██████████████████▋             | 993 kB 7.6 MB/s eta 0:00:01\r\u001b[K     |██████████████████▊             | 1.0 MB 7.6 MB/s eta 0:00:01\r\u001b[K     |███████████████████             | 1.0 MB 7.6 MB/s eta 0:00:01\r\u001b[K     |███████████████████▏            | 1.0 MB 7.6 MB/s eta 0:00:01\r\u001b[K     |███████████████████▎            | 1.0 MB 7.6 MB/s eta 0:00:01\r\u001b[K     |███████████████████▌            | 1.0 MB 7.6 MB/s eta 0:00:01\r\u001b[K     |███████████████████▊            | 1.1 MB 7.6 MB/s eta 0:00:01\r\u001b[K     |████████████████████            | 1.1 MB 7.6 MB/s eta 0:00:01\r\u001b[K     |████████████████████            | 1.1 MB 7.6 MB/s eta 0:00:01\r\u001b[K     |████████████████████▎           | 1.1 MB 7.6 MB/s eta 0:00:01\r\u001b[K     |████████████████████▌           | 1.1 MB 7.6 MB/s eta 0:00:01\r\u001b[K     |████████████████████▊           | 1.1 MB 7.6 MB/s eta 0:00:01\r\u001b[K     |████████████████████▉           | 1.1 MB 7.6 MB/s eta 0:00:01\r\u001b[K     |█████████████████████           | 1.1 MB 7.6 MB/s eta 0:00:01\r\u001b[K     |█████████████████████▎          | 1.1 MB 7.6 MB/s eta 0:00:01\r\u001b[K     |█████████████████████▍          | 1.1 MB 7.6 MB/s eta 0:00:01\r\u001b[K     |█████████████████████▋          | 1.2 MB 7.6 MB/s eta 0:00:01\r\u001b[K     |█████████████████████▉          | 1.2 MB 7.6 MB/s eta 0:00:01\r\u001b[K     |██████████████████████          | 1.2 MB 7.6 MB/s eta 0:00:01\r\u001b[K     |██████████████████████▏         | 1.2 MB 7.6 MB/s eta 0:00:01\r\u001b[K     |██████████████████████▍         | 1.2 MB 7.6 MB/s eta 0:00:01\r\u001b[K     |██████████████████████▋         | 1.2 MB 7.6 MB/s eta 0:00:01\r\u001b[K     |██████████████████████▊         | 1.2 MB 7.6 MB/s eta 0:00:01\r\u001b[K     |███████████████████████         | 1.2 MB 7.6 MB/s eta 0:00:01\r\u001b[K     |███████████████████████▏        | 1.2 MB 7.6 MB/s eta 0:00:01\r\u001b[K     |███████████████████████▍        | 1.2 MB 7.6 MB/s eta 0:00:01\r\u001b[K     |███████████████████████▌        | 1.3 MB 7.6 MB/s eta 0:00:01\r\u001b[K     |███████████████████████▊        | 1.3 MB 7.6 MB/s eta 0:00:01\r\u001b[K     |████████████████████████        | 1.3 MB 7.6 MB/s eta 0:00:01\r\u001b[K     |████████████████████████▏       | 1.3 MB 7.6 MB/s eta 0:00:01\r\u001b[K     |████████████████████████▎       | 1.3 MB 7.6 MB/s eta 0:00:01\r\u001b[K     |████████████████████████▌       | 1.3 MB 7.6 MB/s eta 0:00:01\r\u001b[K     |████████████████████████▊       | 1.3 MB 7.6 MB/s eta 0:00:01\r\u001b[K     |████████████████████████▉       | 1.3 MB 7.6 MB/s eta 0:00:01\r\u001b[K     |█████████████████████████       | 1.3 MB 7.6 MB/s eta 0:00:01\r\u001b[K     |█████████████████████████▎      | 1.4 MB 7.6 MB/s eta 0:00:01\r\u001b[K     |█████████████████████████▌      | 1.4 MB 7.6 MB/s eta 0:00:01\r\u001b[K     |█████████████████████████▋      | 1.4 MB 7.6 MB/s eta 0:00:01\r\u001b[K     |█████████████████████████▉      | 1.4 MB 7.6 MB/s eta 0:00:01\r\u001b[K     |██████████████████████████      | 1.4 MB 7.6 MB/s eta 0:00:01\r\u001b[K     |██████████████████████████▏     | 1.4 MB 7.6 MB/s eta 0:00:01\r\u001b[K     |██████████████████████████▍     | 1.4 MB 7.6 MB/s eta 0:00:01\r\u001b[K     |██████████████████████████▋     | 1.4 MB 7.6 MB/s eta 0:00:01\r\u001b[K     |██████████████████████████▉     | 1.4 MB 7.6 MB/s eta 0:00:01\r\u001b[K     |███████████████████████████     | 1.4 MB 7.6 MB/s eta 0:00:01\r\u001b[K     |███████████████████████████▏    | 1.5 MB 7.6 MB/s eta 0:00:01\r\u001b[K     |███████████████████████████▍    | 1.5 MB 7.6 MB/s eta 0:00:01\r\u001b[K     |███████████████████████████▋    | 1.5 MB 7.6 MB/s eta 0:00:01\r\u001b[K     |███████████████████████████▊    | 1.5 MB 7.6 MB/s eta 0:00:01\r\u001b[K     |████████████████████████████    | 1.5 MB 7.6 MB/s eta 0:00:01\r\u001b[K     |████████████████████████████▏   | 1.5 MB 7.6 MB/s eta 0:00:01\r\u001b[K     |████████████████████████████▎   | 1.5 MB 7.6 MB/s eta 0:00:01\r\u001b[K     |████████████████████████████▌   | 1.5 MB 7.6 MB/s eta 0:00:01\r\u001b[K     |████████████████████████████▊   | 1.5 MB 7.6 MB/s eta 0:00:01\r\u001b[K     |█████████████████████████████   | 1.5 MB 7.6 MB/s eta 0:00:01\r\u001b[K     |█████████████████████████████   | 1.6 MB 7.6 MB/s eta 0:00:01\r\u001b[K     |█████████████████████████████▎  | 1.6 MB 7.6 MB/s eta 0:00:01\r\u001b[K     |█████████████████████████████▌  | 1.6 MB 7.6 MB/s eta 0:00:01\r\u001b[K     |█████████████████████████████▋  | 1.6 MB 7.6 MB/s eta 0:00:01\r\u001b[K     |█████████████████████████████▉  | 1.6 MB 7.6 MB/s eta 0:00:01\r\u001b[K     |██████████████████████████████  | 1.6 MB 7.6 MB/s eta 0:00:01\r\u001b[K     |██████████████████████████████▎ | 1.6 MB 7.6 MB/s eta 0:00:01\r\u001b[K     |██████████████████████████████▍ | 1.6 MB 7.6 MB/s eta 0:00:01\r\u001b[K     |██████████████████████████████▋ | 1.6 MB 7.6 MB/s eta 0:00:01\r\u001b[K     |██████████████████████████████▉ | 1.6 MB 7.6 MB/s eta 0:00:01\r\u001b[K     |███████████████████████████████ | 1.7 MB 7.6 MB/s eta 0:00:01\r\u001b[K     |███████████████████████████████▏| 1.7 MB 7.6 MB/s eta 0:00:01\r\u001b[K     |███████████████████████████████▍| 1.7 MB 7.6 MB/s eta 0:00:01\r\u001b[K     |███████████████████████████████▋| 1.7 MB 7.6 MB/s eta 0:00:01\r\u001b[K     |███████████████████████████████▊| 1.7 MB 7.6 MB/s eta 0:00:01\r\u001b[K     |████████████████████████████████| 1.7 MB 7.6 MB/s eta 0:00:01\r\u001b[K     |████████████████████████████████| 1.7 MB 7.6 MB/s \n",
            "\u001b[?25hRequirement already satisfied: Click>=7.0 in /usr/local/lib/python3.7/dist-packages (from youtokentome) (7.1.2)\n",
            "Installing collected packages: youtokentome\n",
            "Successfully installed youtokentome-1.0.6\n"
          ]
        }
      ]
    },
    {
      "cell_type": "code",
      "metadata": {
        "id": "Yg9T6q0wFBaF"
      },
      "source": [
        "import youtokentome as yttm\n",
        "\n",
        "def train_bpe(records, model_path, model_type=\"bpe\", vocab_size=10000, lower=True):\n",
        "    temp_file_name = \"temp.txt\"\n",
        "    with open(temp_file_name, \"w\") as temp:\n",
        "        for record in records:\n",
        "            text, summary = record['text'], record['summary']\n",
        "            if lower:\n",
        "                summary = summary.lower()\n",
        "                text = text.lower()\n",
        "            if not text or not summary:\n",
        "                continue\n",
        "            temp.write(text + \"\\n\")\n",
        "            temp.write(summary + \"\\n\")\n",
        "    yttm.BPE.train(data=temp_file_name, vocab_size=vocab_size, model=model_path)\n",
        "\n",
        "train_bpe(train_records, \"BPE_model.bin\")"
      ],
      "execution_count": 8,
      "outputs": []
    },
    {
      "cell_type": "markdown",
      "metadata": {
        "id": "jJFAJHTtFBaF"
      },
      "source": [
        "### Словарь\n",
        "Составим словарь для индексации токенов"
      ]
    },
    {
      "cell_type": "code",
      "metadata": {
        "id": "MueXtatmFBaG"
      },
      "source": [
        "bpe_processor = yttm.BPE('BPE_model.bin')\n",
        "vocabulary = bpe_processor.vocab()"
      ],
      "execution_count": 9,
      "outputs": []
    },
    {
      "cell_type": "markdown",
      "metadata": {
        "id": "Z_C_p7tHFBaH"
      },
      "source": [
        "### Кэш oracle summary\n",
        "Закэшируем oracle summary, чтобы не пересчитывать их каждый раз"
      ]
    },
    {
      "cell_type": "code",
      "metadata": {
        "colab": {
          "base_uri": "https://localhost:8080/",
          "height": 113,
          "referenced_widgets": [
            "f4ced81628314337b702dd0b5ac35590",
            "b560d45263fa4c44859fd2055f5a3da5",
            "f2244db81a304f2094cd268dd8ff2aa3",
            "b5900e1ccaf8478080fafe4877e1494f",
            "3d0b65506a0e4bf1ac4fcca2d7b4eb98",
            "92802a9c2042464486344f833ed831c2",
            "c1956154aee7463191228f75484e963e",
            "b1bc3de173b04860a851d0460b13acca",
            "2d48270715ec4564889789489ca3e133",
            "9b387bdce9b54c49ad3d2c47f9e113d2",
            "19d11abe69e54efdbe57c395ceb60883",
            "505512f3c2064573bcccbf2d5316f2fa",
            "8420a2a8debf410fa0b3ef640fc40e9a",
            "dffc10d9373849669ba43ac48ca22cb9",
            "9260bdd7b483401786b049a6aeeb37b0",
            "04682a5d63b243c9af128001a6364045",
            "dc2c68367b8645cdaabd80e52cb3a384",
            "f69cd758f6394948bcdd0f224606100d",
            "50ce982ad60d47c4b246c2e267ef97f5",
            "cb4e82fd4d9c460093e75d0a4a6d27fc",
            "b95fb5a44dae4e7eb79e1960113dee92",
            "a17d51c24d9b443085b5d4a293564682",
            "b65215d485e4482989d4baede1f920d1",
            "1f9f33a45cdd4f019545d1009cc9ee98",
            "54244264e1594414871336229e25b7f5",
            "cce0f1067e3b4b8b8c94842c5056029b",
            "71559e7f42334070a3ef274d28c86129",
            "4c99cfd8783a42849fb00372586033d7",
            "d1446fcfe44c41869402847c88c7a61e",
            "7f9a1713c1384fe0903e7ece37a4ac18",
            "91888b1aae3d4ca6819e45a97d93440f",
            "76f52a90e9f14454984fe13a72e1db62",
            "5c491a74e5c949239a31072b15a8dd50"
          ]
        },
        "id": "Fp23tuPbFBaH",
        "outputId": "638c6c36-8a02-48a6-c69a-7402f54ce901"
      },
      "source": [
        "from rouge import Rouge\n",
        "import razdel\n",
        "from tqdm.notebook import tqdm\n",
        "\n",
        "import copy\n",
        "\n",
        "def build_oracle_summary_greedy(text, gold_summary, calc_score, lower=True, max_sentences=30):\n",
        "    '''\n",
        "    Жадное построение oracle summary\n",
        "    '''\n",
        "    gold_summary = gold_summary.lower() if lower else gold_summary\n",
        "    # Делим текст на предложения\n",
        "    sentences = [sentence.text.lower() if lower else sentence.text for sentence in razdel.sentenize(text)][:max_sentences]\n",
        "    n_sentences = len(sentences)\n",
        "    oracle_summary_sentences = set()\n",
        "    \n",
        "    score = -1.0\n",
        "    summaries = []\n",
        "    for _ in range(n_sentences):\n",
        "        for i in range(n_sentences):\n",
        "            if i in oracle_summary_sentences:\n",
        "                continue\n",
        "            current_summary_sentences = copy.copy(oracle_summary_sentences)\n",
        "            # Добавляем какое-то предложения к уже существующему summary\n",
        "            current_summary_sentences.add(i)\n",
        "            current_summary = \" \".join([sentences[index] for index in sorted(list(current_summary_sentences))])\n",
        "            # Считаем метрики\n",
        "            current_score = calc_score(current_summary, gold_summary)\n",
        "            summaries.append((current_score, current_summary_sentences))\n",
        "        # Если получилось улучшить метрики с добавлением какого-либо предложения, то пробуем добавить ещё\n",
        "        # Иначе на этом заканчиваем\n",
        "        best_summary_score, best_summary_sentences = max(summaries)\n",
        "        if best_summary_score <= score:\n",
        "            break\n",
        "        oracle_summary_sentences = best_summary_sentences\n",
        "        score = best_summary_score\n",
        "    oracle_summary = \" \".join([sentences[index] for index in sorted(list(oracle_summary_sentences))])\n",
        "    return oracle_summary, oracle_summary_sentences\n",
        "\n",
        "def calc_single_score(pred_summary, gold_summary, rouge):\n",
        "    return rouge.get_scores([pred_summary], [gold_summary], avg=True)['rouge-2']['f']\n",
        "\n",
        "def add_oracle_summary_to_records(records, max_sentences=30, lower=True, nrows=1000):\n",
        "    rouge = Rouge()\n",
        "    for i, record in tqdm(enumerate(records)):\n",
        "        if i >= nrows:\n",
        "            break\n",
        "        text = record[\"text\"]\n",
        "        summary = record[\"summary\"]\n",
        "\n",
        "        summary = summary.lower() if lower else summary\n",
        "        sentences = [sentence.text.lower() if lower else sentence.text for sentence in razdel.sentenize(text)][:max_sentences]\n",
        "        oracle_summary, sentences_indicies = build_oracle_summary_greedy(text, summary, calc_score=lambda x, y: calc_single_score(x, y, rouge),\n",
        "                                                                         lower=lower, max_sentences=max_sentences)\n",
        "        record[\"sentences\"] = sentences\n",
        "        record[\"oracle_sentences\"] = list(sentences_indicies)\n",
        "        record[\"oracle_summary\"] = oracle_summary\n",
        "\n",
        "    return records[:nrows]\n",
        "\n",
        "ext_train_records = add_oracle_summary_to_records(train_records, nrows=2048)\n",
        "ext_val_records = add_oracle_summary_to_records(val_records, nrows=256)\n",
        "ext_test_records = add_oracle_summary_to_records(test_records, nrows=256)"
      ],
      "execution_count": 10,
      "outputs": [
        {
          "output_type": "display_data",
          "data": {
            "application/vnd.jupyter.widget-view+json": {
              "model_id": "f4ced81628314337b702dd0b5ac35590",
              "version_minor": 0,
              "version_major": 2
            },
            "text/plain": [
              "0it [00:00, ?it/s]"
            ]
          },
          "metadata": {}
        },
        {
          "output_type": "display_data",
          "data": {
            "application/vnd.jupyter.widget-view+json": {
              "model_id": "505512f3c2064573bcccbf2d5316f2fa",
              "version_minor": 0,
              "version_major": 2
            },
            "text/plain": [
              "0it [00:00, ?it/s]"
            ]
          },
          "metadata": {}
        },
        {
          "output_type": "display_data",
          "data": {
            "application/vnd.jupyter.widget-view+json": {
              "model_id": "b65215d485e4482989d4baede1f920d1",
              "version_minor": 0,
              "version_major": 2
            },
            "text/plain": [
              "0it [00:00, ?it/s]"
            ]
          },
          "metadata": {}
        }
      ]
    },
    {
      "cell_type": "markdown",
      "metadata": {
        "id": "UlXXc8qUHC5m"
      },
      "source": [
        "### Составление батчей"
      ]
    },
    {
      "cell_type": "code",
      "metadata": {
        "id": "YATQKCuqHPo3",
        "colab": {
          "base_uri": "https://localhost:8080/"
        },
        "outputId": "d3d0fd77-7a28-4a57-97b3-f16434b61e41"
      },
      "source": [
        "import torch\n",
        "device = torch.device('cuda' if torch.cuda.is_available() else 'cpu')\n",
        "device"
      ],
      "execution_count": 11,
      "outputs": [
        {
          "output_type": "execute_result",
          "data": {
            "text/plain": [
              "device(type='cuda')"
            ]
          },
          "metadata": {},
          "execution_count": 11
        }
      ]
    },
    {
      "cell_type": "code",
      "metadata": {
        "id": "MNyxstTChK3C"
      },
      "source": [
        "import random\n",
        "import math\n",
        "import razdel\n",
        "import torch\n",
        "import numpy as np\n",
        "from rouge import Rouge\n",
        "\n",
        "\n",
        "class BatchIterator():\n",
        "    def __init__(self, records, vocabulary, batch_size, bpe_processor, shuffle=True, lower=True, max_sentences=30, max_sentence_length=50, device=torch.device('cpu')):\n",
        "        self.records = records\n",
        "        self.num_samples = len(records)\n",
        "        self.batch_size = batch_size\n",
        "        self.bpe_processor = bpe_processor\n",
        "        self.shuffle = shuffle\n",
        "        self.batches_count = int(math.ceil(self.num_samples / batch_size))\n",
        "        self.lower = lower\n",
        "        self.rouge = Rouge()\n",
        "        self.vocabulary = vocabulary\n",
        "        self.max_sentences = max_sentences\n",
        "        self.max_sentence_length = max_sentence_length\n",
        "        self.device = device\n",
        "        \n",
        "    def __len__(self):\n",
        "        return self.batches_count\n",
        "    \n",
        "    def __iter__(self):\n",
        "        indices = np.arange(self.num_samples)\n",
        "        if self.shuffle:\n",
        "            np.random.shuffle(indices)\n",
        "\n",
        "        for start in range(0, self.num_samples, self.batch_size):\n",
        "            end = min(start + self.batch_size, self.num_samples)\n",
        "            batch_indices = indices[start:end]\n",
        "\n",
        "            batch_inputs = []\n",
        "            batch_outputs = []\n",
        "            max_sentence_length = 0\n",
        "            max_sentences = 0\n",
        "            batch_records = []\n",
        "\n",
        "            for data_ind in batch_indices:\n",
        "                \n",
        "                record = self.records[data_ind]\n",
        "                batch_records.append(record)\n",
        "                text = record[\"text\"]\n",
        "                summary = record[\"summary\"]\n",
        "                summary = summary.lower() if self.lower else summary\n",
        "\n",
        "                if \"sentences\" not in record:\n",
        "                    sentences = [sentence.text.lower() if self.lower else sentence.text for sentence in razdel.sentenize(text)][:self.max_sentences]\n",
        "                else:\n",
        "                    sentences = record[\"sentences\"]\n",
        "                max_sentences = max(len(sentences), max_sentences)\n",
        "                \n",
        "                # номера предложений, которые в нашем саммари\n",
        "                if \"oracle_sentences\" not in record:\n",
        "                    calc_score = lambda x, y: calc_single_score(x, y, self.rouge)\n",
        "                    sentences_indicies = build_oracle_summary_greedy(text, summary, calc_score=calc_score, lower=self.lower, max_sentences=self.max_sentences)[1]\n",
        "                else:   \n",
        "                    sentences_indicies = record[\"oracle_sentences\"]\n",
        "                \n",
        "                # inputs - индексы слов в предложении\n",
        "                inputs = [bpe_processor.encode(sentence)[:self.max_sentence_length] for sentence in sentences]\n",
        "                max_sentence_length = max(max_sentence_length, max([len(tokens) for tokens in inputs]))\n",
        "                \n",
        "                # получение метки класса предложения\n",
        "                outputs = [int(i in sentences_indicies) for i in range(len(sentences))] # list of 0 and 1\n",
        "                \n",
        "                batch_inputs.append(inputs)\n",
        "                batch_outputs.append(outputs)\n",
        "\n",
        "            tensor_inputs = torch.zeros((self.batch_size, max_sentences, max_sentence_length), dtype=torch.long, device=self.device)\n",
        "            # we add index 2 for padding\n",
        "            tensor_outputs = torch.zeros((self.batch_size, max_sentences), dtype=torch.float32, device=self.device)\n",
        "            tensor_outputs = tensor_outputs + 2\n",
        "            # tensor_outputs =  torch.full((self.batch_size, max_sentences), dtype=torch.float32, device=self.device, fill_value = 2)\n",
        "\n",
        "            for i, inputs in enumerate(batch_inputs):\n",
        "                for j, sentence_tokens in enumerate(inputs):\n",
        "                    tensor_inputs[i][j][:len(sentence_tokens)] = torch.tensor(sentence_tokens, dtype=torch.int64)\n",
        "\n",
        "            for i, outputs in enumerate(batch_outputs):\n",
        "                tensor_outputs[i][:len(outputs)] = torch.LongTensor(outputs)\n",
        "\n",
        "            tensor_outputs = tensor_outputs.long()\n",
        "            yield {\n",
        "                'inputs': tensor_inputs,\n",
        "                'outputs': tensor_outputs,\n",
        "                'records': batch_records\n",
        "            }"
      ],
      "execution_count": 12,
      "outputs": []
    },
    {
      "cell_type": "code",
      "metadata": {
        "id": "5ug9MIObdi03"
      },
      "source": [
        "train_iterator = BatchIterator(ext_train_records, vocabulary, 32, bpe_processor, device=device)\n",
        "val_iterator = BatchIterator(ext_val_records, vocabulary, 32, bpe_processor, device=device)\n",
        "test_iterator = BatchIterator(ext_test_records, vocabulary, 32, bpe_processor, device=device)"
      ],
      "execution_count": 13,
      "outputs": []
    },
    {
      "cell_type": "markdown",
      "metadata": {
        "id": "yPlJMg0_dQM-"
      },
      "source": [
        "## Extractor -  SummaRuNNer\n",
        " https://arxiv.org/pdf/1611.04230.pdf\n"
      ]
    },
    {
      "cell_type": "markdown",
      "metadata": {
        "id": "4BSsnfe4t1uK"
      },
      "source": [
        "### Homework\n",
        "\n",
        "* В данной реализации в `outputs` в качестве padding используется индекс 0. Измените в функции \\_\\_iter__ индекс padding, чтобы он не совпадал с классом 0 или 1, например, 2. \n",
        "* В качестве criterion используйте `CrossEntropyLoss`вместо `BCEWithLogitsLoss`\n",
        "* Из-за смены criterion, вы уже должны подавать на вход criterion не одно число, а logits для каждого класса. Перед подачей logits вы можете отфильтровать предсказания для класса padding. В этом пункте вам придется изменять файл `train_model.py`, а именно функциии `train` и `evaluate`.\n",
        "* Используйте два варианта обучения: c весами в `CrossEntropyLoss` и без\n",
        "* Также сравните `inference`, когда вы ранжируете logits, и когды вы выбираете предложения, у которых logits > 0, в двух вариантах обучения. \n",
        "* Реализуйте дополнительно характеристику предложения `novelty`. Как влияет добавление `novelty` на качество summary?\n",
        "* Постарайтесь улучшить качество модели, полученной на семинаре: $BLEU \\approx 0.45$"
      ]
    },
    {
      "cell_type": "code",
      "metadata": {
        "id": "iW7iS76KeEdO"
      },
      "source": [
        "import numpy as np\n",
        "\n",
        "import torch\n",
        "import torch.nn as nn\n",
        "import torch.nn.functional as F\n",
        "import torch.optim as optim\n",
        "from torch.autograd import Variable\n",
        "\n",
        "# from torch.nn.utils.rnn import pack_padded_sequence as pack\n",
        "# from torch.nn.utils.rnn import pad_packed_sequence as unpack\n",
        "\n",
        "class SentenceEncoderRNN(nn.Module):\n",
        "    def __init__(self, input_size, embedding_dim, hidden_size, n_layers=3, dropout=0.3, bidirectional=True):\n",
        "        super().__init__()\n",
        "\n",
        "        num_directions = 2 if bidirectional else 1\n",
        "        assert hidden_size % num_directions == 0\n",
        "        hidden_size = hidden_size // num_directions\n",
        "\n",
        "        self.embedding_dim = embedding_dim\n",
        "        self.input_size = input_size\n",
        "        self.hidden_size = hidden_size\n",
        "        self.n_layers = n_layers\n",
        "        self.dropout = dropout\n",
        "        self.bidirectional = bidirectional\n",
        "\n",
        "        self.embedding_layer = nn.Embedding(input_size, embedding_dim)\n",
        "        self.rnn_layer = nn.LSTM(embedding_dim, hidden_size, n_layers, dropout=dropout, bidirectional=bidirectional, batch_first=True)\n",
        "        self.dropout_layer = nn.Dropout(dropout)\n",
        "\n",
        "    def forward(self, inputs, hidden=None):\n",
        "        embedded = self.dropout_layer(self.embedding_layer(inputs))\n",
        "        outputs, _ = self.rnn_layer(embedded, hidden)\n",
        "        sentences_embeddings = torch.mean(outputs, 1)\n",
        "        # [batch_size, hidden_size]\n",
        "        return sentences_embeddings\n",
        "\n",
        "class SentenceTaggerRNN(nn.Module):\n",
        "    def __init__(self,\n",
        "                 vocabulary_size,\n",
        "                 use_content=True,\n",
        "                 use_salience=True,\n",
        "                 use_novelty=True,\n",
        "                 token_embedding_dim=128,\n",
        "                 sentence_encoder_hidden_size=256,\n",
        "                 hidden_size=256,\n",
        "                 bidirectional=True,\n",
        "                 sentence_encoder_n_layers=2,\n",
        "                 sentence_encoder_dropout=0.3,\n",
        "                 sentence_encoder_bidirectional=True,\n",
        "                 n_layers=2,\n",
        "                 dropout=0.3):\n",
        "        \n",
        "        super().__init__()\n",
        "\n",
        "        num_directions = 2 if bidirectional else 1\n",
        "        assert hidden_size % num_directions == 0\n",
        "        hidden_size = hidden_size // num_directions\n",
        "\n",
        "        self.hidden_size = hidden_size\n",
        "        self.n_layers = n_layers\n",
        "        self.dropout = dropout\n",
        "        self.bidirectional = bidirectional\n",
        "        self.num_directions = num_directions\n",
        "\n",
        "        self.sentence_encoder = SentenceEncoderRNN(vocabulary_size, token_embedding_dim,\n",
        "                                                   sentence_encoder_hidden_size, sentence_encoder_n_layers, \n",
        "                                                   sentence_encoder_dropout, sentence_encoder_bidirectional)\n",
        "        \n",
        "        self.rnn_layer = nn.LSTM(sentence_encoder_hidden_size, hidden_size, n_layers, dropout=dropout,\n",
        "                           bidirectional=bidirectional, batch_first=True)\n",
        "        \n",
        "        self.dropout_layer = nn.Dropout(dropout)\n",
        "        self.content_linear_layer = nn.Linear(hidden_size * 2, 1) # vector hj @ vector Wc -> scalar\n",
        "        self.document_linear_layer = nn.Linear(hidden_size * 2, hidden_size * 2) # document representation, vector [hfj, hbj] @ matrix Wd -> vector d\n",
        "        self.salience_linear_layer = nn.Linear(hidden_size * 2, hidden_size * 2) # vector d @ matrix Ws -> vector, в forward еще домножим на hj^T, и будет scalar \n",
        "        self.novelty_linear_layer = nn.Linear(hidden_size * 2, hidden_size * 2) # vector sj @ matrix Wr -> vector, в forward еще домножим на hj^T, и будет scalar \n",
        "        self.tanh_layer = nn.Tanh()\n",
        "        self.sigmoid_layer = nn.Sigmoid()\n",
        "\n",
        "        self.use_content = use_content\n",
        "        self.use_salience = use_salience\n",
        "        self.use_novelty = use_novelty\n",
        "\n",
        "    def forward(self, inputs, hidden=None):\n",
        "        # parameters of the probability\n",
        "        content = 0\n",
        "        salience = 0\n",
        "        novelty = 0\n",
        "\n",
        "        # [batch_size, seq num, seq_len]\n",
        "        batch_size = inputs.size(0)\n",
        "        sentences_count = inputs.size(1) # seq num\n",
        "        tokens_count = inputs.size(2) # seq_len\n",
        "        inputs = inputs.reshape(-1, tokens_count)\n",
        "        # [batch_size * seq num, seq_len]\n",
        "\n",
        "        embedded_sentences = self.sentence_encoder(inputs)\n",
        "        embedded_sentences = self.dropout_layer(embedded_sentences.reshape(batch_size, sentences_count, -1))\n",
        "        # [batch_size *  seq num, seq_len, hidden_size] -> [batch_size, seq num, hidden_size]\n",
        "\n",
        "        outputs, _ = self.rnn_layer(embedded_sentences, hidden)\n",
        "        # [batch_size, seq num, hidden_size]\n",
        "\n",
        "        document_embedding = self.tanh_layer(self.document_linear_layer(torch.mean(outputs, 1)))\n",
        "        # [batch_size, hidden_size]\n",
        "\n",
        "        # W * h^T\n",
        "        if self.use_content:\n",
        "            content = self.content_linear_layer(outputs).squeeze(2) # 1-representation\n",
        "        # [batch_size, seq num]\n",
        "\n",
        "        # h^T * W * d\n",
        "        if self.use_salience:\n",
        "            salience = torch.bmm(outputs, self.salience_linear_layer(document_embedding).unsqueeze(2)).squeeze(2) # 2-representation\n",
        "        # [batch_size, seq num, hidden_size] * [batch_size, hidden_size, 1] = [batch_size, seq num, ]\n",
        "\n",
        "        # -h^T * W * tanh(s)\n",
        "        if self.use_novelty:\n",
        "            # at every step add novelty to prediction of the sentence\n",
        "            predictions = content + salience # [batch_size, seq num]\n",
        "            \n",
        "            # 0) initialize summary_representation and novelty by zeros\n",
        "            # YOUR CODE\n",
        "            summary_representation = torch.zeros((batch_size, self.hidden_size * self.num_directions)).to(device) # для каждого документа\n",
        "            novelty = torch.zeros((batch_size, sentences_count)).to(device) # для каждого предложения\n",
        "\n",
        "            for sentence_num in range(sentences_count):\n",
        "\n",
        "                # 1) take sentence_num_state from outputs(representation of the sentence with number sentence_num)\n",
        "                sentence_num_state = outputs[:, sentence_num, :].unsqueeze(1) \n",
        "                # hj: [batch_size, seq num, hidden_size] -> [batch_size, hidden_size] -> [batch_size, 1, hidden_size] [32, 1, 256]\n",
        "\n",
        "                # 2) calculate novelty for current sentence\n",
        "                # part_novelty = self.tanh_layer(self.novelty_linear_layer(summary_representation))\n",
        "                part_novelty = self.novelty_linear_layer(self.tanh_layer(summary_representation)).unsqueeze(2)\n",
        "                # [batch_size, hidden_size] -> [batch_size, hidden_size, 1] [32, 256, 1]\n",
        "                current_novelty = -torch.bmm(sentence_num_state, part_novelty).squeeze(2)\n",
        "                # [batch_size, 1, 1] -> [batch_size, 1] [32, 1] - для текущего предложения\n",
        "\n",
        "                # 3) add novelty to predictions\n",
        "                # 4) calculcate probability for current sentence\n",
        "                probability = self.sigmoid_layer(predictions[:, sentence_num].unsqueeze(1) + current_novelty)\n",
        "                # [batch_size, 1] [32, 1]\n",
        "\n",
        "                # 5) add sentence_num_state with the weight which is equal to probability to summary_representation\n",
        "                current_sum_repr = torch.bmm(probability.unsqueeze(2), sentence_num_state).squeeze(1)\n",
        "                # [batch_size, 1, 1] @ [batch_size, 1, hidden_size] -> [batch_size, 1, hidden_size] -> [batch_size, hidden_size]\n",
        "                summary_representation = summary_representation + current_sum_repr\n",
        "                # [batch_size, hidden_size]\n",
        "\n",
        "                novelty[:, sentence_num] = current_novelty.squeeze(1)\n",
        "\n",
        "        return content + salience + novelty  # [batch_size, seq num]"
      ],
      "execution_count": 14,
      "outputs": []
    },
    {
      "cell_type": "markdown",
      "metadata": {
        "id": "QxpL3AtOrctD"
      },
      "source": [
        "## Model\n",
        "$P\\left(y_{j} = 1 \\mid \\mathbf{h}_{j}, \\mathbf{s}_{j}, \\mathbf{d}\\right)=\\sigma\\left(W_{c} \\mathbf{h}_{j} + \\mathbf{h}_{j}^{T} W_{s} \\mathbf{d}\\right)$\n",
        "--------------------"
      ]
    },
    {
      "cell_type": "code",
      "metadata": {
        "id": "-QC1ZmuQfB7f",
        "colab": {
          "base_uri": "https://localhost:8080/"
        },
        "outputId": "51100c7f-b51b-479a-9a57-c9052ae3dd29"
      },
      "source": [
        "vocab_size = len(vocabulary)\n",
        "model = SentenceTaggerRNN(vocab_size, use_novelty=False).to(device)\n",
        "# # model = SentenceTaggerRNN(vocab_size, use_novelty=True).to(device)\n",
        "\n",
        "params_count = np.sum([p.numel() for p in model.parameters() if p.requires_grad])\n",
        "print(\"Trainable params: {}\".format(params_count))"
      ],
      "execution_count": 15,
      "outputs": [
        {
          "output_type": "stream",
          "name": "stdout",
          "text": [
            "Trainable params: 2927617\n"
          ]
        }
      ]
    },
    {
      "cell_type": "code",
      "metadata": {
        "id": "f9Q3aFHhgsB4",
        "colab": {
          "base_uri": "https://localhost:8080/"
        },
        "outputId": "398ada5b-3cf0-4e5b-e3e5-41c7802fe8a6"
      },
      "source": [
        "for name, param in model.named_parameters():\n",
        "    print(f\"{name}: {param.numel()}\")"
      ],
      "execution_count": 16,
      "outputs": [
        {
          "output_type": "stream",
          "name": "stdout",
          "text": [
            "sentence_encoder.embedding_layer.weight: 1280000\n",
            "sentence_encoder.rnn_layer.weight_ih_l0: 65536\n",
            "sentence_encoder.rnn_layer.weight_hh_l0: 65536\n",
            "sentence_encoder.rnn_layer.bias_ih_l0: 512\n",
            "sentence_encoder.rnn_layer.bias_hh_l0: 512\n",
            "sentence_encoder.rnn_layer.weight_ih_l0_reverse: 65536\n",
            "sentence_encoder.rnn_layer.weight_hh_l0_reverse: 65536\n",
            "sentence_encoder.rnn_layer.bias_ih_l0_reverse: 512\n",
            "sentence_encoder.rnn_layer.bias_hh_l0_reverse: 512\n",
            "sentence_encoder.rnn_layer.weight_ih_l1: 131072\n",
            "sentence_encoder.rnn_layer.weight_hh_l1: 65536\n",
            "sentence_encoder.rnn_layer.bias_ih_l1: 512\n",
            "sentence_encoder.rnn_layer.bias_hh_l1: 512\n",
            "sentence_encoder.rnn_layer.weight_ih_l1_reverse: 131072\n",
            "sentence_encoder.rnn_layer.weight_hh_l1_reverse: 65536\n",
            "sentence_encoder.rnn_layer.bias_ih_l1_reverse: 512\n",
            "sentence_encoder.rnn_layer.bias_hh_l1_reverse: 512\n",
            "rnn_layer.weight_ih_l0: 131072\n",
            "rnn_layer.weight_hh_l0: 65536\n",
            "rnn_layer.bias_ih_l0: 512\n",
            "rnn_layer.bias_hh_l0: 512\n",
            "rnn_layer.weight_ih_l0_reverse: 131072\n",
            "rnn_layer.weight_hh_l0_reverse: 65536\n",
            "rnn_layer.bias_ih_l0_reverse: 512\n",
            "rnn_layer.bias_hh_l0_reverse: 512\n",
            "rnn_layer.weight_ih_l1: 131072\n",
            "rnn_layer.weight_hh_l1: 65536\n",
            "rnn_layer.bias_ih_l1: 512\n",
            "rnn_layer.bias_hh_l1: 512\n",
            "rnn_layer.weight_ih_l1_reverse: 131072\n",
            "rnn_layer.weight_hh_l1_reverse: 65536\n",
            "rnn_layer.bias_ih_l1_reverse: 512\n",
            "rnn_layer.bias_hh_l1_reverse: 512\n",
            "content_linear_layer.weight: 256\n",
            "content_linear_layer.bias: 1\n",
            "document_linear_layer.weight: 65536\n",
            "document_linear_layer.bias: 256\n",
            "salience_linear_layer.weight: 65536\n",
            "salience_linear_layer.bias: 256\n",
            "novelty_linear_layer.weight: 65536\n",
            "novelty_linear_layer.bias: 256\n"
          ]
        }
      ]
    },
    {
      "cell_type": "code",
      "metadata": {
        "id": "05s8UWh81cjG"
      },
      "source": [
        "# !gdown https://drive.google.com/uc?id=1MiS_iczALcyF7zGDPY6niyeD82P0_PBH -O train_model.py\n",
        "import train_model_summary\n",
        "import imp \n",
        "imp.reload(train_model_summary)\n",
        "from train_model_summary import train_with_logs"
      ],
      "execution_count": 17,
      "outputs": []
    },
    {
      "cell_type": "code",
      "metadata": {
        "id": "mPKh6MNUbL7M"
      },
      "source": [
        "def class_weights(records):\n",
        "    outputs = 0\n",
        "    len_outputs = 0\n",
        "    for record in records:\n",
        "        sentences = record['sentences']\n",
        "        sentences_indicies = record['oracle_sentences']\n",
        "        output = [int(i in sentences_indicies) for i in range(len(sentences))] # список 0 и 1\n",
        "        len_outputs += len(output)\n",
        "        output = np.sum(output) # число элементов класса 1\n",
        "        outputs += output\n",
        "    \n",
        "    n_0 = outputs / len_outputs\n",
        "    n_1 = 1 - outputs / len_outputs\n",
        "    weights = torch.tensor([n_0, n_1], dtype=torch.float32)    \n",
        "    return weights "
      ],
      "execution_count": 18,
      "outputs": []
    },
    {
      "cell_type": "code",
      "metadata": {
        "colab": {
          "base_uri": "https://localhost:8080/"
        },
        "id": "8oNSZdbxCvz8",
        "outputId": "8ddd555f-1f61-4482-caba-de1569bd5324"
      },
      "source": [
        "weights = class_weights(ext_train_records)\n",
        "weights "
      ],
      "execution_count": 19,
      "outputs": [
        {
          "output_type": "execute_result",
          "data": {
            "text/plain": [
              "tensor([0.0769, 0.9231])"
            ]
          },
          "metadata": {},
          "execution_count": 19
        }
      ]
    },
    {
      "cell_type": "code",
      "metadata": {
        "id": "rwrhG4v71yts"
      },
      "source": [
        "def train(model, use_class_weights, N_EPOCHS, CLIP, lr=1e-3):\n",
        "    optimizer = optim.Adam(model.parameters(), lr)\n",
        "    if use_class_weights:\n",
        "        # weights depend on the number of objects of class 0 and 1\n",
        "        # YOUR CODE\n",
        "        weights = class_weights(ext_train_records).to(device)\n",
        "        criterion = nn.CrossEntropyLoss(ignore_index=2, weight=weights)\n",
        "    else:\n",
        "        criterion = nn.CrossEntropyLoss(ignore_index=2)\n",
        "    train_with_logs(model, train_iterator, val_iterator, optimizer, criterion, N_EPOCHS, CLIP)"
      ],
      "execution_count": 20,
      "outputs": []
    },
    {
      "cell_type": "markdown",
      "metadata": {
        "id": "vuv4Sh2Vj5Yr"
      },
      "source": [
        "## Inference"
      ]
    },
    {
      "cell_type": "code",
      "metadata": {
        "id": "wZ96X37bb_PV"
      },
      "source": [
        "from train_model_summary import punct_detokenize, postprocess\n",
        "\n",
        "def inference_summarunner(model, iterator, top_k, threshold):\n",
        "\n",
        "    references = []\n",
        "    predictions = []\n",
        "\n",
        "    model.eval()\n",
        "    for batch in test_iterator:\n",
        "\n",
        "        logits = model(batch['inputs']) # [batch_size, seq num]\n",
        "\n",
        "        if top_k:\n",
        "          sum_in = torch.argsort(logits, dim=1)[:, -top_k:]\n",
        "          # [batch_size, индексы 3 предложений с наибольшими логитами в порядке возрастания]\n",
        "        \n",
        "        for i in range(len(batch['outputs'])):\n",
        "\n",
        "            summary = batch['records'][i]['summary'].lower()\n",
        "\n",
        "            if top_k:\n",
        "                pred_summary = ' '.join([batch['records'][i]['sentences'][ind] for ind in sum_in.sort(dim=1)[0][i]]) \n",
        "                # .sort[0] - список номеров предложений, а .sort[1] - список индексов \n",
        "            else:\n",
        "                sum_in = torch.nonzero(logits[i] > threshold, as_tuple=True)[0]\n",
        "                # torch.nonzero(x, as_tuple=True) - Возвращает кортеж одномерных тензоров, по одному для каждого измерения в input, \n",
        "                # каждый из которых содержит индексы (в этом измерении) всех ненулевых элементов input\n",
        "                # >>> torch.nonzero(torch.tensor([1, 1, 1, 0, 1]))\n",
        "                #     tensor([[ 0],\n",
        "                #             [ 1],\n",
        "                #             [ 2],\n",
        "                #             [ 4]])\n",
        "                # sentences = batch['records'][i]['sentences']\n",
        "                sentences = batch['records'][i]['sentences']\n",
        "                pred_summary = ' '.join([sentences[ind] for ind in sum_in if ind < len(sentences)])\n",
        "\n",
        "            summary, pred_summary = postprocess(summary, pred_summary)\n",
        "\n",
        "            references.append(summary)\n",
        "            predictions.append(pred_summary)\n",
        "\n",
        "    calc_scores(references, predictions)"
      ],
      "execution_count": 21,
      "outputs": []
    },
    {
      "cell_type": "markdown",
      "metadata": {
        "id": "1dDbwK4KgM0g"
      },
      "source": [
        "Модель_1:\n",
        "* без novelty \n",
        "* без весов в CrossEntropyLoss"
      ]
    },
    {
      "cell_type": "code",
      "metadata": {
        "colab": {
          "base_uri": "https://localhost:8080/",
          "height": 577
        },
        "id": "njsDpOjJFgIa",
        "outputId": "b9fa5c8c-de8f-492d-f74c-3c588d296ed4"
      },
      "source": [
        "model_1 = SentenceTaggerRNN(vocab_size, use_novelty=False).to(device)\n",
        "train(model_1, False, N_EPOCHS=10, CLIP=1, lr=1e-5)"
      ],
      "execution_count": 23,
      "outputs": [
        {
          "output_type": "display_data",
          "data": {
            "image/png": "[encoded data removed]",
            "text/plain": [
              "<Figure size 864x576 with 2 Axes>"
            ]
          },
          "metadata": {
            "needs_background": "light"
          }
        },
        {
          "output_type": "stream",
          "name": "stdout",
          "text": [
            "Epoch: 10 | Time: 0m 8s\n",
            "\tTrain Loss: 0.246 | Train PPL:   1.279\n",
            "\t Val. Loss: 0.274 |  Val. PPL:   1.316\n"
          ]
        }
      ]
    },
    {
      "cell_type": "code",
      "metadata": {
        "colab": {
          "base_uri": "https://localhost:8080/"
        },
        "id": "Q-jtlLHthxs4",
        "outputId": "77d590ab-94ca-4cdb-b9d4-058cc10ad24a"
      },
      "source": [
        "model_1.load_state_dict(torch.load('best-val-model.pt'))\n",
        "inference_summarunner(model_1, test_iterator, top_k=3, threshold=None)\n",
        "\n",
        "# BLEU:  0.4483358093852308\n",
        "# ROUGE:  {'rouge-1': {'f': 0.317331812475369, 'p': 0.30313415143950323, 'r': 0.3531967563454289}, \n",
        "#          'rouge-2': {'f': 0.14277322190268438, 'p': 0.13475932187114895, 'r': 0.16339726182715178}"
      ],
      "execution_count": 24,
      "outputs": [
        {
          "output_type": "stream",
          "name": "stdout",
          "text": [
            "Count: 256\n",
            "Ref: на этой неделе состоится очередная « черная пятница » — время диких распродаж . однако продавцы придумали очень много уловок , как заставить купить лишнее . в роспотребнадзоре советуют россиянам проверять цены на товары до начала сезона массовых скидок . не исключено , что перед распродажей стоимость искусственно завысили , а потом опустили до обычной .\n",
            "Hyp: в преддверии очередных распродаж роспотребнадзор на своем сайте дал советы россиянам , как не попасться на трюки продавцов . очередные акции в рамках « черной пятницы » ожидаются 29 ноября . в ведомстве предупреждают , что слишком низкая цена может быть признаком подделки .\n",
            "BLEU:  0.4483358093852308\n",
            "ROUGE:  {'rouge-1': {'f': 0.317331812475369, 'p': 0.30313415143950323, 'r': 0.3531967563454289}, 'rouge-2': {'f': 0.14277322190268438, 'p': 0.13475932187114895, 'r': 0.16339726182715178}, 'rouge-l': {'f': 0.2715462303275748, 'p': 0.2739258120398611, 'r': 0.3186041265424389}}\n"
          ]
        }
      ]
    },
    {
      "cell_type": "code",
      "metadata": {
        "colab": {
          "base_uri": "https://localhost:8080/"
        },
        "id": "pom6wnhThWoy",
        "outputId": "31cbec23-ea6f-4687-df17-5546a264b2ab"
      },
      "source": [
        "inference_summarunner(model_1, test_iterator, top_k=None, threshold=-1)\n",
        "\n",
        "# threshold=-0.7\n",
        "# BLEU:  0.3499424801339186\n",
        "# ROUGE:  {'rouge-1': {'f': 0.29476853765758354, 'p': 0.413758020887657, 'r': 0.2608015612906056}, \n",
        "#          'rouge-2': {'f': 0.13977614653433676, 'p': 0.20740220845095092, 'r': 0.12425970812525651}\n",
        "\n",
        "# threshold=-0.8\n",
        "# BLEU:  0.42978272064329415\n",
        "# ROUGE:  {'rouge-1': {'f': 0.3091599594389451, 'p': 0.3722220316996672, 'r': 0.2958081580153784}, \n",
        "#          'rouge-2': {'f': 0.14363431961675607, 'p': 0.17976505888071828, 'r': 0.1376978901699942}\n",
        "\n",
        "# threshold=-0.9 - MAX\n",
        "# BLEU:  0.4570086890344996\n",
        "# ROUGE:  {'rouge-1': {'f': 0.3070905510375507, 'p': 0.33363004046982014, 'r': 0.31718559862006407}, \n",
        "#          'rouge-2': {'f': 0.13992974937294073, 'p': 0.1542542644154941, 'r': 0.14694938004773525}\n",
        "\n",
        "# threshold=-1\n",
        "# BLEU:  0.41530041844140325\n",
        "# ROUGE:  {'rouge-1': {'f': 0.3079819161292746, 'p': 0.306691874641566, 'r': 0.34792697816916957}, \n",
        "#          'rouge-2': {'f': 0.13781349397292814, 'p': 0.1376580769000347, 'r': 0.16017776671492848}"
      ],
      "execution_count": 31,
      "outputs": [
        {
          "output_type": "stream",
          "name": "stdout",
          "text": [
            "Count: 256\n",
            "Ref: следователи в калужской области расследуют дело о доведении до самоубийства 21-летнего военнослужащего сергея сафонова , тело которого нашли в кабинете командира части . родственники солдата уверены , что его убили , поскольку тело было посмертно загримировано . независимая экспертиза обнаружила под гримом на лице погибшего синяки , а на груди и руках – гематомы и ссадины , « которые могут свидетельствовать о борьбе » .\n",
            "Hyp: в воинской части в козельске калужской области погиб 21-летний солдат-срочник сергей сафонов – его тело обнаружили в кабинете командира части . по факту трагедии военное следственное управление скр по ракетным войскам стратегического назначения ( рвсн ) возбудило уголовное дело по ст . 110 ук рф « доведение до самоубийства » . основанием для этого стало заключение калужского областного бюро судебно-медицинских экспертиз , согласно которому причиной смерти сафонова стала « асфиксия » .\n",
            "BLEU:  0.41530041844140325\n",
            "ROUGE:  {'rouge-1': {'f': 0.3079819161292746, 'p': 0.306691874641566, 'r': 0.34792697816916957}, 'rouge-2': {'f': 0.13781349397292814, 'p': 0.1376580769000347, 'r': 0.16017776671492848}, 'rouge-l': {'f': 0.256031985578709, 'p': 0.2776966798265902, 'r': 0.3136635056037153}}\n"
          ]
        }
      ]
    },
    {
      "cell_type": "markdown",
      "metadata": {
        "id": "Z-gMTTMEhZiR"
      },
      "source": [
        "Модель_2:\n",
        "* с novelty \n",
        "* без весов в CrossEntropyLoss"
      ]
    },
    {
      "cell_type": "code",
      "metadata": {
        "colab": {
          "base_uri": "https://localhost:8080/",
          "height": 577
        },
        "id": "tSdZLSknFjk6",
        "outputId": "9a5404db-e924-4ffb-aa05-229da27feb6c"
      },
      "source": [
        "model_2 = SentenceTaggerRNN(vocab_size, use_novelty=True).to(device)\n",
        "train(model_2, False, N_EPOCHS=10, CLIP=1, lr=1e-5)"
      ],
      "execution_count": 32,
      "outputs": [
        {
          "output_type": "display_data",
          "data": {
            "image/png": "[encoded data removed]",
            "text/plain": [
              "<Figure size 864x576 with 2 Axes>"
            ]
          },
          "metadata": {
            "needs_background": "light"
          }
        },
        {
          "output_type": "stream",
          "name": "stdout",
          "text": [
            "Epoch: 10 | Time: 0m 9s\n",
            "\tTrain Loss: 0.245 | Train PPL:   1.278\n",
            "\t Val. Loss: 0.269 |  Val. PPL:   1.309\n"
          ]
        }
      ]
    },
    {
      "cell_type": "code",
      "metadata": {
        "colab": {
          "base_uri": "https://localhost:8080/"
        },
        "id": "6XDl3rpJjmdO",
        "outputId": "1070223c-8b13-4707-fe9f-c2003f3158f9"
      },
      "source": [
        "model_2.load_state_dict(torch.load('best-val-model.pt'))\n",
        "inference_summarunner(model_2, test_iterator, top_k=3, threshold=None)\n",
        "\n",
        "# BLEU:  0.4483358093852308\n",
        "# ROUGE:  {'rouge-1': {'f': 0.3173318124753689, 'p': 0.30313415143950306, 'r': 0.3531967563454291}, \n",
        "#          'rouge-2': {'f': 0.14277322190268438, 'p': 0.1347593218711489, 'r': 0.16339726182715178}"
      ],
      "execution_count": 33,
      "outputs": [
        {
          "output_type": "stream",
          "name": "stdout",
          "text": [
            "Count: 256\n",
            "Ref: в преддверии президентских выборов 2020 года дональд трамп неустанно напоминает о своих достижениях за три года управления страной . успехи , конечно , впечатляющие , но многими из них глава сша обязан своему предшественнику бараку обаме , который нередко становится объектом критики со стороны нынешнего лидера .\n",
            "Hyp: в 2020 год президент сша дональд трамп вошел с лучшими за долгое время рейтингами одобрения . несмотря на скандалы , связанные с процессом импичмента , авторитет лидера вырос — опрос abc news и washington post показал , что 44 % американцев поддерживают политику действующего президента , а в сфере экономики этот показатель и вовсе достиг 56 % . в этом году трамп надеется переизбраться на второй срок , а потому регулярно напоминает о своих достижениях на посту президента .\n",
            "BLEU:  0.4483358093852308\n",
            "ROUGE:  {'rouge-1': {'f': 0.3173318124753689, 'p': 0.30313415143950306, 'r': 0.3531967563454291}, 'rouge-2': {'f': 0.14277322190268438, 'p': 0.1347593218711489, 'r': 0.16339726182715178}, 'rouge-l': {'f': 0.27154623032757486, 'p': 0.273925812039861, 'r': 0.318604126542439}}\n"
          ]
        }
      ]
    },
    {
      "cell_type": "code",
      "metadata": {
        "colab": {
          "base_uri": "https://localhost:8080/"
        },
        "id": "wHhkfSzHhxvi",
        "outputId": "9a425ecc-5c8d-488c-c120-c030a4671ab9"
      },
      "source": [
        "inference_summarunner(model_2, test_iterator, top_k=None, threshold=-0.451)\n",
        "\n",
        "# threshold=-0.5\n",
        "# BLEU:  0.43667696162222236\n",
        "# ROUGE:  {'rouge-1': {'f': 0.31147201422953247, 'p': 0.3082124764709252, 'r': 0.3459065477116978}, \n",
        "#          'rouge-2': {'f': 0.13963176845078265, 'p': 0.13770675928850162, 'r': 0.15906750310364767}\n",
        "\n",
        "# threshold=-0.6\n",
        "# BLEU:  0.38182147098246744\n",
        "# ROUGE:  {'rouge-1': {'f': 0.30897038879621475, 'p': 0.27838971547465535, 'r': 0.3824060646948633}, \n",
        "#          'rouge-2': {'f': 0.1362544714319801, 'p': 0.12123010762668746, 'r': 0.17562334884877176}\n",
        "\n",
        "# threshold=-0.4\n",
        "# BLEU:  0.4381023541514202\n",
        "# ROUGE:  {'rouge-1': {'f': 0.311561301260402, 'p': 0.3558574814148385, 'r': 0.2992752370375218}, \n",
        "#          'rouge-2': {'f': 0.14445174740749195, 'p': 0.1685957672592269, 'r': 0.13922833704978518}\n",
        "\n",
        "# threshold=-0.3\n",
        "# BLEU:  0.23812185637560082\n",
        "# ROUGE:  {'rouge-1': {'f': 0.28663192918741487, 'p': 0.4513868216281276, 'r': 0.22720018821404414}, \n",
        "#          'rouge-2': {'f': 0.13941209820238415, 'p': 0.2321053861813805, 'r': 0.10954423438783188}\n",
        "\n",
        "# threshold=-0.451 - MAX - threshold сместился немного ближе к 0 по сравнению с моделью без novelty\n",
        "# BLEU:  0.4635806690434093\n",
        "# ROUGE:  {'rouge-1': {'f': 0.3091350907308352, 'p': 0.33240345505004415, 'r': 0.3196513043942452}, \n",
        "#          'rouge-2': {'f': 0.1414146609055975, 'p': 0.15421190405137852, 'r': 0.14845312931073404}"
      ],
      "execution_count": 47,
      "outputs": [
        {
          "output_type": "stream",
          "name": "stdout",
          "text": [
            "Count: 256\n",
            "Ref: госдума приняла во втором чтении законопроект о поддержке отечественных производителей вина . задача депутатов — поддержать добросовестных виноделов и наказать тех , кто производит вино из низкосортных импортных виноматериалов . это сложнейшая задача для законодателя , поскольку и те , кто работает добросовестно , и те , кто выпускает алкоголь сомнительного качества , считаются отечественными производителями .\n",
            "Hyp: во вторник , 17 декабря , госдума приняла во втором чтении законопроект о продлении до 1 января 2023 года переходного периода для крымских виноделов . законопроект устанавливает особенности производства и оборота этилового спирта , алкогольной и спиртосодержащей продукции в крыму и севастополе . крымские производители спиртного будут обязаны до указанной даты оснастить технологическое оборудование приборами измерения и учета готовой продукции и оформить в собственность или в аренду производственные мощности для изготовления вина .\n",
            "BLEU:  0.4635806690434093\n",
            "ROUGE:  {'rouge-1': {'f': 0.30913509073083545, 'p': 0.33240345505004404, 'r': 0.31965130439424566}, 'rouge-2': {'f': 0.1414146609055975, 'p': 0.15421190405137852, 'r': 0.1484531293107341}, 'rouge-l': {'f': 0.25859896921902703, 'p': 0.3008028323618262, 'r': 0.28853831678759556}}\n"
          ]
        }
      ]
    },
    {
      "cell_type": "markdown",
      "metadata": {
        "id": "had-sQI0oJwo"
      },
      "source": [
        "Модель_3:\n",
        "* без novelty \n",
        "* с весами в CrossEntropyLoss\n",
        "\n"
      ]
    },
    {
      "cell_type": "code",
      "metadata": {
        "colab": {
          "base_uri": "https://localhost:8080/",
          "height": 577
        },
        "id": "d5rWDALTGJW5",
        "outputId": "b97c1468-8278-4135-afbf-43307baa7139"
      },
      "source": [
        "model_3 = SentenceTaggerRNN(vocab_size, use_novelty=False).to(device)\n",
        "train(model_3, True, N_EPOCHS=10, CLIP=1, lr=1e-5)"
      ],
      "execution_count": 48,
      "outputs": [
        {
          "output_type": "display_data",
          "data": {
            "image/png": "[encoded data removed]",
            "text/plain": [
              "<Figure size 864x576 with 2 Axes>"
            ]
          },
          "metadata": {
            "needs_background": "light"
          }
        },
        {
          "output_type": "stream",
          "name": "stdout",
          "text": [
            "Epoch: 10 | Time: 0m 8s\n",
            "\tTrain Loss: 0.620 | Train PPL:   1.859\n",
            "\t Val. Loss: 0.599 |  Val. PPL:   1.820\n"
          ]
        }
      ]
    },
    {
      "cell_type": "code",
      "metadata": {
        "id": "WmRZBZW6hxyN",
        "colab": {
          "base_uri": "https://localhost:8080/"
        },
        "outputId": "e849e623-2ce6-4253-98bd-aa3aa51e420b"
      },
      "source": [
        "model_3.load_state_dict(torch.load('best-val-model.pt'))\n",
        "inference_summarunner(model_3, test_iterator, top_k=3, threshold=None)\n",
        "\n",
        "# BLEU:  0.4483358093852308\n",
        "# ROUGE:  {'rouge-1': {'f': 0.31733181247536896, 'p': 0.3031341514395033, 'r': 0.35319675634542913}, \n",
        "#          'rouge-2': {'f': 0.1427732219026844, 'p': 0.13475932187114897, 'r': 0.16339726182715172}"
      ],
      "execution_count": 49,
      "outputs": [
        {
          "output_type": "stream",
          "name": "stdout",
          "text": [
            "Count: 256\n",
            "Ref: покупка анкарой у москвы зенитных ракетных систем с-400 и проведение турецкой стороной военной операции в сирии под названием « источник мира » , вероятно , станут причиной санкций в отношении турции со стороны сша . комитет сената одобрил законопроект о введении ограничений . парламентарии сша считают , что действия турции в последний год « вышли за рамки дозволенного » .\n",
            "Hyp: комитет сената сша по международным отношениям принял законопроект о введении санкций в отношении турции , причиной этого названа покупка анкарой у москвы зенитных ракетных систем с-400 и проведение турецкой стороной военной операции в сирии под названием « источник мира » . об этом рассказал американский сенатор роберт менендес на своей странице в twitter « действия турции в последний год действительно вышли за рамки дозволенного . этот законопроект ясно даст им понять , что такие действия в сирии неприемлемы , а покупка системы с-400 недопустима » , — пояснил политик .\n",
            "BLEU:  0.4483358093852308\n",
            "ROUGE:  {'rouge-1': {'f': 0.31733181247536896, 'p': 0.3031341514395033, 'r': 0.35319675634542913}, 'rouge-2': {'f': 0.1427732219026844, 'p': 0.13475932187114897, 'r': 0.16339726182715172}, 'rouge-l': {'f': 0.27154623032757463, 'p': 0.2739258120398611, 'r': 0.318604126542439}}\n"
          ]
        }
      ]
    },
    {
      "cell_type": "code",
      "metadata": {
        "colab": {
          "base_uri": "https://localhost:8080/"
        },
        "id": "HNomyNTiB30U",
        "outputId": "643969a6-e719-4546-bb17-506a1e251d0a"
      },
      "source": [
        "inference_summarunner(model_3, test_iterator, top_k=None, threshold=0.4613)\n",
        "\n",
        "# threshold=0.2\n",
        "# BLEU:  0.36227324876559175\n",
        "# ROUGE:  {'rouge-1': {'f': 0.31230971653591155, 'p': 0.2664104590954973, 'r': 0.4093459076257815}, \n",
        "#          'rouge-2': {'f': 0.13595611315111872, 'p': 0.11315700066259535, 'r': 0.18943840068133996}\n",
        "\n",
        "# threshold=0.5\n",
        "# BLEU:  0.4534097252347468\n",
        "# ROUGE:  {'rouge-1': {'f': 0.3103977923744604, 'p': 0.3480486332296393, 'r': 0.3029218802992194}, \n",
        "#          'rouge-2': {'f': 0.14407305543519439, 'p': 0.16338620538069054, 'r': 0.14250283330364036}\n",
        "\n",
        "# threshold=0.4613 - MAX - - threshold сместился в положительную сторону по сравнению с моделью без весом у лосса \n",
        "# BLEU:  0.48273751122160485\n",
        "# ROUGE:  {'rouge-1': {'f': 0.31375154684214296, 'p': 0.335958192903838, 'r': 0.31901500501873964}, \n",
        "#          'rouge-2': {'f': 0.14447485197822246, 'p': 0.15646469258066334, 'r': 0.14934646680694125}"
      ],
      "execution_count": 81,
      "outputs": [
        {
          "output_type": "stream",
          "name": "stdout",
          "text": [
            "Count: 256\n",
            "Ref: в сша обнародовали документы об украинском националисте степане бандере , согласно которым в годы второй мировой войны он работал на гитлера . это указано в статье американского издания , датированной 1951 годом . в материале подчеркивается , что бандера стал организатором этнических чисток , жертвами которых стали десятки тысяч украинцев , поляков и евреев .\n",
            "Hyp: центральное разведывательное управление ( цру ) сша обнародовало рассекреченные архивные документы о второй мировой войне и украинском националисте степане бандере . на сайте цру появилась четырехстраничная статья из журнала « социалистический вестник » , который издавался в сша в 1921—1965 годах .\n",
            "BLEU:  0.48273751122160485\n",
            "ROUGE:  {'rouge-1': {'f': 0.31375154684214324, 'p': 0.3359581929038382, 'r': 0.31901500501873975}, 'rouge-2': {'f': 0.14447485197822246, 'p': 0.15646469258066326, 'r': 0.1493464668069413}, 'rouge-l': {'f': 0.2653825595973773, 'p': 0.3026819271638248, 'r': 0.2875413219153103}}\n"
          ]
        }
      ]
    },
    {
      "cell_type": "markdown",
      "metadata": {
        "id": "kxPfDWj3B9v6"
      },
      "source": [
        "Модель_4:\n",
        "* с novelty \n",
        "* с весами в CrossEntropyLoss"
      ]
    },
    {
      "cell_type": "code",
      "metadata": {
        "colab": {
          "base_uri": "https://localhost:8080/",
          "height": 577
        },
        "id": "PAkzOFMGB8i_",
        "outputId": "53713f73-a69a-479f-fe87-5d6761dfa545"
      },
      "source": [
        "model_4 = SentenceTaggerRNN(vocab_size, use_novelty=True).to(device)\n",
        "train(model_4, True, N_EPOCHS=10, CLIP=1, lr=1e-5)"
      ],
      "execution_count": 82,
      "outputs": [
        {
          "output_type": "display_data",
          "data": {
            "image/png": "[encoded data removed]",
            "text/plain": [
              "<Figure size 864x576 with 2 Axes>"
            ]
          },
          "metadata": {
            "needs_background": "light"
          }
        },
        {
          "output_type": "stream",
          "name": "stdout",
          "text": [
            "Epoch: 10 | Time: 0m 9s\n",
            "\tTrain Loss: 0.616 | Train PPL:   1.852\n",
            "\t Val. Loss: 0.589 |  Val. PPL:   1.803\n"
          ]
        }
      ]
    },
    {
      "cell_type": "code",
      "metadata": {
        "id": "cESLd1pJhx5f",
        "colab": {
          "base_uri": "https://localhost:8080/"
        },
        "outputId": "c92739de-258c-4d29-b8c5-fd4f6372fd72"
      },
      "source": [
        "model_4.load_state_dict(torch.load('best-val-model.pt'))\n",
        "inference_summarunner(model_4, test_iterator, top_k=3, threshold=None)\n",
        "\n",
        "# BLEU:  0.4483358093852308\n",
        "# ROUGE:  {'rouge-1': {'f': 0.3173318124753688, 'p': 0.3031341514395033, 'r': 0.35319675634542924}, \n",
        "#          'rouge-2': {'f': 0.14277322190268443, 'p': 0.134759321871149, 'r': 0.16339726182715167}"
      ],
      "execution_count": 83,
      "outputs": [
        {
          "output_type": "stream",
          "name": "stdout",
          "text": [
            "Count: 256\n",
            "Ref: американская телевизионная знаменитость сделала крупные татуировки на лбу — она запечатлела имена своих двоих детей , — но не встретилась с пониманием общественности . это случилось через неделю после того , как отвечать критикам пришлось сыну супермодели синди кроуфорд , успешному манекенщику пресли герберу — он вытатуировал под глазом слово « неправильно понятый » и подвергся осуждению общественности .\n",
            "Hyp: модель и телевизионная знаменитость америки эмбер роуз , известная своим экстравагантным поведением , в очередной раз удивила публику нестандартным поступком . женщина , которая зарабатывает лицом , сделала на лбу две татуировки , о чем гордо рассказала в своем instagram . теперь на лбу у эмбер роуз навсегда крупно написано курсивом « бэш » и « слэш » , это имена двоих детей 36-летней модели , семилетнего себастиена тейлора томаса и малыша по имени слэш электрик , который родился в октябре 2019 года .\n",
            "BLEU:  0.4483358093852308\n",
            "ROUGE:  {'rouge-1': {'f': 0.3173318124753688, 'p': 0.3031341514395033, 'r': 0.35319675634542924}, 'rouge-2': {'f': 0.14277322190268443, 'p': 0.134759321871149, 'r': 0.16339726182715167}, 'rouge-l': {'f': 0.2715462303275749, 'p': 0.2739258120398611, 'r': 0.3186041265424391}}\n"
          ]
        }
      ]
    },
    {
      "cell_type": "code",
      "metadata": {
        "id": "G2Rvu0sMhx8O",
        "colab": {
          "base_uri": "https://localhost:8080/"
        },
        "outputId": "c8e579b9-9ef7-4bd6-8448-2bc425d4bfc3"
      },
      "source": [
        "inference_summarunner(model_4, test_iterator, top_k=None, threshold=0.526)\n",
        "\n",
        "# threshold=0.5\n",
        "# BLEU:  0.47190982883033844\n",
        "# ROUGE:  {'rouge-1': {'f': 0.31651199574210365, 'p': 0.3239826220953002, 'r': 0.33274268569833276},\n",
        "#          'rouge-2': {'f': 0.14448593972341747, 'p': 0.14793134023067722, 'r': 0.1555500958232655}\n",
        "\n",
        "# threshold=0.6\n",
        "# BLEU:  0.4243613567623662\n",
        "# ROUGE:  {'rouge-1': {'f': 0.31079646700337027, 'p': 0.3581805908600594, 'r': 0.2929075151641959}, \n",
        "#          'rouge-2': {'f': 0.14356774299085187, 'p': 0.16798790169149017, 'r': 0.13583125680673366}\n",
        "\n",
        "# threshold=0.4\n",
        "# BLEU:  0.4425573447651809\n",
        "# ROUGE:  {'rouge-1': {'f': 0.31775116870849257, 'p': 0.3025820858310526, 'r': 0.35603586329313364}, \n",
        "#          'rouge-2': {'f': 0.14327876837417403, 'p': 0.13479837985051718, 'r': 0.16524956919744443}\n",
        "\n",
        "# threshold=0.526 - MAX\n",
        "# BLEU:  0.48492124421374055\n",
        "# ROUGE:  {'rouge-1': {'f': 0.3159553611523527, 'p': 0.3354092643101041, 'r': 0.3219271756903319}, \n",
        "#          'rouge-2': {'f': 0.14616239973809866, 'p': 0.1569059118197795, 'r': 0.15061795519057442}"
      ],
      "execution_count": 105,
      "outputs": [
        {
          "output_type": "stream",
          "name": "stdout",
          "text": [
            "Count: 256\n",
            "Ref: в новой москве задержан мужчина , который утром 22 октября зарезал двух человек и ранил еще четырех . по предварительным данным из полиции , подозреваемый страдает наркотической зависимостью , он попросил у знакомых денег в долг , а когда те отказали , напал на них с ножом . в сети было опубликовано фото 26-летнего подозреваемого .\n",
            "Hyp: в московском регионе полицейские задержали подозреваемого в убийстве двух и ранении четырех человек . как сообщили в пресс-службе столичной полиции , преступление произошло в деревне дудкино в новой москве утром 22 октября . по предварительным данным , подозреваемый пришел в дом к своим знакомым и попросил у них деньги в долг .\n",
            "BLEU:  0.48492124421374055\n",
            "ROUGE:  {'rouge-1': {'f': 0.3159553611523527, 'p': 0.3354092643101041, 'r': 0.3219271756903319}, 'rouge-2': {'f': 0.14616239973809866, 'p': 0.1569059118197795, 'r': 0.15061795519057442}, 'rouge-l': {'f': 0.26733325734149915, 'p': 0.3010021433052971, 'r': 0.28916108406702995}}\n"
          ]
        }
      ]
    },
    {
      "cell_type": "markdown",
      "metadata": {
        "id": "HGc4IV8dzyBP"
      },
      "source": [
        "## Вывод:\n",
        "\n",
        "* При использовании метода top-k все модели на тесте показывали один и тот же результат BLEU: 0.4483. А вот использование threshold и его подбор для каждой модели позволило улучшить качество. Дальше будут наблюдения только при использовании threshold\n",
        "\n",
        "* Модели с novelty показывали лучше качество, чем модели без него\n",
        "\n",
        "* Модели с использованием весов в лоссе давали лучше качество, чем модели без весов. Модели с весами лучше всего показывали себя с threshold между 0.4 и 0.6 \n",
        "\n",
        "* Лучшее качество BLEU: 0.4849 показала модель и с novelty, и с весами в лоссе"
      ]
    },
    {
      "cell_type": "code",
      "metadata": {
        "id": "2W_9paEBAydd"
      },
      "source": [
        ""
      ],
      "execution_count": null,
      "outputs": []
    }
  ]
}